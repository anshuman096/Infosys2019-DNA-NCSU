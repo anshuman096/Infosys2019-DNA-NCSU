{
 "cells": [
  {
   "cell_type": "markdown",
   "metadata": {},
   "source": [
    "### Question 3\n",
    "Implement maximum likelihood classification in python. Input to your program is CSV\n",
    "file, with last attribute assumed to class label. You can assume all non-class attributes\n",
    "are continuous random variables. It should take two input files, training file for\n",
    "constructing model and test file to estimate various accuracy measures."
   ]
  },
  {
   "cell_type": "code",
   "execution_count": 246,
   "metadata": {},
   "outputs": [],
   "source": [
    "from sklearn import datasets\n",
    "import numpy as np\n",
    "import math"
   ]
  },
  {
   "cell_type": "code",
   "execution_count": 240,
   "metadata": {},
   "outputs": [],
   "source": [
    "# def generate_data():\n",
    "#     train1 = np.random.multivariate_normal([0.8, 0.4], \\\n",
    "#             np.diag(np.array([0.2, 0.9])), 1000).T\n",
    "#     train2 = np.random.multivariate_normal([0.8, 0.4], \\\n",
    "#             np.diag(np.array([0.2, 0.9])), 1000).T\n",
    "\n",
    "#     label = []\n",
    "#     for val in train1[0]:\n",
    "#         if val < 0.5:\n",
    "#             label.append(\"small\")\n",
    "#         else:\n",
    "#             label.append(\"big\")\n",
    "\n",
    "#     train1 = np.array(train1[0])\n",
    "#     train2 = np.array(train2[0])\n",
    "#     label = np.array(label)\n",
    "#     train = np.vstack((train1, label)).T\n",
    "#     train = np.vstack((train1, train2, label)).T\n",
    "#     return train"
   ]
  },
  {
   "cell_type": "code",
   "execution_count": 241,
   "metadata": {},
   "outputs": [],
   "source": [
    "# train = np.genfromtxt('train.csv', delimiter = ',')\n",
    "# text = np.genfromtxt('test.csv', delimiter = ',')\n",
    "train = datasets.load_iris()\n",
    "test = generate_data()\n",
    "\n",
    "vals = train[:,:-1].astype('float')\n",
    "labels = np.unique(train[:, -1])\n",
    "num_observations = len(train)\n",
    "num_labels = len(vals[0])"
   ]
  },
  {
   "cell_type": "code",
   "execution_count": 242,
   "metadata": {},
   "outputs": [
    {
     "data": {
      "text/plain": [
       "{'big': {'cov': matrix([[ 0.10483413, -0.00497568],\n",
       "          [-0.00497568,  0.19619615]]),\n",
       "  'mean': 0.8943726193085098,\n",
       "  'probability': 0.746},\n",
       " 'small': {'cov': matrix([[ 0.06216509, -0.00623131],\n",
       "          [-0.00623131,  0.19966724]]),\n",
       "  'mean': 0.556428845801507,\n",
       "  'probability': 0.254}}"
      ]
     },
     "execution_count": 242,
     "metadata": {},
     "output_type": "execute_result"
    }
   ],
   "source": [
    "# for each x value, calculate g(x) per label, and select the label with highest g(x) value\n",
    "\n",
    "# get respective means and cov matrices per label\n",
    "label_stats = {}\n",
    "\n",
    "for label in labels:\n",
    "    label_stats[label] = {}\n",
    "    # apply boolean mask\n",
    "    label_data = train[train[:, -1] == label]\n",
    "    # remove label column\n",
    "    label_data = label_data[:,:-1].astype('float')\n",
    "    num_samples = len(label_data)\n",
    "    # numpy throws a fit calculating covariance matrices of \n",
    "    # 1-d matrices (vectors). Need to flatten any 1-d matrices into arrays\n",
    "#     if label_data.shape[1] == 1:\n",
    "#         label_data = label_data.flatten()\n",
    "    #    label_data[label]['cov'] = np.cov(label_data)\n",
    "    # else:\n",
    "    label_stats[label]['mean'] = np.mean(label_data)\n",
    "    label_stats[label]['cov'] = np.asmatrix(np.cov(label_data.T))\n",
    "    label_stats[label]['probability'] = float(num_samples/num_observations)\n",
    "\n",
    "label_stats"
   ]
  },
  {
   "cell_type": "code",
   "execution_count": 244,
   "metadata": {},
   "outputs": [],
   "source": [
    "# classify each x value by selecting the max g(x) value from each label\n",
    "# label(x) = max(g(x, label1), g(x, label2), ..., g(x, labeln))\n",
    "classifier_label = []\n",
    "for x in vals:\n",
    "    # calculate g(x) per label\n",
    "    curr_label = None\n",
    "    prev_g_x = 0.0\n",
    "    max_g_x = 0.0\n",
    "    for label in label_stats:\n",
    "        stats = label_stats[label]\n",
    "        mean = stats['mean']\n",
    "        cov = stats['cov']\n",
    "        prob = stats['probability']\n",
    "        g_x = -0.5 * ((x - mean).T @ np.linalg.inv(cov) @ (x - mean))#  + np.log(prob) - (num_labels / 2) * np.log(2 * math.pi)\n",
    "        if curr_label is None:\n",
    "            curr_label = label            \n",
    "            max_g_x = g_x\n",
    "            prev_g_x = g_x\n",
    "        else:\n",
    "            prev_g_x = max_g_x\n",
    "            max_g_x = max(max_g_x, g_x)\n",
    "            if max_g_x != prev_g_x:\n",
    "                curr_label = label\n",
    "    classifier_label.append(curr_label)\n",
    "classifier_label = np.array(classifier_label)"
   ]
  },
  {
   "cell_type": "code",
   "execution_count": 245,
   "metadata": {},
   "outputs": [
    {
     "name": "stdout",
     "output_type": "stream",
     "text": [
      "unique:  ['big' 'small']\n",
      "counts:  [631 369]\n",
      "unique:  ['big' 'small']\n",
      "counts:  [746 254]\n"
     ]
    }
   ],
   "source": [
    "unique, counts = np.unique(classifier_label, return_counts = True)\n",
    "print(\"unique: \", unique)\n",
    "print(\"counts: \", counts)\n",
    "unique, counts = np.unique(train[:, -1], return_counts = True)\n",
    "print(\"unique: \", unique)\n",
    "print(\"counts: \", counts)"
   ]
  },
  {
   "cell_type": "code",
   "execution_count": 243,
   "metadata": {},
   "outputs": [
    {
     "name": "stdout",
     "output_type": "stream",
     "text": [
      "(2, 2)\n",
      "0.8943726193085098\n"
     ]
    },
    {
     "data": {
      "text/plain": [
       "matrix([[2.88323109]])"
      ]
     },
     "execution_count": 243,
     "metadata": {},
     "output_type": "execute_result"
    }
   ],
   "source": [
    "big = train[train[:, -1] == 'big'][:,:-1].astype('float')\n",
    "mean = label_stats['big']['mean']\n",
    "cov = label_stats['big']['cov']\n",
    "print(cov.shape)\n",
    "print(mean)\n",
    "(big[0] - mean).T @ np.linalg.inv(cov) @ (big[0] - mean)"
   ]
  },
  {
   "cell_type": "code",
   "execution_count": 248,
   "metadata": {},
   "outputs": [
    {
     "ename": "OSError",
     "evalue": "iris.csv not found.",
     "output_type": "error",
     "traceback": [
      "\u001b[0;31m---------------------------------------------------------------------------\u001b[0m",
      "\u001b[0;31mOSError\u001b[0m                                   Traceback (most recent call last)",
      "\u001b[0;32m<ipython-input-248-91e897122bbe>\u001b[0m in \u001b[0;36m<module>\u001b[0;34m()\u001b[0m\n\u001b[0;32m----> 1\u001b[0;31m \u001b[0mtrain\u001b[0m \u001b[0;34m=\u001b[0m \u001b[0mnp\u001b[0m\u001b[0;34m.\u001b[0m\u001b[0mgenfromtxt\u001b[0m\u001b[0;34m(\u001b[0m\u001b[0;34m'iris.csv'\u001b[0m\u001b[0;34m,\u001b[0m \u001b[0mdelimiter\u001b[0m \u001b[0;34m=\u001b[0m \u001b[0;34m','\u001b[0m\u001b[0;34m)\u001b[0m\u001b[0;34m\u001b[0m\u001b[0m\n\u001b[0m",
      "\u001b[0;32m/Library/Frameworks/Python.framework/Versions/3.5/lib/python3.5/site-packages/numpy/lib/npyio.py\u001b[0m in \u001b[0;36mgenfromtxt\u001b[0;34m(fname, dtype, comments, delimiter, skip_header, skip_footer, converters, missing_values, filling_values, usecols, names, excludelist, deletechars, replace_space, autostrip, case_sensitive, defaultfmt, unpack, usemask, loose, invalid_raise, max_rows, encoding)\u001b[0m\n\u001b[1;32m   1687\u001b[0m             \u001b[0mfname\u001b[0m \u001b[0;34m=\u001b[0m \u001b[0mstr\u001b[0m\u001b[0;34m(\u001b[0m\u001b[0mfname\u001b[0m\u001b[0;34m)\u001b[0m\u001b[0;34m\u001b[0m\u001b[0m\n\u001b[1;32m   1688\u001b[0m         \u001b[0;32mif\u001b[0m \u001b[0misinstance\u001b[0m\u001b[0;34m(\u001b[0m\u001b[0mfname\u001b[0m\u001b[0;34m,\u001b[0m \u001b[0mbasestring\u001b[0m\u001b[0;34m)\u001b[0m\u001b[0;34m:\u001b[0m\u001b[0;34m\u001b[0m\u001b[0m\n\u001b[0;32m-> 1689\u001b[0;31m             \u001b[0mfhd\u001b[0m \u001b[0;34m=\u001b[0m \u001b[0miter\u001b[0m\u001b[0;34m(\u001b[0m\u001b[0mnp\u001b[0m\u001b[0;34m.\u001b[0m\u001b[0mlib\u001b[0m\u001b[0;34m.\u001b[0m\u001b[0m_datasource\u001b[0m\u001b[0;34m.\u001b[0m\u001b[0mopen\u001b[0m\u001b[0;34m(\u001b[0m\u001b[0mfname\u001b[0m\u001b[0;34m,\u001b[0m \u001b[0;34m'rt'\u001b[0m\u001b[0;34m,\u001b[0m \u001b[0mencoding\u001b[0m\u001b[0;34m=\u001b[0m\u001b[0mencoding\u001b[0m\u001b[0;34m)\u001b[0m\u001b[0;34m)\u001b[0m\u001b[0;34m\u001b[0m\u001b[0m\n\u001b[0m\u001b[1;32m   1690\u001b[0m             \u001b[0mown_fhd\u001b[0m \u001b[0;34m=\u001b[0m \u001b[0;32mTrue\u001b[0m\u001b[0;34m\u001b[0m\u001b[0m\n\u001b[1;32m   1691\u001b[0m         \u001b[0;32melse\u001b[0m\u001b[0;34m:\u001b[0m\u001b[0;34m\u001b[0m\u001b[0m\n",
      "\u001b[0;32m/Library/Frameworks/Python.framework/Versions/3.5/lib/python3.5/site-packages/numpy/lib/_datasource.py\u001b[0m in \u001b[0;36mopen\u001b[0;34m(path, mode, destpath, encoding, newline)\u001b[0m\n\u001b[1;32m    258\u001b[0m \u001b[0;34m\u001b[0m\u001b[0m\n\u001b[1;32m    259\u001b[0m     \u001b[0mds\u001b[0m \u001b[0;34m=\u001b[0m \u001b[0mDataSource\u001b[0m\u001b[0;34m(\u001b[0m\u001b[0mdestpath\u001b[0m\u001b[0;34m)\u001b[0m\u001b[0;34m\u001b[0m\u001b[0m\n\u001b[0;32m--> 260\u001b[0;31m     \u001b[0;32mreturn\u001b[0m \u001b[0mds\u001b[0m\u001b[0;34m.\u001b[0m\u001b[0mopen\u001b[0m\u001b[0;34m(\u001b[0m\u001b[0mpath\u001b[0m\u001b[0;34m,\u001b[0m \u001b[0mmode\u001b[0m\u001b[0;34m,\u001b[0m \u001b[0mencoding\u001b[0m\u001b[0;34m=\u001b[0m\u001b[0mencoding\u001b[0m\u001b[0;34m,\u001b[0m \u001b[0mnewline\u001b[0m\u001b[0;34m=\u001b[0m\u001b[0mnewline\u001b[0m\u001b[0;34m)\u001b[0m\u001b[0;34m\u001b[0m\u001b[0m\n\u001b[0m\u001b[1;32m    261\u001b[0m \u001b[0;34m\u001b[0m\u001b[0m\n\u001b[1;32m    262\u001b[0m \u001b[0;34m\u001b[0m\u001b[0m\n",
      "\u001b[0;32m/Library/Frameworks/Python.framework/Versions/3.5/lib/python3.5/site-packages/numpy/lib/_datasource.py\u001b[0m in \u001b[0;36mopen\u001b[0;34m(self, path, mode, encoding, newline)\u001b[0m\n\u001b[1;32m    614\u001b[0m                                       encoding=encoding, newline=newline)\n\u001b[1;32m    615\u001b[0m         \u001b[0;32melse\u001b[0m\u001b[0;34m:\u001b[0m\u001b[0;34m\u001b[0m\u001b[0m\n\u001b[0;32m--> 616\u001b[0;31m             \u001b[0;32mraise\u001b[0m \u001b[0mIOError\u001b[0m\u001b[0;34m(\u001b[0m\u001b[0;34m\"%s not found.\"\u001b[0m \u001b[0;34m%\u001b[0m \u001b[0mpath\u001b[0m\u001b[0;34m)\u001b[0m\u001b[0;34m\u001b[0m\u001b[0m\n\u001b[0m\u001b[1;32m    617\u001b[0m \u001b[0;34m\u001b[0m\u001b[0m\n\u001b[1;32m    618\u001b[0m \u001b[0;34m\u001b[0m\u001b[0m\n",
      "\u001b[0;31mOSError\u001b[0m: iris.csv not found."
     ]
    }
   ],
   "source": [
    "train = np.genfromtxt('iris.csv', delimiter = ',')"
   ]
  },
  {
   "cell_type": "code",
   "execution_count": null,
   "metadata": {},
   "outputs": [],
   "source": []
  }
 ],
 "metadata": {
  "kernelspec": {
   "display_name": "Python 3",
   "language": "python",
   "name": "python3"
  },
  "language_info": {
   "codemirror_mode": {
    "name": "ipython",
    "version": 3
   },
   "file_extension": ".py",
   "mimetype": "text/x-python",
   "name": "python",
   "nbconvert_exporter": "python",
   "pygments_lexer": "ipython3",
   "version": "3.5.2"
  }
 },
 "nbformat": 4,
 "nbformat_minor": 2
}
