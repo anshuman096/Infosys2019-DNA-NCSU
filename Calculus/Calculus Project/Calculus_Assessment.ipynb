{
 "cells": [
  {
   "cell_type": "markdown",
   "metadata": {},
   "source": [
    "# Data Science for Calculus\n",
    "\n",
    "## End of course assessment\n",
    "### Instructions\n",
    "\n",
    "1. You are to complete the whole workbook.\n",
    "2. All algorithms have been provided.\n",
    "3. Ask questions during Practical Applications session.\n",
    "\n",
    "\n",
    "This is a Pass/Fail assessment. Show all your workings and comment on your choices and approaches through the assessment.\n",
    "\n",
    "The neural net diagram (see below) will serve as a guide for naming comventions throughout this workbook. Refer to this diagram constantly."
   ]
  },
  {
   "cell_type": "markdown",
   "metadata": {},
   "source": [
    "![nn](neural_net.png)"
   ]
  },
  {
   "cell_type": "markdown",
   "metadata": {},
   "source": [
    "### Imported Libraries\n",
    "\n",
    "Place all libraries used for this workbook here:"
   ]
  },
  {
   "cell_type": "code",
   "execution_count": 2,
   "metadata": {},
   "outputs": [],
   "source": [
    "import numpy as np\n",
    "import pandas as pd\n",
    "import math\n",
    "from sklearn.preprocessing import add_dummy_feature"
   ]
  },
  {
   "cell_type": "markdown",
   "metadata": {},
   "source": [
    "### Data"
   ]
  },
  {
   "cell_type": "code",
   "execution_count": 3,
   "metadata": {},
   "outputs": [],
   "source": [
    "X_train = np.array([[4.7,1.4],[4.5,1.4],[4.9,1.5],[4.0,1.3],[4.1,1.0],[5.1,1.9],[6.1,2.5],[5.5,2.1],[6.0,1.8],[5.8,1.6]])\n",
    "y_train = np.array([[1],[1],[1],[1],[1],[0],[0],[0],[0],[0]])"
   ]
  },
  {
   "cell_type": "markdown",
   "metadata": {},
   "source": [
    "### Step 1 - Data Preparation\n",
    "\n",
    "1. Review datset\n",
    "2. Clean data set if needed\n",
    "3. Comment on why you choose your particular cleaning strategy\n",
    "4. Scale dataset if needed\n",
    "5. Comment on why you choose you particular scaling strategy\n",
    "6. Display data"
   ]
  },
  {
   "cell_type": "code",
   "execution_count": 4,
   "metadata": {},
   "outputs": [
    {
     "data": {
      "text/plain": [
       "array([[4.7, 1.4],\n",
       "       [4.5, 1.4],\n",
       "       [4.9, 1.5],\n",
       "       [4. , 1.3],\n",
       "       [4.1, 1. ],\n",
       "       [5.1, 1.9],\n",
       "       [6.1, 2.5],\n",
       "       [5.5, 2.1],\n",
       "       [6. , 1.8],\n",
       "       [5.8, 1.6]])"
      ]
     },
     "execution_count": 4,
     "metadata": {},
     "output_type": "execute_result"
    }
   ],
   "source": [
    "X_train"
   ]
  },
  {
   "cell_type": "markdown",
   "metadata": {},
   "source": [
    "Data does not need to be cleaned. All rows are filled."
   ]
  },
  {
   "cell_type": "code",
   "execution_count": 5,
   "metadata": {},
   "outputs": [
    {
     "data": {
      "text/plain": [
       "array([[1. , 4.7, 1.4],\n",
       "       [1. , 4.5, 1.4],\n",
       "       [1. , 4.9, 1.5],\n",
       "       [1. , 4. , 1.3],\n",
       "       [1. , 4.1, 1. ],\n",
       "       [1. , 5.1, 1.9],\n",
       "       [1. , 6.1, 2.5],\n",
       "       [1. , 5.5, 2.1],\n",
       "       [1. , 6. , 1.8],\n",
       "       [1. , 5.8, 1.6]])"
      ]
     },
     "execution_count": 5,
     "metadata": {},
     "output_type": "execute_result"
    }
   ],
   "source": [
    "# Will add a column of ones to represent intercept input\n",
    "X_train = add_dummy_feature(X_train)\n",
    "X_train"
   ]
  },
  {
   "cell_type": "markdown",
   "metadata": {},
   "source": [
    "### Step 2 - Forward Propogation\n",
    "\n",
    "Calculate the output for each hidden node and output node using the summation operator and activation function. Show the resulting matrix for each hidden node and output node.\n",
    "\n",
    "1. Set the weights\n",
    "2. Calulate the net input to nodes H1 and H2 with the summation operator\n",
    "3. Apply the activation function to nodes H1 and H2\n",
    "4. Calculate the net input for node O1 with the summation operator\n",
    "5. Apply the activation function to node O1\n",
    "6. Display the matrices for each step\n",
    "\n",
    "\n",
    "#### Summation Operator\n",
    "\n",
    "$\\begin{align}\\sum_{i=1}^{n} (a_i W_i) + bias \\end{align}$\n",
    "\n",
    "#### Activation Function\n",
    "\n",
    "$\\begin{align}F(x) = \\frac{1}{(1+e^{-X})}\\end{align}$"
   ]
  },
  {
   "cell_type": "code",
   "execution_count": 9,
   "metadata": {},
   "outputs": [],
   "source": [
    "h1_weights = np.random.rand(3, 1)\n",
    "h2_weights = np.random.rand(3, 1)\n",
    "o1_weights = np.random.rand(3, 1)\n",
    "\n",
    "h1_input = np.asscalar(X_train[0] @ h1_weights)\n",
    "h2_input = np.asscalar(X_train[0] @ h2_weights)"
   ]
  },
  {
   "cell_type": "code",
   "execution_count": 10,
   "metadata": {},
   "outputs": [
    {
     "data": {
      "text/plain": [
       "0    1.000000\n",
       "1    0.997433\n",
       "2    0.992120\n",
       "dtype: float64"
      ]
     },
     "execution_count": 10,
     "metadata": {},
     "output_type": "execute_result"
    }
   ],
   "source": [
    "h1_activated = 1/(1 + math.exp(-h1_input))\n",
    "h2_activated = 1/(1 + math.exp(-h2_input))\n",
    "o1_vals = pd.Series([1, h1_activated, h2_activated])\n",
    "o1_vals"
   ]
  },
  {
   "cell_type": "code",
   "execution_count": 11,
   "metadata": {},
   "outputs": [
    {
     "data": {
      "text/plain": [
       "0.7246217847641618"
      ]
     },
     "execution_count": 11,
     "metadata": {},
     "output_type": "execute_result"
    }
   ],
   "source": [
    "o1 = np.asscalar(o1_vals @ o1_weights)\n",
    "o1 = 1/(1 + math.exp(-o1))\n",
    "o1"
   ]
  },
  {
   "cell_type": "markdown",
   "metadata": {},
   "source": [
    "### Step 3 - Calculate the Total Error\n",
    "\n",
    "#### Use SE as the cost function\n",
    "\n",
    "$\\begin{align} SE = \\frac{1}{2} \\sum_{i=1}^{n} (t_i - z_i)^2 \\end{align}$\n",
    "\n",
    "\"t\" is the target output and \"z\" is the actual output of the the output node.\n",
    "\n",
    "Display total error"
   ]
  },
  {
   "cell_type": "code",
   "execution_count": 12,
   "metadata": {},
   "outputs": [
    {
     "data": {
      "text/plain": [
       "array([0.03791658])"
      ]
     },
     "execution_count": 12,
     "metadata": {},
     "output_type": "execute_result"
    }
   ],
   "source": [
    "SE = ((o1 - y_train[0]) ** 2) / 2\n",
    "SE"
   ]
  },
  {
   "cell_type": "markdown",
   "metadata": {},
   "source": [
    "### Step 4 - Calculate the Gradients\n",
    "\n",
    "1. Calculate the gradients for output weights\n",
    "2. Calculate the output layer bias weights\n",
    "3. Calculate the gradients for hidden layer weights\n",
    "4. Calculate the hidden layer bias weights\n",
    "5. Display all gradients"
   ]
  },
  {
   "cell_type": "code",
   "execution_count": 16,
   "metadata": {},
   "outputs": [
    {
     "name": "stdout",
     "output_type": "stream",
     "text": [
      "w1 gradient:  [4.63728962e-05]\n",
      "w2 gradient:  [0.00014161]\n",
      "w3 gradient:  [1.38132031e-05]\n",
      "w4 gradient:  [4.21811796e-05]\n",
      "w5 gradient:  [0.00754665]\n",
      "w6 gradient:  [0.00750645]\n",
      "we1 gradient:  [9.86657366e-06]\n",
      "we2 gradient:  [3.0129414e-05]\n",
      "we3 gradient:  [0.00756607]\n"
     ]
    }
   ],
   "source": [
    "# gradient = error * (x(1 - x)) * output of previous layer\n",
    "w5_gradient = SE * (o1 * (1 - o1) * h1_activated)\n",
    "w6_gradient = SE * (o1 * (1 - o1) * h2_activated)\n",
    "we3_gradient = SE * (o1 * (1 - o1))\n",
    "we1_gradient = (h1_activated * (1 - h1_activated)) * (we3_gradient * o1_weights[0])\n",
    "we2_gradient = (h2_activated * (1 - h2_activated)) * (we3_gradient * o1_weights[0])\n",
    "w1_gradient = (h1_activated * (1 - h1_activated)) * (we3_gradient * o1_weights[0]) * X_train[0][1]\n",
    "w2_gradient = (h2_activated * (1 - h2_activated)) * (we3_gradient * o1_weights[0]) * X_train[0][1]\n",
    "w3_gradient = (h1_activated * (1 - h1_activated)) * (we3_gradient * o1_weights[0]) * (X_train[0][2])\n",
    "w4_gradient = (h2_activated * (1 - h2_activated)) * (we3_gradient * o1_weights[0]) * (X_train[0][2])\n",
    "\n",
    "print(\"w1 gradient: \", w1_gradient)\n",
    "print(\"w2 gradient: \", w2_gradient)\n",
    "print(\"w3 gradient: \", w3_gradient)\n",
    "print(\"w4 gradient: \", w4_gradient)\n",
    "print(\"w5 gradient: \", w5_gradient)\n",
    "print(\"w6 gradient: \", w6_gradient)\n",
    "print(\"we1 gradient: \", we1_gradient)\n",
    "print(\"we2 gradient: \", we2_gradient)\n",
    "print(\"we3 gradient: \", we3_gradient)"
   ]
  },
  {
   "cell_type": "markdown",
   "metadata": {},
   "source": [
    "### Step 5 - Update the weights\n",
    "\n",
    "1. Update the general weights\n",
    "2. Update the bias weights\n",
    "3. Display all weights\n",
    "\n",
    "\n",
    "*Hint!*\n",
    "\n",
    "$\\begin{align} \\begin{array}{rl} W_i \\\\ new \\end{array} = W_i - \\eta * \\frac{\\delta E}{\\delta W_i} \\end{align}$"
   ]
  },
  {
   "cell_type": "code",
   "execution_count": 19,
   "metadata": {},
   "outputs": [
    {
     "name": "stdout",
     "output_type": "stream",
     "text": [
      "h1 weights: \n",
      "[[0.05786953]\n",
      " [0.95916059]\n",
      " [0.99762454]]\n",
      "h2 weights: \n",
      "[[0.07394736]\n",
      " [0.85528997]\n",
      " [0.52982454]]\n",
      "o1 weights: \n",
      "[[0.50934735]\n",
      " [0.0232706 ]\n",
      " [0.43826423]]\n"
     ]
    }
   ],
   "source": [
    "h1_weights = h1_weights - 0.002 * np.array([we1_gradient, w1_gradient, w3_gradient])\n",
    "h2_weights = h2_weights - 0.002 * np.array([we2_gradient, w2_gradient, w4_gradient])\n",
    "o1_weights = o1_weights - 0.002 * np.array([we3_gradient, w5_gradient, w6_gradient])\n",
    "\n",
    "print(\"h1 weights: \")\n",
    "print(h1_weights)\n",
    "print(\"h2 weights: \")\n",
    "print(h2_weights)\n",
    "print(\"o1 weights: \")\n",
    "print(o1_weights)"
   ]
  }
 ],
 "metadata": {
  "kernelspec": {
   "display_name": "Python 3",
   "language": "python",
   "name": "python3"
  },
  "language_info": {
   "codemirror_mode": {
    "name": "ipython",
    "version": 3
   },
   "file_extension": ".py",
   "mimetype": "text/x-python",
   "name": "python",
   "nbconvert_exporter": "python",
   "pygments_lexer": "ipython3",
   "version": "3.5.2"
  }
 },
 "nbformat": 4,
 "nbformat_minor": 2
}
