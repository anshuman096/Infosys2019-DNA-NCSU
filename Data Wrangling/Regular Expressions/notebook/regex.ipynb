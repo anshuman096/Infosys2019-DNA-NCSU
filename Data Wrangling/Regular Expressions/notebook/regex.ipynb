{
 "cells": [
  {
   "cell_type": "markdown",
   "metadata": {},
   "source": [
    "[![Open In Colab](https://colab.research.google.com/assets/colab-badge.svg)](https://colab.research.google.com/github/googlecolab/colabtools/blob/master/notebooks/colab-github-demo.ipynb)"
   ]
  },
  {
   "cell_type": "markdown",
   "metadata": {},
   "source": [
    "# Exercise: Regular Expressions"
   ]
  },
  {
   "cell_type": "code",
   "execution_count": 11,
   "metadata": {},
   "outputs": [],
   "source": [
    "import collections\n",
    "import csv\n",
    "import re"
   ]
  },
  {
   "cell_type": "markdown",
   "metadata": {},
   "source": [
    "## Step-1: Load the airport data set\n",
    "+ Write the function `open_data_file()`:\n",
    "    - with the named input parameter, `filename`\n",
    "    - with the default value for the input parameter to be \"../data_raw/us_airports.csv\"\n",
    "+ Use `try-except` structure\n",
    "+ Return the file pointer to the open file upon success or None, otherwise"
   ]
  },
  {
   "cell_type": "code",
   "execution_count": 261,
   "metadata": {},
   "outputs": [],
   "source": [
    "# YOUR CODE GOES HERE\n",
    "def open_data_file(filename = '../data_raw/us_airports.csv'):\n",
    "    fp = None\n",
    "    try:\n",
    "        fp = open(filename, encoding = 'utf-8')\n",
    "    except OSError as e:\n",
    "        print(e)\n",
    "    finally:\n",
    "        return fp"
   ]
  },
  {
   "cell_type": "markdown",
   "metadata": {},
   "source": [
    "Here is the output from the function call(s):"
   ]
  },
  {
   "cell_type": "code",
   "execution_count": 259,
   "metadata": {},
   "outputs": [
    {
     "name": "stdout",
     "output_type": "stream",
     "text": [
      "[Errno 2] No such file or directory: 'airports.dat'\n",
      "Failed to open the data file.\n"
     ]
    }
   ],
   "source": [
    "fp = open_data_file(\"airports.dat\")\n",
    "if fp == None:\n",
    "    print(\"Failed to open the data file.\")"
   ]
  },
  {
   "cell_type": "code",
   "execution_count": 260,
   "metadata": {},
   "outputs": [
    {
     "name": "stdout",
     "output_type": "stream",
     "text": [
      "[Errno 2] No such file or directory: '../data_raw/us_airports.csv'\n"
     ]
    }
   ],
   "source": [
    "fp = open_data_file()"
   ]
  },
  {
   "cell_type": "markdown",
   "metadata": {},
   "source": [
    "## Step-2: Check the input parameters\n",
    "+ Write the function `is_valid_input()`\n",
    "+ Input parameters: `name`, `country`, and `airport_code` of type `str`\n",
    "+ Check that at least one of the input parameters is ___not___ empty; otherwise, return `False`\n",
    "+ Check that the airport code consists of 3-letters (lower or upper case is ok)\n",
    "    - Use _regular expressions_\n",
    "    - Raise the `ValueError` and Return `False` if the airport code is incorrect\n",
    "    - Return `True` if the match is correct"
   ]
  },
  {
   "cell_type": "code",
   "execution_count": 176,
   "metadata": {},
   "outputs": [],
   "source": [
    "def is_valid_input(name = \"\", country = \"\", airport_code = \"\"):\n",
    "    if name == \"\" and country == \"\" and airport_code == \"\":\n",
    "        print(\"Provide an airport name (name=) or country (country=) or 3-letter airport code (airport_code)\")\n",
    "        return False\n",
    "    else:\n",
    "        code_check = re.match(\"^[A-z]{3}$\", airport_code)\n",
    "        if code_check:\n",
    "            return True\n",
    "        else:\n",
    "            raise ValueError(\"Invalid airport code: should be three letters\")\n",
    "    "
   ]
  },
  {
   "cell_type": "markdown",
   "metadata": {},
   "source": [
    "Here are some example outputs upon testing the function:"
   ]
  },
  {
   "cell_type": "code",
   "execution_count": 177,
   "metadata": {},
   "outputs": [
    {
     "name": "stdout",
     "output_type": "stream",
     "text": [
      "Provide an airport name (name=) or country (country=) or 3-letter airport code (airport_code)\n",
      "False\n"
     ]
    }
   ],
   "source": [
    "try:\n",
    "    ret = is_valid_input ()\n",
    "    print(ret)\n",
    "except ValueError as err:\n",
    "    print('Error with {ac}: {err}'.format(ac=airport_code, err=err))"
   ]
  },
  {
   "cell_type": "code",
   "execution_count": 178,
   "metadata": {},
   "outputs": [
    {
     "name": "stdout",
     "output_type": "stream",
     "text": [
      "True\n"
     ]
    }
   ],
   "source": [
    "airport_code= 'RDU'\n",
    "try:\n",
    "    ret = is_valid_input (airport_code=airport_code)\n",
    "    print(ret)\n",
    "except ValueError as err:\n",
    "    print('Error with {ac}: {err}'.format(ac=airport_code, err=err))"
   ]
  },
  {
   "cell_type": "code",
   "execution_count": 179,
   "metadata": {},
   "outputs": [
    {
     "name": "stdout",
     "output_type": "stream",
     "text": [
      "True\n"
     ]
    }
   ],
   "source": [
    "airport_code= 'rdu'\n",
    "try:\n",
    "    ret = is_valid_input (airport_code=airport_code)\n",
    "    print(ret)\n",
    "except ValueError as err:\n",
    "    print('Error with {ac}: {err}'.format(ac=airport_code, err=err))"
   ]
  },
  {
   "cell_type": "code",
   "execution_count": 181,
   "metadata": {},
   "outputs": [
    {
     "name": "stdout",
     "output_type": "stream",
     "text": [
      "Error with Raleigh: Invalid airport code: should be three letters\n"
     ]
    }
   ],
   "source": [
    "airport_code= 'Raleigh'\n",
    "try:\n",
    "    ret = is_valid_input (airport_code=airport_code)\n",
    "    print(ret)\n",
    "except ValueError as err:\n",
    "    print('Error with {ac}: {err}'.format(ac=airport_code, err=err))"
   ]
  },
  {
   "cell_type": "markdown",
   "metadata": {},
   "source": [
    "## Step-3: Find an airport that is in the `IATA_FAA` field\n",
    "+ Write the function `find_airpot()`:\n",
    "    - Input parameters: `name`, `country`, `airport_code` and `filename`\n",
    "        * the `filename` has the default value of `../data_raw/airports.csv`\n",
    "+ Open the input file defined by filename using your previous function\n",
    "+ Check if the other input parameters are valid using your previous function\n",
    "+ If the airport_code is found to be valid:\n",
    "    - read each line from the csv file: `csv.reader(fp)` \n",
    "    - check if the airport code is in the `IATA_FAA` field.  \n",
    "        * If so, then add the line to the list of the results found\n",
    "    - Return the list of resulting line(s)"
   ]
  },
  {
   "cell_type": "code",
   "execution_count": 306,
   "metadata": {},
   "outputs": [],
   "source": [
    "def find_airport(name='', country='', airport_code='', filename='../data_raw/airports.csv'):\n",
    "    # Open the data file for reading:\n",
    "    fp = open_data_file(filename)\n",
    "    if fp == None:\n",
    "        return\n",
    "    # Check if input parameters are valid\n",
    "    try:\n",
    "        ret = is_valid_input(name, country, airport_code = airport_code)\n",
    "        if not ret:\n",
    "            return\n",
    "    except ValueError as err:\n",
    "        print('Error with {ac}: {err}'.format(ac=airport_code, err=err))\n",
    "        return\n",
    "    # Generate results\n",
    "    results = []\n",
    "    try:\n",
    "        headings = fp.readline().strip()[1:].split(',') # [1:] is stripping the \\ufeff byte order mark out.\n",
    "        attributes_tuple = ' '.join([heading.strip() for heading in headings])\n",
    "        print (\"HEADER: {}\".format(attributes_tuple))\n",
    "        Airport = collections.namedtuple('Airport', attributes_tuple)\n",
    "        \n",
    "        # Process one row at a time from the list  returned by csv.reader() function\n",
    "        reader = csv.reader(fp)\n",
    "        for row in reader:\n",
    "            curr_code = row[4]\n",
    "            if(curr_code == airport_code.upper()):\n",
    "                print(\"FOUND: \", row)\n",
    "                airport_str = row[1] + ' (' + row[2] + ', ' + row[3] + ') Abbr: ' + row[4]\n",
    "                results.append(airport_str)\n",
    "        print(\"RESULTS: \")\n",
    "        return results\n",
    "        \n",
    "    # YOUR except clause GOES here\n",
    "    except Exception as e:\n",
    "        print(e)\n",
    "    \n",
    "        \n"
   ]
  },
  {
   "cell_type": "markdown",
   "metadata": {},
   "source": [
    "Here are example outputs for different invocations of the function:"
   ]
  },
  {
   "cell_type": "code",
   "execution_count": 307,
   "metadata": {},
   "outputs": [
    {
     "name": "stdout",
     "output_type": "stream",
     "text": [
      "Provide an airport name (name=) or country (country=) or 3-letter airport code (airport_code)\n"
     ]
    }
   ],
   "source": [
    "# invalid inputs\n",
    "find_airport()"
   ]
  },
  {
   "cell_type": "code",
   "execution_count": 308,
   "metadata": {},
   "outputs": [
    {
     "name": "stdout",
     "output_type": "stream",
     "text": [
      "[Errno 2] No such file or directory: 'us_airports.dat'\n"
     ]
    }
   ],
   "source": [
    "# invalid filename\n",
    "find_airport(filename=\"us_airports.dat\")"
   ]
  },
  {
   "cell_type": "code",
   "execution_count": 309,
   "metadata": {},
   "outputs": [
    {
     "name": "stdout",
     "output_type": "stream",
     "text": [
      "Error with Raleigh: Invalid airport code: should be three letters\n"
     ]
    }
   ],
   "source": [
    "# invalid airport code\n",
    "find_airport(airport_code=\"Raleigh\")"
   ]
  },
  {
   "cell_type": "code",
   "execution_count": 310,
   "metadata": {},
   "outputs": [
    {
     "name": "stdout",
     "output_type": "stream",
     "text": [
      "HEADER: airportid name city country IATA_FAA ICAO latitude longitude altitude timezone dst tz\n",
      "FOUND:  ['8770', 'Wyk auf Foehr', 'Wyk', 'Germany', 'OHR', '\\\\N', '54.411', '8.3145', '24', '1', 'E', 'Europe/Berlin']\n",
      "RESULTS: \n"
     ]
    },
    {
     "data": {
      "text/plain": [
       "['Wyk auf Foehr (Wyk, Germany) Abbr: OHR']"
      ]
     },
     "execution_count": 310,
     "metadata": {},
     "output_type": "execute_result"
    }
   ],
   "source": [
    "find_airport(airport_code=\"OHR\")"
   ]
  },
  {
   "cell_type": "code",
   "execution_count": 311,
   "metadata": {},
   "outputs": [
    {
     "name": "stdout",
     "output_type": "stream",
     "text": [
      "HEADER: airportid name city country IATA_FAA ICAO latitude longitude altitude timezone dst tz\n",
      "FOUND:  ['3830', 'Chicago Ohare Intl', 'Chicago', 'United States', 'ORD', 'KORD', '41.978603', '-87.904842', '668', '-6', 'A', 'America/Chicago']\n",
      "RESULTS: \n"
     ]
    },
    {
     "data": {
      "text/plain": [
       "['Chicago Ohare Intl (Chicago, United States) Abbr: ORD']"
      ]
     },
     "execution_count": 311,
     "metadata": {},
     "output_type": "execute_result"
    }
   ],
   "source": [
    "find_airport(airport_code='ord')"
   ]
  },
  {
   "cell_type": "code",
   "execution_count": 312,
   "metadata": {},
   "outputs": [
    {
     "name": "stdout",
     "output_type": "stream",
     "text": [
      "HEADER: airportid name city country IATA_FAA ICAO latitude longitude altitude timezone dst tz\n",
      "FOUND:  ['3830', 'Chicago Ohare Intl', 'Chicago', 'United States', 'ORD', 'KORD', '41.978603', '-87.904842', '668', '-6', 'A', 'America/Chicago']\n",
      "RESULTS: \n"
     ]
    },
    {
     "data": {
      "text/plain": [
       "['Chicago Ohare Intl (Chicago, United States) Abbr: ORD']"
      ]
     },
     "execution_count": 312,
     "metadata": {},
     "output_type": "execute_result"
    }
   ],
   "source": [
    "find_airport(airport_code='ORD')"
   ]
  },
  {
   "cell_type": "code",
   "execution_count": 313,
   "metadata": {},
   "outputs": [
    {
     "name": "stdout",
     "output_type": "stream",
     "text": [
      "Error with abcd: Invalid airport code: should be three letters\n"
     ]
    }
   ],
   "source": [
    "find_airport(airport_code='abcd')"
   ]
  },
  {
   "cell_type": "code",
   "execution_count": 314,
   "metadata": {},
   "outputs": [
    {
     "name": "stdout",
     "output_type": "stream",
     "text": [
      "Error with 123: Invalid airport code: should be three letters\n"
     ]
    }
   ],
   "source": [
    "find_airport(airport_code='123')"
   ]
  },
  {
   "cell_type": "code",
   "execution_count": 315,
   "metadata": {},
   "outputs": [
    {
     "name": "stdout",
     "output_type": "stream",
     "text": [
      "HEADER: airportid name city country IATA_FAA ICAO latitude longitude altitude timezone dst tz\n",
      "RESULTS: \n"
     ]
    },
    {
     "data": {
      "text/plain": [
       "[]"
      ]
     },
     "execution_count": 315,
     "metadata": {},
     "output_type": "execute_result"
    }
   ],
   "source": [
    "find_airport(airport_code='foo')"
   ]
  },
  {
   "cell_type": "code",
   "execution_count": null,
   "metadata": {},
   "outputs": [],
   "source": []
  }
 ],
 "metadata": {
  "kernelspec": {
   "display_name": "Python 3",
   "language": "python",
   "name": "python3"
  },
  "language_info": {
   "codemirror_mode": {
    "name": "ipython",
    "version": 3
   },
   "file_extension": ".py",
   "mimetype": "text/x-python",
   "name": "python",
   "nbconvert_exporter": "python",
   "pygments_lexer": "ipython3",
   "version": "3.5.2"
  }
 },
 "nbformat": 4,
 "nbformat_minor": 2
}
