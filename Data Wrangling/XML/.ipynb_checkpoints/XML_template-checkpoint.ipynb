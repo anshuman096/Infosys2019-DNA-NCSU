{
 "cells": [
  {
   "cell_type": "markdown",
   "metadata": {},
   "source": [
    "# Exercise: XML"
   ]
  },
  {
   "cell_type": "code",
   "execution_count": 56,
   "metadata": {},
   "outputs": [
    {
     "name": "stdout",
     "output_type": "stream",
     "text": [
      "The autoreload extension is already loaded. To reload it, use:\n",
      "  %reload_ext autoreload\n"
     ]
    }
   ],
   "source": [
    "import os.path\n",
    "\n",
    "%load_ext autoreload\n",
    "%autoreload 2"
   ]
  },
  {
   "cell_type": "markdown",
   "metadata": {},
   "source": [
    "## Define Inputs and Outputs"
   ]
  },
  {
   "cell_type": "code",
   "execution_count": 62,
   "metadata": {},
   "outputs": [],
   "source": [
    "# INPUT\n",
    "raw_data_dir = 'data_raw'\n",
    "\n",
    "master_filename = 'xml_master.csv'\n",
    "salaries_filename = 'xml_salaries.csv'\n",
    "salfile_fullpath = os.path.join(raw_data_dir, salaries_filename)\n",
    "mastfile_fullpath = os.path.join(raw_data_dir, master_filename)\n",
    "\n",
    "# OUTPUT\n",
    "output_data_dir = \"data_output\"\n",
    "xml_filename = os.path.join(output_data_dir,'xml_results.xml')\n",
    "results_filename = os.path.join(output_data_dir,'xml_results.txt')"
   ]
  },
  {
   "cell_type": "markdown",
   "metadata": {},
   "source": [
    "## Step-1: Access the Provided Module and its APIs"
   ]
  },
  {
   "cell_type": "markdown",
   "metadata": {},
   "source": [
    "+ Open `baseball.py` module located in the `./support` sub-directory of the working directory\n",
    "+ Import the following functions from this module: \n",
    "```python\n",
    "get_search_year, get_record_count, retrieve_data, print_report\n",
    "```\n",
    "+ Call each of these functions with the default input argument values"
   ]
  },
  {
   "cell_type": "code",
   "execution_count": 63,
   "metadata": {},
   "outputs": [],
   "source": [
    "import sys\n",
    "sys.path.insert(0, os.path.join('support'))\n",
    "from baseball import get_search_year, get_record_count, retrieve_data, print_report"
   ]
  },
  {
   "cell_type": "code",
   "execution_count": 64,
   "metadata": {},
   "outputs": [
    {
     "data": {
      "text/plain": [
       "[['Mike', 'Schmidt', 2130300.0, 1985],\n",
       " ['Gary', 'Carter', 2028571.0, 1985],\n",
       " ['George', 'Foster', 1942857.0, 1985],\n",
       " ['Dave', 'Winfield', 1795704.0, 1985],\n",
       " ['Rich', 'Gossage', 1713333.0, 1985],\n",
       " ['Dale', 'Murphy', 1625000.0, 1985],\n",
       " ['Jack', 'Clark', 1555000.0, 1985],\n",
       " ['Bob', 'Horner', 1500000.0, 1985],\n",
       " ['Eddie', 'Murray', 1472819.0, 1985],\n",
       " ['Rickey', 'Henderson', 1470000.0, 1985]]"
      ]
     },
     "execution_count": 64,
     "metadata": {},
     "output_type": "execute_result"
    }
   ],
   "source": [
    "top_sals = retrieve_data(salfile_fullpath, mastfile_fullpath)\n",
    "top_sals"
   ]
  },
  {
   "cell_type": "markdown",
   "metadata": {},
   "source": [
    "## Step-2: Create XML\n",
    "+ Add a new function, called `create_xml()`, to this module:\n",
    "    - Inputs: \n",
    "        * top_sals (data structure containing the top players and salaries, returned from `retrieve_data()` function)\n",
    "        * the `xml_file_name`: the name of the XML filename to be used to create the XML file, the default name is `../data_output/xml_results.xml`\n",
    "        \n",
    "+ Import the newly created function from this module\n",
    "+ Make a call to your `create_xml(top_sals, xml_filename)`"
   ]
  },
  {
   "cell_type": "code",
   "execution_count": 73,
   "metadata": {},
   "outputs": [],
   "source": [
    "from baseball import create_xml"
   ]
  },
  {
   "cell_type": "code",
   "execution_count": 74,
   "metadata": {},
   "outputs": [],
   "source": [
    "create_xml(top_sals, xml_filename)\n",
    "create_xml(top_sals, results_filename)"
   ]
  },
  {
   "cell_type": "markdown",
   "metadata": {},
   "source": [
    "## Step-3: Test out the created XML file"
   ]
  },
  {
   "cell_type": "code",
   "execution_count": 75,
   "metadata": {},
   "outputs": [],
   "source": [
    "def test_results(filename):\n",
    "    try:\n",
    "        with open(filename) as f_test:  # read the results back to verify them\n",
    "            for line in f_test:\n",
    "                print(line.rstrip())\n",
    "    except IOError as e:\n",
    "        print(e)"
   ]
  },
  {
   "cell_type": "code",
   "execution_count": 76,
   "metadata": {},
   "outputs": [
    {
     "name": "stdout",
     "output_type": "stream",
     "text": [
      "<?xml version=\"1.0\" ?>\n",
      "<players>\n",
      "   <player year=\"1985\">\n",
      "      <firstname>Mike</firstname>\n",
      "      <lastname>Schmidt</lastname>\n",
      "      <salary>$2130300.0</salary>\n",
      "   </player>\n",
      "   <player year=\"1985\">\n",
      "      <firstname>Gary</firstname>\n",
      "      <lastname>Carter</lastname>\n",
      "      <salary>$2028571.0</salary>\n",
      "   </player>\n",
      "   <player year=\"1985\">\n",
      "      <firstname>George</firstname>\n",
      "      <lastname>Foster</lastname>\n",
      "      <salary>$1942857.0</salary>\n",
      "   </player>\n",
      "   <player year=\"1985\">\n",
      "      <firstname>Dave</firstname>\n",
      "      <lastname>Winfield</lastname>\n",
      "      <salary>$1795704.0</salary>\n",
      "   </player>\n",
      "   <player year=\"1985\">\n",
      "      <firstname>Rich</firstname>\n",
      "      <lastname>Gossage</lastname>\n",
      "      <salary>$1713333.0</salary>\n",
      "   </player>\n",
      "   <player year=\"1985\">\n",
      "      <firstname>Dale</firstname>\n",
      "      <lastname>Murphy</lastname>\n",
      "      <salary>$1625000.0</salary>\n",
      "   </player>\n",
      "   <player year=\"1985\">\n",
      "      <firstname>Jack</firstname>\n",
      "      <lastname>Clark</lastname>\n",
      "      <salary>$1555000.0</salary>\n",
      "   </player>\n",
      "   <player year=\"1985\">\n",
      "      <firstname>Bob</firstname>\n",
      "      <lastname>Horner</lastname>\n",
      "      <salary>$1500000.0</salary>\n",
      "   </player>\n",
      "   <player year=\"1985\">\n",
      "      <firstname>Eddie</firstname>\n",
      "      <lastname>Murray</lastname>\n",
      "      <salary>$1472819.0</salary>\n",
      "   </player>\n",
      "   <player year=\"1985\">\n",
      "      <firstname>Rickey</firstname>\n",
      "      <lastname>Henderson</lastname>\n",
      "      <salary>$1470000.0</salary>\n",
      "   </player>\n",
      "</players>\n"
     ]
    }
   ],
   "source": [
    "test_results(results_filename)"
   ]
  },
  {
   "cell_type": "code",
   "execution_count": 77,
   "metadata": {},
   "outputs": [
    {
     "name": "stdout",
     "output_type": "stream",
     "text": [
      "<?xml version=\"1.0\" ?>\n",
      "<players>\n",
      "   <player year=\"1985\">\n",
      "      <firstname>Mike</firstname>\n",
      "      <lastname>Schmidt</lastname>\n",
      "      <salary>$2130300.0</salary>\n",
      "   </player>\n",
      "   <player year=\"1985\">\n",
      "      <firstname>Gary</firstname>\n",
      "      <lastname>Carter</lastname>\n",
      "      <salary>$2028571.0</salary>\n",
      "   </player>\n",
      "   <player year=\"1985\">\n",
      "      <firstname>George</firstname>\n",
      "      <lastname>Foster</lastname>\n",
      "      <salary>$1942857.0</salary>\n",
      "   </player>\n",
      "   <player year=\"1985\">\n",
      "      <firstname>Dave</firstname>\n",
      "      <lastname>Winfield</lastname>\n",
      "      <salary>$1795704.0</salary>\n",
      "   </player>\n",
      "   <player year=\"1985\">\n",
      "      <firstname>Rich</firstname>\n",
      "      <lastname>Gossage</lastname>\n",
      "      <salary>$1713333.0</salary>\n",
      "   </player>\n",
      "   <player year=\"1985\">\n",
      "      <firstname>Dale</firstname>\n",
      "      <lastname>Murphy</lastname>\n",
      "      <salary>$1625000.0</salary>\n",
      "   </player>\n",
      "   <player year=\"1985\">\n",
      "      <firstname>Jack</firstname>\n",
      "      <lastname>Clark</lastname>\n",
      "      <salary>$1555000.0</salary>\n",
      "   </player>\n",
      "   <player year=\"1985\">\n",
      "      <firstname>Bob</firstname>\n",
      "      <lastname>Horner</lastname>\n",
      "      <salary>$1500000.0</salary>\n",
      "   </player>\n",
      "   <player year=\"1985\">\n",
      "      <firstname>Eddie</firstname>\n",
      "      <lastname>Murray</lastname>\n",
      "      <salary>$1472819.0</salary>\n",
      "   </player>\n",
      "   <player year=\"1985\">\n",
      "      <firstname>Rickey</firstname>\n",
      "      <lastname>Henderson</lastname>\n",
      "      <salary>$1470000.0</salary>\n",
      "   </player>\n",
      "</players>\n"
     ]
    }
   ],
   "source": [
    "test_results(xml_filename)"
   ]
  },
  {
   "cell_type": "code",
   "execution_count": null,
   "metadata": {},
   "outputs": [],
   "source": []
  }
 ],
 "metadata": {
  "kernelspec": {
   "display_name": "Python 2",
   "language": "python",
   "name": "python2"
  },
  "language_info": {
   "codemirror_mode": {
    "name": "ipython",
    "version": 2
   },
   "file_extension": ".py",
   "mimetype": "text/x-python",
   "name": "python",
   "nbconvert_exporter": "python",
   "pygments_lexer": "ipython2",
   "version": "2.7.14"
  }
 },
 "nbformat": 4,
 "nbformat_minor": 2
}
