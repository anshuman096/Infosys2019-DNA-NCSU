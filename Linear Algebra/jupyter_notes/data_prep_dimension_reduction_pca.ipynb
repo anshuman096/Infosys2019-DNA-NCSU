{
 "cells": [
  {
   "cell_type": "markdown",
   "metadata": {},
   "source": [
    "# Dimension Reduction: PCA: Principal Component Analysis"
   ]
  },
  {
   "cell_type": "markdown",
   "metadata": {},
   "source": [
    "* __Author: Prof. Nagiza F. Samatova__\n",
    "* __Email: samatova@csc.ncsu.edu__\n",
    "* __Date: November 8, 2018__"
   ]
  },
  {
   "cell_type": "code",
   "execution_count": 2,
   "metadata": {},
   "outputs": [],
   "source": [
    "import mglearn\n",
    "\n",
    "import numpy as np\n",
    "import matplotlib.pyplot as plt\n",
    "from mpl_toolkits.mplot3d import Axes3D\n",
    "\n",
    "import sklearn.decomposition as decomposition\n",
    "from sklearn import datasets\n",
    "\n",
    "# Read more:\n",
    "#https://scikit-learn.org/stable/modules/generated/sklearn.decomposition.PCA.html\n",
    "#https://scikit-learn.org/stable/auto_examples/decomposition/plot_pca_iris.html"
   ]
  },
  {
   "cell_type": "markdown",
   "metadata": {},
   "source": [
    "+ __Create a Synthetic Data Set__"
   ]
  },
  {
   "cell_type": "code",
   "execution_count": 3,
   "metadata": {},
   "outputs": [
    {
     "name": "stdout",
     "output_type": "stream",
     "text": [
      "[[3 3]\n",
      " [3 1]\n",
      " [3 5]\n",
      " [4 4]\n",
      " [2 2]\n",
      " [1 1]]\n"
     ]
    },
    {
     "data": {
      "image/png": "[encoded data removed]",
      "text/plain": [
       "<matplotlib.figure.Figure at 0x2028674b4e0>"
      ]
     },
     "metadata": {},
     "output_type": "display_data"
    }
   ],
   "source": [
    "a = [3,3]\n",
    "b = [3,1]\n",
    "c = [3,5]\n",
    "d = [4,4]\n",
    "e = [2,2]\n",
    "f = [1,1]\n",
    "\n",
    "X = np.array([a,b,c,d,e,f])\n",
    "print (X)\n",
    "\n",
    "# plot (X[,1], X[,2])\n",
    "plt.plot(X[:,0],X[:,1],'bo')\n",
    "plt.xlabel(\"Dimension-1\")\n",
    "plt.ylabel(\"Dimension-2\")\n",
    "plt.title(\"Synthetic Data set of 6 Points\")\n",
    "plt.show()"
   ]
  },
  {
   "cell_type": "markdown",
   "metadata": {},
   "source": [
    "+ __Measure Total Variance in the Data __\n",
    "    - variance-covariance matrix\n",
    "    - with diagonal elements showing the variance within columns"
   ]
  },
  {
   "cell_type": "code",
   "execution_count": 4,
   "metadata": {},
   "outputs": [
    {
     "data": {
      "text/plain": [
       "array([[1.06666667, 1.06666667],\n",
       "       [1.06666667, 2.66666667]])"
      ]
     },
     "execution_count": 4,
     "metadata": {},
     "output_type": "execute_result"
    }
   ],
   "source": [
    "Cov_X = np.cov(X.T)\n",
    "Cov_X"
   ]
  },
  {
   "cell_type": "code",
   "execution_count": 5,
   "metadata": {},
   "outputs": [
    {
     "name": "stdout",
     "output_type": "stream",
     "text": [
      "3.733 : Total Variance in the Data\n"
     ]
    }
   ],
   "source": [
    "# Total variance: sum of diagonal elements \n",
    "total_variance = np.sum(np.diag(Cov_X))\n",
    "print(\"{:.3f} : Total Variance in the Data\".format(total_variance))"
   ]
  },
  {
   "cell_type": "markdown",
   "metadata": {},
   "source": [
    "+ __Identity Matrix__ \n",
    "    + _Identity_ matrix: diagonal elements are 1, and off diagonal elements are zero\n",
    "        * The product of a matrix and identity matrix is the original matrix"
   ]
  },
  {
   "cell_type": "code",
   "execution_count": 6,
   "metadata": {},
   "outputs": [
    {
     "data": {
      "text/plain": [
       "array([[1, 0],\n",
       "       [0, 1]])"
      ]
     },
     "execution_count": 6,
     "metadata": {},
     "output_type": "execute_result"
    }
   ],
   "source": [
    "I = np.diag([1,1])\n",
    "I"
   ]
  },
  {
   "cell_type": "code",
   "execution_count": 7,
   "metadata": {},
   "outputs": [
    {
     "data": {
      "text/plain": [
       "array([[3, 3],\n",
       "       [3, 1],\n",
       "       [3, 5],\n",
       "       [4, 4],\n",
       "       [2, 2],\n",
       "       [1, 1]])"
      ]
     },
     "execution_count": 7,
     "metadata": {},
     "output_type": "execute_result"
    }
   ],
   "source": [
    "# identity matrix does not change X when multiplied with X\n",
    "np.matmul(X,I)"
   ]
  },
  {
   "cell_type": "code",
   "execution_count": 8,
   "metadata": {},
   "outputs": [
    {
     "data": {
      "text/plain": [
       "array([[3, 3],\n",
       "       [3, 1],\n",
       "       [3, 5],\n",
       "       [4, 4],\n",
       "       [2, 2],\n",
       "       [1, 1]])"
      ]
     },
     "execution_count": 8,
     "metadata": {},
     "output_type": "execute_result"
    }
   ],
   "source": [
    "X"
   ]
  },
  {
   "cell_type": "markdown",
   "metadata": {},
   "source": [
    "+ __Projection Matrix__ \n",
    "    + _Projection_ matrix: one or more diagnoal elements of the identity matrix are zero\n",
    "        * Product of projection matrix with matrix X is the same as:\n",
    "            - keeping only those dimensions of X for which projection's matrix has noon-zero diagonal value"
   ]
  },
  {
   "cell_type": "code",
   "execution_count": 9,
   "metadata": {},
   "outputs": [
    {
     "data": {
      "text/plain": [
       "array([[1, 0],\n",
       "       [0, 0]])"
      ]
     },
     "execution_count": 9,
     "metadata": {},
     "output_type": "execute_result"
    }
   ],
   "source": [
    "P = I\n",
    "P[1, 1] = 0\n",
    "P"
   ]
  },
  {
   "cell_type": "markdown",
   "metadata": {},
   "source": [
    "+ __Project X onto the First Dimension__\n",
    "    - Multiple X with the projection matrix:\n",
    "        * with 1 in the dirst diagonal element and \n",
    "        * zeros for the rest diagonal elements"
   ]
  },
  {
   "cell_type": "code",
   "execution_count": 10,
   "metadata": {},
   "outputs": [
    {
     "data": {
      "text/plain": [
       "array([[3, 0],\n",
       "       [3, 0],\n",
       "       [3, 0],\n",
       "       [4, 0],\n",
       "       [2, 0],\n",
       "       [1, 0]])"
      ]
     },
     "execution_count": 10,
     "metadata": {},
     "output_type": "execute_result"
    }
   ],
   "source": [
    "P_X = np.matmul(X,P)\n",
    "P_X"
   ]
  },
  {
   "cell_type": "code",
   "execution_count": 11,
   "metadata": {},
   "outputs": [
    {
     "data": {
      "image/png": "[encoded data removed]",
      "text/plain": [
       "<matplotlib.figure.Figure at 0x202826b4128>"
      ]
     },
     "metadata": {},
     "output_type": "display_data"
    }
   ],
   "source": [
    "plt.plot(P_X[:,0],P_X[:,1],'bo')\n",
    "plt.show()"
   ]
  },
  {
   "cell_type": "markdown",
   "metadata": {},
   "source": [
    "__Observations__:\n",
    "* Projection on the first axis, arranged the data on a line (1D)\n",
    "* All the points have value 0 for the second dimension\n",
    "* The number of visible pointes reduced form 6 to 4\n",
    "* Because some points are mapped to the same points:\n",
    "    - as they have the same value for the first dimension\n",
    "    - this collision leads to information loss: b\n",
    "        * before such points were distinct, separable\n",
    "        * now after the information loss, they became non-distinguishable"
   ]
  },
  {
   "cell_type": "markdown",
   "metadata": {},
   "source": [
    "+ __Measure the Amount of Variance Preserved in the Projected Data__\n",
    "    - Let's quantify the amount of information loss\n",
    "    - By measure the amount of variance lost or preserved after dimension reduction"
   ]
  },
  {
   "cell_type": "code",
   "execution_count": 12,
   "metadata": {},
   "outputs": [
    {
     "data": {
      "text/plain": [
       "array([[1.06666667, 0.        ],\n",
       "       [0.        , 0.        ]])"
      ]
     },
     "execution_count": 12,
     "metadata": {},
     "output_type": "execute_result"
    }
   ],
   "source": [
    "Cov_P_X = np.cov(P_X.T)\n",
    "Cov_P_X"
   ]
  },
  {
   "cell_type": "code",
   "execution_count": 13,
   "metadata": {},
   "outputs": [
    {
     "name": "stdout",
     "output_type": "stream",
     "text": [
      "1.067 : Preserved variance\n"
     ]
    }
   ],
   "source": [
    "preserved_variance = sum(np.diag(Cov_P_X))\n",
    "print (\"{:.3f} : Preserved variance\".format(preserved_variance))"
   ]
  },
  {
   "cell_type": "markdown",
   "metadata": {},
   "source": [
    "+ __Measure Percentage of Variance Preserved__"
   ]
  },
  {
   "cell_type": "code",
   "execution_count": 14,
   "metadata": {},
   "outputs": [
    {
     "name": "stdout",
     "output_type": "stream",
     "text": [
      "28.571% : Percentage of the total variance preserved after projecting onto the first dimension\n"
     ]
    }
   ],
   "source": [
    "percentage_preserved_variance = 100 * (preserved_variance / total_variance)\n",
    "print (\"{:.3f}% : Percentage of the total variance preserved after projecting onto the first dimension\".format(percentage_preserved_variance))"
   ]
  },
  {
   "cell_type": "markdown",
   "metadata": {},
   "source": [
    "__Observations:__\n",
    "+ Only 28% of the original variance was preserved after projecting the data onto the first dimension\n",
    "> Is there a _better_ way to reduce dimensionality while maximally preserving the variability in the data?"
   ]
  },
  {
   "cell_type": "markdown",
   "metadata": {},
   "source": [
    "## PCA for Dimension Reduction"
   ]
  },
  {
   "cell_type": "markdown",
   "metadata": {},
   "source": [
    "+ __Create a PCA object and fit a PCA Model to the Original Data__"
   ]
  },
  {
   "cell_type": "code",
   "execution_count": 15,
   "metadata": {},
   "outputs": [
    {
     "data": {
      "text/plain": [
       "PCA(copy=True, iterated_power='auto', n_components=2, random_state=None,\n",
       "  svd_solver='full', tol=0.0, whiten=False)"
      ]
     },
     "execution_count": 15,
     "metadata": {},
     "output_type": "execute_result"
    }
   ],
   "source": [
    "pca = decomposition.PCA (n_components=2,svd_solver='full')\n",
    "pca_model = pca.fit(X)\n",
    "pca_model"
   ]
  },
  {
   "cell_type": "code",
   "execution_count": 16,
   "metadata": {},
   "outputs": [],
   "source": [
    "# read PCA documentation\n",
    "decomposition.PCA?"
   ]
  },
  {
   "cell_type": "markdown",
   "metadata": {},
   "source": [
    "+ __Rotate / Transform X using the Rotation Matrix of the PCA Model__\n",
    "    - Note that rotation does ___not___ change the data:\n",
    "        * it preserved the relationship between the points such as distances, engles, variances\n",
    "        * it is an _isotropic_ transformation: data points are kep ___as is___; only the axes rotate\n",
    "    - It literally rotates the coordinate axes while keeping the original data intact\n",
    "    - It re-expresses the original coordinates of the data in terms of the new rotated coordinate axes"
   ]
  },
  {
   "cell_type": "markdown",
   "metadata": {},
   "source": [
    "> The new, rotated axes from the `pca_model`, are called ___Principal Components___, or ___PC___"
   ]
  },
  {
   "cell_type": "code",
   "execution_count": 17,
   "metadata": {},
   "outputs": [
    {
     "data": {
      "text/plain": [
       "array([[ 0.4472136 ,  0.1490712 ],\n",
       "       [-1.34164079,  1.04349839],\n",
       "       [ 2.23606798, -0.74535599],\n",
       "       [ 1.78885438,  0.59628479],\n",
       "       [-0.89442719, -0.2981424 ],\n",
       "       [-2.23606798, -0.74535599]])"
      ]
     },
     "execution_count": 17,
     "metadata": {},
     "output_type": "execute_result"
    }
   ],
   "source": [
    "# Coordinates of the points after rotation\n",
    "X_rotated = pca_model.transform(X)\n",
    "X_rotated"
   ]
  },
  {
   "cell_type": "code",
   "execution_count": 18,
   "metadata": {},
   "outputs": [
    {
     "data": {
      "text/plain": [
       "array([[3, 3],\n",
       "       [3, 1],\n",
       "       [3, 5],\n",
       "       [4, 4],\n",
       "       [2, 2],\n",
       "       [1, 1]])"
      ]
     },
     "execution_count": 18,
     "metadata": {},
     "output_type": "execute_result"
    }
   ],
   "source": [
    "# Coordinates of the points before rotation\n",
    "X"
   ]
  },
  {
   "cell_type": "markdown",
   "metadata": {},
   "source": [
    "+ __Confirm that the Total Variance of Rotated Data is the Same as the Original Data__"
   ]
  },
  {
   "cell_type": "code",
   "execution_count": 19,
   "metadata": {},
   "outputs": [
    {
     "name": "stdout",
     "output_type": "stream",
     "text": [
      "3.733 : Total Variance of the Rotated Data\n",
      "3.733 : Total Variance in the Original Data\n"
     ]
    }
   ],
   "source": [
    "total_variance_rotated = np.sum(np.diag(np.cov(X_rotated.T)))\n",
    "print(\"{:.3f} : Total Variance of the Rotated Data\".format(total_variance_rotated))\n",
    "print(\"{:.3f} : Total Variance in the Original Data\".format(total_variance))"
   ]
  },
  {
   "cell_type": "markdown",
   "metadata": {},
   "source": [
    "+ __Project Rotated Data onto the First Dimension__"
   ]
  },
  {
   "cell_type": "code",
   "execution_count": 20,
   "metadata": {},
   "outputs": [
    {
     "data": {
      "text/plain": [
       "array([[ 0.4472136 ,  0.        ],\n",
       "       [-1.34164079,  0.        ],\n",
       "       [ 2.23606798,  0.        ],\n",
       "       [ 1.78885438,  0.        ],\n",
       "       [-0.89442719,  0.        ],\n",
       "       [-2.23606798,  0.        ]])"
      ]
     },
     "execution_count": 20,
     "metadata": {},
     "output_type": "execute_result"
    }
   ],
   "source": [
    "P_X_rot = np.matmul(X_rotated,P)\n",
    "P_X_rot"
   ]
  },
  {
   "cell_type": "code",
   "execution_count": 21,
   "metadata": {},
   "outputs": [
    {
     "data": {
      "image/png": "[encoded data removed]",
      "text/plain": [
       "<matplotlib.figure.Figure at 0x202864edf98>"
      ]
     },
     "metadata": {},
     "output_type": "display_data"
    }
   ],
   "source": [
    "plt.plot(P_X_rot[:,0],P_X_rot[:,1],'bo')\n",
    "plt.show()"
   ]
  },
  {
   "cell_type": "markdown",
   "metadata": {},
   "source": [
    "__Observations__:\n",
    "+ Projection on the first axis, arranged the data on a line (1D)\n",
    "* All the points have value 0 for the second dimension\n",
    "* The number of visible pointes is still 6 out of 6: ___no collision___"
   ]
  },
  {
   "cell_type": "markdown",
   "metadata": {},
   "source": [
    "+ __Measure the Percentage of Variance Preserved__"
   ]
  },
  {
   "cell_type": "code",
   "execution_count": 22,
   "metadata": {},
   "outputs": [
    {
     "name": "stdout",
     "output_type": "stream",
     "text": [
      "85.714% : After Rotation: Percentage of the total variance preserved after projecting onto the first dimension\n",
      "28.571% : Before Rotation: Percentage of the total variance preserved after projecting onto the first dimension\n"
     ]
    }
   ],
   "source": [
    "# Rotated data projected onto the first dimension\n",
    "pres_var_rot = sum(np.diag(np.cov(P_X_rot.T)))\n",
    "perc_pres_var_rot= 100 * (pres_var_rot / total_variance)\n",
    "print (\"{:.3f}% : After Rotation: Percentage of the total variance preserved after projecting onto the first dimension\".format(perc_pres_var_rot))\n",
    "print (\"{:.3f}% : Before Rotation: Percentage of the total variance preserved after projecting onto the first dimension\".format(percentage_preserved_variance))"
   ]
  },
  {
   "cell_type": "markdown",
   "metadata": {},
   "source": [
    "> + Prinicpal components (PCs) are also called ___egenvectors___. \n",
    "+ Projecting data onto the principal components _maximally_ preserves the variance of the original data"
   ]
  },
  {
   "cell_type": "markdown",
   "metadata": {},
   "source": [
    "## Explore Attributes of the PCA Model"
   ]
  },
  {
   "cell_type": "markdown",
   "metadata": {},
   "source": [
    "+ __Eigenvectors: Principal Components__\n",
    "    - _PC: Principal Component: Eigenvector_: New coordinate axis expressed in terms of the original axes"
   ]
  },
  {
   "cell_type": "code",
   "execution_count": 23,
   "metadata": {},
   "outputs": [
    {
     "data": {
      "text/plain": [
       "array([[ 0.4472136 ,  0.89442719],\n",
       "       [ 0.89442719, -0.4472136 ]])"
      ]
     },
     "execution_count": 23,
     "metadata": {},
     "output_type": "execute_result"
    }
   ],
   "source": [
    "pca_model.components_"
   ]
  },
  {
   "cell_type": "code",
   "execution_count": 24,
   "metadata": {},
   "outputs": [
    {
     "data": {
      "text/plain": [
       "array([0.4472136 , 0.89442719])"
      ]
     },
     "execution_count": 24,
     "metadata": {},
     "output_type": "execute_result"
    }
   ],
   "source": [
    "# The first PC column vector:\n",
    "pca_model.components_[0]"
   ]
  },
  {
   "cell_type": "markdown",
   "metadata": {},
   "source": [
    "+ __Eigenvalues: Amount of Variance Explained by Each Principal Component__\n",
    "    - _Eigenvalue_: The square root of the amount of variance preserved if the original data is projected only onto this single PC:\n",
    "        - Eigenvalues are _non-negative_\n",
    "    - Eigenvalues are ___sorted___: from the highest for the first PC to the smallest for the last PC\n",
    "    - The total variance: the sum of the squared values of the explained variances across all the PCs"
   ]
  },
  {
   "cell_type": "code",
   "execution_count": 25,
   "metadata": {},
   "outputs": [
    {
     "name": "stdout",
     "output_type": "stream",
     "text": [
      "1.789 : The first eigenvalue: the square root of the amount of variance preserved upon projection on PC-1\n",
      "0.730 : The second eigenvalue: the square root of the amount of variance preserved upon projection on PC-2\n"
     ]
    }
   ],
   "source": [
    "eigenvalues = np.sqrt(pca_model.explained_variance_)\n",
    "print (\"{:.3f} : The first eigenvalue: the square root of the amount of variance preserved upon projection on PC-1\".format(eigenvalues[0]))\n",
    "print (\"{:.3f} : The second eigenvalue: the square root of the amount of variance preserved upon projection on PC-2\".format(eigenvalues[1]))"
   ]
  },
  {
   "cell_type": "code",
   "execution_count": 26,
   "metadata": {},
   "outputs": [
    {
     "name": "stdout",
     "output_type": "stream",
     "text": [
      "3.733 : Total variance across all PCs\n"
     ]
    }
   ],
   "source": [
    "total_pca_var = sum(pca_model.explained_variance_)\n",
    "print (\"{:.3F} : Total variance across all PCs\".format(total_pca_var))"
   ]
  },
  {
   "cell_type": "markdown",
   "metadata": {},
   "source": [
    "+ __Percentage of the Variance Explained by Each PC__\n",
    "    - Monotonically decreasing sequence: the first PC explains the most of the variance"
   ]
  },
  {
   "cell_type": "code",
   "execution_count": 27,
   "metadata": {},
   "outputs": [
    {
     "name": "stdout",
     "output_type": "stream",
     "text": [
      "85.714% : Percentage explained by PC-1\n",
      "14.286% : Percentage explained by PC-2\n"
     ]
    }
   ],
   "source": [
    "pc = 1\n",
    "for pc_var in pca_model.explained_variance_:\n",
    "    percentage_pc_var = 100 * (pc_var / total_pca_var)\n",
    "    print (\"{:.3f}% : Percentage explained by PC-{}\".format(percentage_pc_var, pc))\n",
    "    pc = pc + 1"
   ]
  },
  {
   "cell_type": "markdown",
   "metadata": {},
   "source": [
    "+ __Screeplot: Plot of Explained Variances across all PCs__"
   ]
  },
  {
   "cell_type": "code",
   "execution_count": 28,
   "metadata": {},
   "outputs": [
    {
     "data": {
      "image/png": "[encoded data removed]",
      "text/plain": [
       "<matplotlib.figure.Figure at 0x2028662abe0>"
      ]
     },
     "metadata": {},
     "output_type": "display_data"
    }
   ],
   "source": [
    "plt.plot([1,2], pca_model.explained_variance_)\n",
    "plt.xticks([1,2])\n",
    "plt.title(\"Screeplot of PC-explained Variances\")\n",
    "plt.xlabel(\"PC\")\n",
    "plt.ylabel(\"Variance\")\n",
    "plt.show()"
   ]
  },
  {
   "cell_type": "markdown",
   "metadata": {},
   "source": [
    "+ __Cumulative Variance Explained by the PCA Model__"
   ]
  },
  {
   "cell_type": "code",
   "execution_count": 29,
   "metadata": {},
   "outputs": [
    {
     "data": {
      "text/plain": [
       "array([0.85714286, 1.        ])"
      ]
     },
     "execution_count": 29,
     "metadata": {},
     "output_type": "execute_result"
    }
   ],
   "source": [
    "np.sqrt(pca_model.explained_variance_)\n",
    "pca_model.explained_variance_ratio_\n",
    "np.cumsum(pca_model.explained_variance_ratio_)"
   ]
  },
  {
   "cell_type": "markdown",
   "metadata": {},
   "source": [
    "## PCA with Real Data Set"
   ]
  },
  {
   "cell_type": "code",
   "execution_count": null,
   "metadata": {},
   "outputs": [],
   "source": [
    "iris.<TAB>"
   ]
  },
  {
   "cell_type": "code",
   "execution_count": 30,
   "metadata": {},
   "outputs": [
    {
     "name": "stdout",
     "output_type": "stream",
     "text": [
      "['sepal length (cm)', 'sepal width (cm)', 'petal length (cm)', 'petal width (cm)']\n",
      "[[5.1 3.5 1.4 0.2]\n",
      " [4.9 3.  1.4 0.2]\n",
      " [4.7 3.2 1.3 0.2]\n",
      " [4.6 3.1 1.5 0.2]\n",
      " [5.  3.6 1.4 0.2]]\n",
      "['setosa' 'versicolor' 'virginica']\n",
      "[0 1 2]\n"
     ]
    }
   ],
   "source": [
    "iris = datasets.load_iris()\n",
    "X = iris.data\n",
    "y = iris.target\n",
    "print(iris.feature_names)\n",
    "print(X[0:5])\n",
    "print (iris.target_names)\n",
    "print (y[[0, 51, 101]])"
   ]
  },
  {
   "cell_type": "code",
   "execution_count": 31,
   "metadata": {},
   "outputs": [
    {
     "data": {
      "image/png": "[encoded data removed]",
      "text/plain": [
       "<matplotlib.figure.Figure at 0x202865d4048>"
      ]
     },
     "metadata": {},
     "output_type": "display_data"
    }
   ],
   "source": [
    "# Plot original 4-D iris data in 2D\n",
    "mglearn.discrete_scatter(X[:, 0], X[:, 1], y)\n",
    "plt.title(\"Iris Data Set\")\n",
    "plt.xlabel(\"sepal length (cm)\")\n",
    "plt.ylabel(\"sepal width (cm)\")\n",
    "plt.show()"
   ]
  },
  {
   "cell_type": "code",
   "execution_count": 32,
   "metadata": {},
   "outputs": [],
   "source": [
    "pca = decomposition.PCA(n_components=3)\n",
    "pca.fit(X)\n",
    "X_rot = pca.transform(X)"
   ]
  },
  {
   "cell_type": "code",
   "execution_count": 33,
   "metadata": {},
   "outputs": [
    {
     "data": {
      "image/png": "[encoded data removed]",
      "text/plain": [
       "<matplotlib.figure.Figure at 0x20286315518>"
      ]
     },
     "metadata": {},
     "output_type": "display_data"
    }
   ],
   "source": [
    "# Plot rotated 4-D iris data in 2D: the first two PCs\n",
    "mglearn.discrete_scatter(X_rot[:, 0], X_rot[:, 1], y)\n",
    "plt.title(\"PCA Rotated: Iris Data Set\")\n",
    "plt.xlabel(\"PC-1\")\n",
    "plt.ylabel(\"PC-2\")\n",
    "plt.show()"
   ]
  }
 ],
 "metadata": {
  "kernelspec": {
   "display_name": "Python 3",
   "language": "python",
   "name": "python3"
  },
  "language_info": {
   "codemirror_mode": {
    "name": "ipython",
    "version": 3
   },
   "file_extension": ".py",
   "mimetype": "text/x-python",
   "name": "python",
   "nbconvert_exporter": "python",
   "pygments_lexer": "ipython3",
   "version": "3.6.4"
  }
 },
 "nbformat": 4,
 "nbformat_minor": 2
}
