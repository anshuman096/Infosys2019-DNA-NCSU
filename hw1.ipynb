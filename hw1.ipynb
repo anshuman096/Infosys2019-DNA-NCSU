{
 "cells": [
  {
   "cell_type": "markdown",
   "metadata": {},
   "source": [
    "# Clustering Homework\n",
    "\n",
    "\n",
    "\n",
    "## Question 1\n",
    "\n",
    "Objective: Find optimal number of clusters through elbow plot.\n",
    "First learn to use any existing K-Means clustering in Python. Do K-Means clustering\n",
    "on any multivariate data set (play with several datasets that you can get from UCIML repository), play with varying K (for min K=2 through max K = 15 or some suitable\n",
    "number), generate elbow plot (using SSE) and mark optimal number cluster (include\n",
    "the plot in solution pdf file). Submit your code to generate elbow plot using SSE."
   ]
  },
  {
   "cell_type": "code",
   "execution_count": null,
   "metadata": {},
   "outputs": [],
   "source": []
  }
 ],
 "metadata": {
  "kernelspec": {
   "display_name": "Python 3",
   "language": "python",
   "name": "python3"
  },
  "language_info": {
   "codemirror_mode": {
    "name": "ipython",
    "version": 3
   },
   "file_extension": ".py",
   "mimetype": "text/x-python",
   "name": "python",
   "nbconvert_exporter": "python",
   "pygments_lexer": "ipython3",
   "version": "3.5.2"
  }
 },
 "nbformat": 4,
 "nbformat_minor": 2
}
