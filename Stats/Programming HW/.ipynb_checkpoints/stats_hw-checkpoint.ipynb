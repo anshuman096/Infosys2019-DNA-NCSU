{
 "cells": [
  {
   "cell_type": "code",
   "execution_count": 76,
   "metadata": {},
   "outputs": [],
   "source": [
    "import numpy as np\n",
    "import matplotlib.pyplot as plt\n",
    "import seaborn as sns\n",
    "import operator as op\n",
    "import math\n",
    "import scipy\n",
    "import scipy.stats as stats\n",
    "\n",
    "\n",
    "from functools import reduce\n",
    "from math import factorial"
   ]
  },
  {
   "cell_type": "markdown",
   "metadata": {},
   "source": [
    "# Statatistical Thinking Programming Questions\n",
    "\n",
    "## Problem 1\n",
    "\n",
    "Recreate the sampling distribution of the sample proportion following the Monte Carlo pseudo code from lecture. Be sure to use a bin size on the histogram of 0.05."
   ]
  },
  {
   "cell_type": "code",
   "execution_count": 66,
   "metadata": {},
   "outputs": [
    {
     "name": "stdout",
     "output_type": "stream",
     "text": [
      "Enter proportion value: 0.15\n"
     ]
    },
    {
     "data": {
      "image/png": "[encoded data removed]",
      "text/plain": [
       "<matplotlib.figure.Figure at 0x10daa8668>"
      ]
     },
     "metadata": {},
     "output_type": "display_data"
    }
   ],
   "source": [
    "sample_proportion = float(input(\"Enter proportion value: \"))\n",
    "num_experiments = 10000\n",
    "num_trials = 40\n",
    "p_vals = []\n",
    "for i in range(num_experiments):\n",
    "    curr_trial = 0\n",
    "    trial_results = []\n",
    "    while curr_trial < num_trials:\n",
    "        result = np.random.uniform(0, 1)\n",
    "        if result <= sample_proportion:\n",
    "            trial_results.append(1)\n",
    "        else:\n",
    "            trial_results.append(0)\n",
    "        curr_trial += 1\n",
    "    p_hat = sum(trial_results)/num_trials\n",
    "    p_vals.append(p_hat)\n",
    "num_bins = int((max(p_vals) - min(p_vals)) / 0.05)\n",
    "sns.set(rc = {'figure.figsize': (10, 8)})\n",
    "ax = sns.distplot(p_vals, bins = num_bins, kde = False)\n",
    "ax.set(title = \"Monte Carlo Frequency\", xlabel = \"P values\", ylabel = \"Frequency\")\n",
    "plt.show()"
   ]
  },
  {
   "cell_type": "markdown",
   "metadata": {},
   "source": [
    "## Problem 2\n",
    "\n",
    "Two six sided dice are rolled, and the sum of the face values is six. What is the probability that at least one of the dice came up a three? Answer this by using Monte Carlo approximation. Hint find a function to sample the numbers 1 through 6."
   ]
  },
  {
   "cell_type": "code",
   "execution_count": 65,
   "metadata": {},
   "outputs": [
    {
     "name": "stdout",
     "output_type": "stream",
     "text": [
      "Probability:  0.2061\n"
     ]
    }
   ],
   "source": [
    "num_trials = 10000\n",
    "total = 0\n",
    "num_correct = 0\n",
    "curr_trial = 0\n",
    "while curr_trial < num_trials:\n",
    "    dice_1 = int(np.random.uniform(1, 7))\n",
    "    dice_2 = int(np.random.uniform(1, 7))\n",
    "    if dice_1 + dice_2 == 6:\n",
    "        total += 1\n",
    "        if dice_1 == 3 or dice_2 == 3:\n",
    "            num_correct += 1\n",
    "        curr_trial += 1\n",
    "        \n",
    "probability = float(num_correct / total)\n",
    "print(\"Probability: \", probability)"
   ]
  },
  {
   "cell_type": "markdown",
   "metadata": {},
   "source": [
    "## Problem 3\n",
    "\n",
    "A closet contains $n$ pairs of shoes. If $2r$ shoes are chosen at random $(2r < n)$, what is the probability that there will be no matching pair in the sample? "
   ]
  },
  {
   "cell_type": "code",
   "execution_count": 64,
   "metadata": {},
   "outputs": [
    {
     "name": "stdout",
     "output_type": "stream",
     "text": [
      "Number of shoes: 22\n",
      "No of shoes chosen:10\n",
      "0.0001375443745708305\n"
     ]
    }
   ],
   "source": [
    "def nCr(n, r):\n",
    "    r = min(r, n-r)\n",
    "    numer = reduce(op.mul, range(n, n-r, -1), 1)\n",
    "    denom = reduce(op.mul, range(1, r+1), 1)\n",
    "    return numer / denom\n",
    "\n",
    "n = int(input(\"Number of shoes: \"))\n",
    "r = int(input(\"No of shoes chosen:\"))\n",
    "while 2 * r >= n:\n",
    "    r = int(input(\"No of shoes chosen: \"))\n",
    "\n",
    "numerator = nCr(n, 2 * r) * 2 ** (2 * r)\n",
    "denominator = nCr(2 * n, 2 * r)\n",
    "print(numerator/denominator)"
   ]
  },
  {
   "cell_type": "markdown",
   "metadata": {},
   "source": [
    "## Problem 4\n",
    "\n",
    "Working group has 8 members. Three will be assigned to lead the group (one head leader, one assistant\n",
    "leader, and one workflow specialist). How many ways to assign the leaders? Use python to create all\n",
    "possible assignments and verify the answer from the notes."
   ]
  },
  {
   "cell_type": "code",
   "execution_count": 63,
   "metadata": {},
   "outputs": [
    {
     "name": "stdout",
     "output_type": "stream",
     "text": [
      "336\n"
     ]
    }
   ],
   "source": [
    "def nPr(n, r):\n",
    "    numer = factorial(n)\n",
    "    denom = factorial(n - r)\n",
    "    return numer/denom\n",
    "\n",
    "print(int(nPr(8, 3)))"
   ]
  },
  {
   "cell_type": "markdown",
   "metadata": {},
   "source": [
    "## Problem 5\n",
    "\n",
    "\n",
    "Write python code to complete the pseudo code given for the problem:\n",
    "Ex: Working group has 8 members. Three will be assigned to lead the group (no difference in leadership\n",
    "positions). If there are 3 women and 5 men in the group, what is the probability of exactly 1 woman\n",
    "being asigned to the leadership (if assigned randomly)?"
   ]
  },
  {
   "cell_type": "code",
   "execution_count": 62,
   "metadata": {},
   "outputs": [
    {
     "name": "stdout",
     "output_type": "stream",
     "text": [
      "0.5357142857142857\n"
     ]
    }
   ],
   "source": [
    "numer = nCr(5, 2) * nCr(3, 1)\n",
    "denom = nCr(8, 3)\n",
    "print(numer/denom)"
   ]
  },
  {
   "cell_type": "markdown",
   "metadata": {},
   "source": [
    "## Problem 6\n",
    "\n",
    "A manufacturer sends 100 parts, 10 of which are defective. The batch will be returned if there are more\n",
    "5 defective units found in a sample of 20 of the parts. Let Y be the number of defective parts in the\n",
    "sample of size 20. Then Y follows a hypergeometric distribution. Use the hypergeometic PMF from the\n",
    "scipy package to find the probability the batch is returned."
   ]
  },
  {
   "cell_type": "code",
   "execution_count": 61,
   "metadata": {},
   "outputs": [
    {
     "data": {
      "text/plain": [
       "0.021531469960251723"
      ]
     },
     "execution_count": 61,
     "metadata": {},
     "output_type": "execute_result"
    }
   ],
   "source": [
    "M = 100\n",
    "n = 10\n",
    "N = 20\n",
    "rv = hypergeom(M, n, N)\n",
    "rv.pmf(5)"
   ]
  },
  {
   "cell_type": "markdown",
   "metadata": {},
   "source": [
    "## Problem 7\n",
    "\n",
    "A manufacturing plant uses a specific bulk product. The amount used (in tons) in one day has a gamma\n",
    "distribution with $\\alpha$ = 3/2 and $\\lambda$ = 1/3. Using the scipy package:\n",
    "\n",
    "a. Find the probability that the plant will use between 3 and 4 tons on a given day\n",
    "\n",
    "b. How much of the bulk product should be stocked so that the plant’s chance of running out of the\n",
    "product is only 0.05. Hint you’ll need to use the ppf method."
   ]
  },
  {
   "cell_type": "code",
   "execution_count": 60,
   "metadata": {},
   "outputs": [
    {
     "name": "stdout",
     "output_type": "stream",
     "text": [
      "0.05597037595109884\n"
     ]
    }
   ],
   "source": [
    "alpha = 1.5\n",
    "lam = 1/3\n",
    "\n",
    "rv = gamma(alpha, lam)\n",
    "p_val = gamma.pdf(3, alpha) - gamma.pdf(4, alpha)\n",
    "print(p_val)"
   ]
  },
  {
   "cell_type": "markdown",
   "metadata": {},
   "source": [
    "## Problem 8\n",
    "\n",
    "The proportion of impurities per batch in a chemical product is a random variable that is well modeled\n",
    "by a Beta distribution with $\\alpha$ = 3 and $\\beta$ = 2. A batch with more than 40% impurities cannot be sold.\n",
    "\n",
    "a. Find the probability that a randomly selected batch cannot be sold because of excessive impurities.\n",
    "\n",
    "b. What is the mean proportion of impurities? the variance? (Hint: use an appropriate method)"
   ]
  },
  {
   "cell_type": "code",
   "execution_count": 59,
   "metadata": {},
   "outputs": [
    {
     "name": "stdout",
     "output_type": "stream",
     "text": [
      "Probability of a batch with excessive impurities:  0.8207999999999998\n",
      "mean proportion:  0.6000000000000001\n",
      "variance:  0.04\n"
     ]
    }
   ],
   "source": [
    "alpha = 3\n",
    "B = 2\n",
    "beta = (math.factorial(2)*math.factorial(1))/12\n",
    "a= 0.4\n",
    "b = 1\n",
    "result = 12*((1/3 - 1/4)-(((a**3)/3)-((a**4)/4)))\n",
    "\n",
    "\n",
    "variance = (alpha*B)/(((alpha+B)**2)*6)\n",
    "mean = 1/(1 + (B/alpha))\n",
    "print(\"Probability of a batch with excessive impurities: \", result)\n",
    "print(\"mean proportion: \", mean)\n",
    "print(\"variance: \", variance)"
   ]
  },
  {
   "cell_type": "markdown",
   "metadata": {},
   "source": [
    "## Problem 9\n",
    "\n",
    "Suppose Y = the amount spent on electricity (in dollars) per month for residents has a mean of 83 and\n",
    "a standard deviation of 11. A random sample of 20 resident’s electricity bills is found. Approximate\n",
    "the probability the sample mean electricity bill is less than $80."
   ]
  },
  {
   "cell_type": "code",
   "execution_count": 67,
   "metadata": {},
   "outputs": [
    {
     "name": "stdout",
     "output_type": "stream",
     "text": [
      "-0.2727272727272727\n",
      "Corresponding p value from normal distribution : 0.39253143427377973\n"
     ]
    }
   ],
   "source": [
    "mean  = 83\n",
    "sd = 11\n",
    "y = 80\n",
    "z_score = (y - mean)/sd\n",
    "print(z_score)\n",
    "print('Corresponding p value from normal distribution :', stats.norm.cdf(z_score))"
   ]
  },
  {
   "cell_type": "markdown",
   "metadata": {},
   "source": [
    "## Problem 10\n",
    "\n",
    "Suppose you have a Binomial random variable with n = 20 trials and p = 0.4. Use the binomial\n",
    "PMF/CDF and the normal approximation to the binomial to find $P(Y < n ∗ 0.4)$ and $P(Y ≤ n ∗ 0.3)$.\n",
    "Repeat with n = 50."
   ]
  },
  {
   "cell_type": "code",
   "execution_count": 72,
   "metadata": {},
   "outputs": [
    {
     "name": "stdout",
     "output_type": "stream",
     "text": [
      "0.5955987253122248 0.2500106719378223\n",
      "0.5610349320400658 0.09550170735551841\n"
     ]
    }
   ],
   "source": [
    "def binom_cdf(n, p):\n",
    "    f1 = n * 0.4\n",
    "    f2 = n * 0.3\n",
    "    \n",
    "    p1 = stats.binom.cdf(f1, n, p)\n",
    "    p2 = stats.binom.cdf(f2, n, p)\n",
    "    \n",
    "    print(p1, p2)\n",
    "\n",
    "binom_cdf(20, 0.4)\n",
    "binom_cdf(50, 0.4)"
   ]
  },
  {
   "cell_type": "code",
   "execution_count": 74,
   "metadata": {},
   "outputs": [
    {
     "name": "stdout",
     "output_type": "stream",
     "text": [
      "0.5\n",
      "0.5\n"
     ]
    }
   ],
   "source": [
    "def normal_approx(n, p):\n",
    "    mean = n * p\n",
    "    sd = math.sqrt(mean * (1 - p))\n",
    "    \n",
    "    z_score = ((n * p) - mean)/sd\n",
    "    p_val = stats.norm.cdf(abs(z_score))\n",
    "    print(p_val)\n",
    "    \n",
    "normal_approx(20, 0.4)\n",
    "normal_approx(50, 0.4)"
   ]
  },
  {
   "cell_type": "markdown",
   "metadata": {},
   "source": [
    "## Problem 11\n",
    "\n",
    "Complete the power simulation corresponding to the ‘Benford’s Law’ example from the notes."
   ]
  },
  {
   "cell_type": "code",
   "execution_count": 77,
   "metadata": {},
   "outputs": [
    {
     "name": "stdout",
     "output_type": "stream",
     "text": [
      "[[36  5  8  9 13  5  6  8 10]\n",
      " [33  8  8  6  9 10  6 10 10]\n",
      " [37  5  7  6  6 11 10  9  9]\n",
      " [25  4 11  9 10 11 11 10  9]\n",
      " [37 11  8  7  5 11  4  7 10]\n",
      " [30 11 11  5  8  7 10  8 10]\n",
      " [31 11  4 15  8  4  8 12  7]\n",
      " [39  7 13  3  6 10  7  9  6]\n",
      " [35  9  6 12  8  7  9  6  8]\n",
      " [38  8 11  3 12  7 13  6  2]\n",
      " [28  6 10  8  7 12  8  8 13]\n",
      " [33  8  9 11  9 10  7  4  9]\n",
      " [40 10 10  5  7  7  4  7 10]\n",
      " [29  8 12  8  6  9  9 10  9]\n",
      " [38  9  8  8  7 11  8  7  4]\n",
      " [30  7 11  7 11 12  4 13  5]\n",
      " [33  5  6  6  8  9 13  9 11]\n",
      " [31  3 12  8  9  6 10 11 10]\n",
      " [28  9 10  8 10 12  7  8  8]\n",
      " [31 14  2 13  8  8  7 10  7]\n",
      " [31  4 13  8  7 10  8 11  8]\n",
      " [35  9  4  9  6  9 12  9  7]\n",
      " [36  8  7 11  8  7 11  8  4]\n",
      " [24  9 11 12  9  8  4  8 15]\n",
      " [31  9 14  5  6  8 13  8  6]\n",
      " [34  8  9  8 12  8 10  6  5]\n",
      " [27  6  7  7  9 12 10  9 13]\n",
      " [34  3 13  7 12  8  8  9  6]\n",
      " [35  9  1 12  9  7 13  8  6]\n",
      " [37  8  8  8 12  5 12  5  5]\n",
      " [38  7  5  7  8  9  9  7 10]\n",
      " [35 12  6  6  7  5  8  3 18]\n",
      " [32 11 11  4  5 12  9  8  8]\n",
      " [34  8 11  5 11  6 11  8  6]\n",
      " [23  6 12 16  7  3 15  9  9]\n",
      " [32  6 14  8  8  5  8 11  8]\n",
      " [32  6  8  6  8 14 14  5  7]\n",
      " [31 10  9 11  5 10  8  7  9]\n",
      " [32  6  6  5 11  7  9 15  9]\n",
      " [30  7 14  7 10  5 10 11  6]\n",
      " [38 10 10  6  5  8  5  9  9]\n",
      " [29 10  9  9  7 10 10  9  7]\n",
      " [31 10  9  9  7 15  6  7  6]\n",
      " [26  7 13 10  9  4  8 13 10]\n",
      " [29  6  8  8 13 11  8  7 10]\n",
      " [35  8  4  7  9 11  8  9  9]\n",
      " [41  3 10  6 14  9  4  8  5]\n",
      " [36  7 11 10  8  9  8  7  4]\n",
      " [32 15  9  9  7  7  8  9  4]\n",
      " [28  7  9 11  8  6  9 14  8]\n",
      " [33  7 14 11  7  5  9  8  6]\n",
      " [35  9  7 11  9  7  6  9  7]\n",
      " [40  8  7  7  3  5  6 11 13]\n",
      " [35  7  5  6  8  8  4 17 10]\n",
      " [37  3  7  8  6 13 10  9  7]\n",
      " [40  6 11  7  9  4 11  4  8]\n",
      " [36  8 11  8  7  8  4  8 10]\n",
      " [30 10  8  9  6  5 12  8 12]\n",
      " [32  3 10  9  8 15  9 10  4]\n",
      " [36 13  9  7  9  6  7  3 10]\n",
      " [37  8 10  7  7  6 15  7  3]\n",
      " [28  9 11 12  5  8 10 11  6]\n",
      " [28 11  8 11 12  2  8 13  7]\n",
      " [28  9  9  7 10  9 17  4  7]\n",
      " [21 12  7 11  9 13 11  9  7]\n",
      " [33 12  8  5  6 11  4 11 10]\n",
      " [30  5  7 12  8  7  9  8 14]\n",
      " [35  7  7  7  9 14 12  4  5]\n",
      " [38  5  8  8  3 12  9  6 11]\n",
      " [21 13 12  7 11  8  9  7 12]\n",
      " [28 11  5 10 11  7  8 12  8]\n",
      " [36  6  8  8  8  4 10  8 12]\n",
      " [38  9  9  7  5  6 11  9  6]\n",
      " [30 12  8 12  9  9  7  6  7]\n",
      " [35  6 11  4 10  9  9 13  3]\n",
      " [39  9  7 12  9  6  8  6  4]\n",
      " [22 14  9  6  8 12 11  7 11]\n",
      " [32  5 11 11  8  7  8 11  7]\n",
      " [37  8  6  9 10 10 10  5  5]\n",
      " [24 13 14  4 16  4  9  5 11]\n",
      " [34  9 10  6  7  6  7  9 12]\n",
      " [36  8  6 12 10  6  8  7  7]\n",
      " [33 11 10 10  4  5  5 12 10]\n",
      " [30 11  7  6  4 12 12 10  8]\n",
      " [25 13  8  5  5  6 12 10 16]\n",
      " [33 12  9  6  9  7  8  6 10]\n",
      " [38  6  8 10  5 10 12  5  6]\n",
      " [31  9 11  7  8  9 12  4  9]\n",
      " [42  9  6  8  2  9  6  9  9]\n",
      " [32  8  6 14  8  8  9 10  5]\n",
      " [22 16 13  5  7 10  8 11  8]\n",
      " [29  7 12 11  9  4  5 12 11]\n",
      " [31 10  5 10  9  8 11  4 12]\n",
      " [38 10  7 13  7  7  1  9  8]\n",
      " [30 10  7 10  8  5 10  8 12]\n",
      " [32 11  6 11 12  3  8  9  8]\n",
      " [36  9 10  6  6 12  6  5 10]\n",
      " [32  4  7 12 12 10  7  7  9]\n",
      " [22 12  7  7 10  8 12  9 13]\n",
      " [27 10  8 10  4  7 10 15  9]]\n"
     ]
    },
    {
     "ename": "NameError",
     "evalue": "name 'chi2' is not defined",
     "output_type": "error",
     "traceback": [
      "\u001b[0;31m---------------------------------------------------------------------------\u001b[0m",
      "\u001b[0;31mNameError\u001b[0m                                 Traceback (most recent call last)",
      "\u001b[0;32m<ipython-input-77-798601007a8e>\u001b[0m in \u001b[0;36m<module>\u001b[0;34m()\u001b[0m\n\u001b[1;32m      4\u001b[0m \u001b[0mprint\u001b[0m\u001b[0;34m(\u001b[0m\u001b[0mrandpro\u001b[0m\u001b[0;34m)\u001b[0m\u001b[0;34m\u001b[0m\u001b[0m\n\u001b[1;32m      5\u001b[0m \u001b[0mdf\u001b[0m \u001b[0;34m=\u001b[0m \u001b[0;36m8\u001b[0m\u001b[0;34m\u001b[0m\u001b[0m\n\u001b[0;32m----> 6\u001b[0;31m \u001b[0mchi2\u001b[0m\u001b[0;34m.\u001b[0m\u001b[0mppf\u001b[0m\u001b[0;34m(\u001b[0m\u001b[0marr\u001b[0m\u001b[0;34m,\u001b[0m \u001b[0mdf\u001b[0m\u001b[0;34m)\u001b[0m\u001b[0;34m\u001b[0m\u001b[0m\n\u001b[0m",
      "\u001b[0;31mNameError\u001b[0m: name 'chi2' is not defined"
     ]
    }
   ],
   "source": [
    "prob = [1/3, 1/12,1/12,1/12,1/12,1/12, 1/12,1/12,1/12]\n",
    "\n",
    "randpro = scipy.stats.multinomial.rvs(n= 100, p= prob, size = 100)\n",
    "print(randpro)\n",
    "df = 8\n",
    "chi2.ppf(arr, df)"
   ]
  },
  {
   "cell_type": "markdown",
   "metadata": {},
   "source": [
    "## Problem 13\n",
    "\n",
    "The idea of a confidence level, say (1 − α) ∗ 100%, is that in a large number of intervals created (1 − α)\n",
    "of the intervals would contain the true value. Let’s simulate this idea. Simulate 10,000 datasets each of\n",
    "size 15 from a normal distribution with mean 5 and standard deviation 1. For each data set calculate a\n",
    "95% CI for µ:\n",
    "y¯ ± 1.96(1/√15)\n",
    "Determine the proportion of intervals that contain the true value of µ = 5."
   ]
  },
  {
   "cell_type": "code",
   "execution_count": 81,
   "metadata": {},
   "outputs": [
    {
     "name": "stdout",
     "output_type": "stream",
     "text": [
      "0.9505\n"
     ]
    }
   ],
   "source": [
    "se = 1.96 * (1/math.sqrt(15))\n",
    "mu = 5\n",
    "correct = 0\n",
    "for i in range(10000):\n",
    "    rv = np.random.normal(5, 1, 15)\n",
    "    ci = (rv.mean() - se, rv.mean() + se)\n",
    "    if mu >= ci[0] and mu <= ci[1]:\n",
    "        correct += 1\n",
    "print(correct/10000)"
   ]
  },
  {
   "cell_type": "markdown",
   "metadata": {},
   "source": [
    "## Problem 14\n",
    "\n",
    "The CLT says that sample averages are observed in a normal distribution pattern if the sample size is\n",
    "‘large’ enough. Let’s simulate to check a particular scenario. Simulate 10,000 datasets each of size 30\n",
    "from an exponential distribution with rate parameter equal to 1. Find the sample mean for each data\n",
    "set and plot all the sample means on a histogram. Use 25 bins and give the plot appropriate labels and\n",
    "a title. Overlay the corresponding normal distribution given by the CLT (you may need to look up the\n",
    "mean and variance of the exponential distribution). Repeat this for a sample size of 100. Is the rule of\n",
    "thumb n > 30 working here?"
   ]
  },
  {
   "cell_type": "code",
   "execution_count": 90,
   "metadata": {},
   "outputs": [
    {
     "data": {
      "image/png": "[encoded data removed]",
      "text/plain": [
       "<matplotlib.figure.Figure at 0x10d387b38>"
      ]
     },
     "metadata": {},
     "output_type": "display_data"
    },
    {
     "data": {
      "image/png": "[encoded data removed]",
      "text/plain": [
       "<matplotlib.figure.Figure at 0x10d57e6a0>"
      ]
     },
     "metadata": {},
     "output_type": "display_data"
    }
   ],
   "source": [
    "means = []\n",
    "for i in range(1000):\n",
    "    rv = np.random.exponential(1.0, 30)\n",
    "    means.append(rv.mean())\n",
    "sns.set(rc = {'figure.figsize': (10, 8)})\n",
    "ax = sns.distplot(means, bins = 25)\n",
    "ax.set(title = \"Exponential Distribution means (n = 30)\", xlabel = \"Mean\", ylabel = \"Frequency\")\n",
    "plt.show()\n",
    "\n",
    "\n",
    "# sample size 100\n",
    "means = []\n",
    "for i in range(1000):\n",
    "    rv = np.random.exponential(1.0, 100)\n",
    "    means.append(rv.mean())\n",
    "sns.set(rc = {'figure.figsize': (10, 8)})\n",
    "ax = sns.distplot(means, bins = 25)\n",
    "ax.set(title = \"Exponential Distribution means (n = 100)\", xlabel = \"Mean\", ylabel = \"Frequency\")\n",
    "plt.show()"
   ]
  },
  {
   "cell_type": "markdown",
   "metadata": {},
   "source": [
    "The rule of n > 30 is seeming to work here. The distribution of means seems to take on a Gaussian curve."
   ]
  },
  {
   "cell_type": "code",
   "execution_count": null,
   "metadata": {},
   "outputs": [],
   "source": []
  }
 ],
 "metadata": {
  "kernelspec": {
   "display_name": "Python 3",
   "language": "python",
   "name": "python3"
  },
  "language_info": {
   "codemirror_mode": {
    "name": "ipython",
    "version": 3
   },
   "file_extension": ".py",
   "mimetype": "text/x-python",
   "name": "python",
   "nbconvert_exporter": "python",
   "pygments_lexer": "ipython3",
   "version": "3.5.2"
  }
 },
 "nbformat": 4,
 "nbformat_minor": 2
}
