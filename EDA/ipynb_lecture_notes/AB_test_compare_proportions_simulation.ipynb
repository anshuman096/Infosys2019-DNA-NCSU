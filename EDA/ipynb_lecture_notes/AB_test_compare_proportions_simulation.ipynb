{
 "cells": [
  {
   "cell_type": "markdown",
   "metadata": {},
   "source": [
    "## A/B Test: Compare Proportions: Simulation\n"
   ]
  },
  {
   "cell_type": "code",
   "execution_count": 1,
   "metadata": {},
   "outputs": [],
   "source": [
    "import numpy as np\n",
    "import pandas as pd\n",
    "import matplotlib.pyplot as plt\n",
    "%matplotlib inline  "
   ]
  },
  {
   "cell_type": "code",
   "execution_count": 2,
   "metadata": {
    "hideCode": false
   },
   "outputs": [
    {
     "name": "stdout",
     "output_type": "stream",
     "text": [
      "[1 1 1 1 1 1 1 1 1 1 1 1 1 1 1 1 1 1 1 1 1 1 1 1 1 1 1 1 1 1 1 1 1 1 1 1 1\n",
      " 1 1 1 1 1 1 1 1 1 1 1 1 1 1 1 1 1 1 1 1 1 1 1 1 1 1 1 1 1 1 1 1 1 1 1 0 0\n",
      " 0 0 0 0 0 0 0 0 0 0 0 0 0 0 0 0 0 0 0 0 0 0 0 0 0 0 0 0 0 0 0 0 0 0 0 0 0\n",
      " 0 0 0 0 0 0 0 0 0 0 0 0 0 0 0 0 0 0 0 0 0 0 0 0 0 0 0 0 0 0 0 0 0 0 0 0 0\n",
      " 0 0 0 0 0 0 0 0 0 0 0 0 0 0 0 0 0 0 0 0 0 0 0 0 0 0 0 0 0 0 0 0 0 0 0 0 0\n",
      " 0 0 0 0 0 0 0 0 0 0 0 0 0 0 0]\n"
     ]
    }
   ],
   "source": [
    "def resample_statistic (data, size=200, replace = True):\n",
    "    data_df = pd.DataFrame(data, columns=['trial'])\n",
    "    trial_df = data_df.sample(200,replace = True).reset_index(drop=True)\n",
    "    pos_rate = trial_df['trial'].sum()/size\n",
    "    return pos_rate\n",
    "    \n",
    "sample_size = 200\n",
    "pos_response = 72\n",
    "neg_response = 128\n",
    "\n",
    "hat = np.append(np.repeat(1,pos_response),np.repeat(0,neg_response))\n",
    "print(hat)"
   ]
  },
  {
   "cell_type": "code",
   "execution_count": 3,
   "metadata": {
    "hideCode": false
   },
   "outputs": [],
   "source": [
    "with_replacement=True\n",
    "n_repeats = 1000\n",
    "\n",
    "trials = []\n",
    "for i in range(n_repeats):\n",
    "    trials.append(resample_statistic(hat,sample_size,sum))"
   ]
  },
  {
   "cell_type": "code",
   "execution_count": 4,
   "metadata": {},
   "outputs": [
    {
     "name": "stdout",
     "output_type": "stream",
     "text": [
      "Point Estimate: 0.36 \n",
      "\n",
      "90% Confidence Interval: [0.30 0.41]\n",
      "\n"
     ]
    },
    {
     "data": {
      "image/png": "[encoded data removed]",
      "text/plain": [
       "<Figure size 432x288 with 1 Axes>"
      ]
     },
     "metadata": {
      "needs_background": "light"
     },
     "output_type": "display_data"
    }
   ],
   "source": [
    "trials_df= pd.DataFrame(trials,columns=['trial'])\n",
    "\n",
    "positive_rate = pos_response/float(sample_size)\n",
    "ci = list(trials_df.quantile([0.05,0.95])['trial'])\n",
    "\n",
    "print(\"Point Estimate: {} \\n\".format(positive_rate))\n",
    "print(\"90% Confidence Interval: [{0:.2f} {1:.2f}]\\n\".format(ci[0],ci[1]))\n",
    "\n",
    "trials_df.hist('trial')\n",
    "plt.show()"
   ]
  },
  {
   "cell_type": "code",
   "execution_count": null,
   "metadata": {},
   "outputs": [],
   "source": []
  }
 ],
 "metadata": {
  "anaconda-cloud": {},
  "kernelspec": {
   "display_name": "Python 3",
   "language": "python",
   "name": "python3"
  },
  "language_info": {
   "codemirror_mode": {
    "name": "ipython",
    "version": 3
   },
   "file_extension": ".py",
   "mimetype": "text/x-python",
   "name": "python",
   "nbconvert_exporter": "python",
   "pygments_lexer": "ipython3",
   "version": "3.6.4"
  }
 },
 "nbformat": 4,
 "nbformat_minor": 2
}
