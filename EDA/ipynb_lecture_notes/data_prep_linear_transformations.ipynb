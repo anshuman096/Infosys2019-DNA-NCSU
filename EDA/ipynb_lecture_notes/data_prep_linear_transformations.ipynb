{
 "cells": [
  {
   "cell_type": "markdown",
   "metadata": {},
   "source": [
    "# Discretizing, Normalizing, Scaling, Standardizing\n",
    "\n",
    "* __Author: Prof. Nagiza F. Samatova__\n",
    "* __Email: samatova@csc.ncsu.edu__\n",
    "* __Date: September 25, 2018__"
   ]
  },
  {
   "cell_type": "markdown",
   "metadata": {},
   "source": [
    "## Install packages\n",
    "Install the following packages if not installed:\n",
    "\n",
    ">```python\n",
    "pip3 install pandas\n",
    "pip3 install sklearn\n",
    "pip3 install scipy\n",
    "pip3 install numpy\n",
    "pip3 install matplotlib\n",
    "```"
   ]
  },
  {
   "cell_type": "markdown",
   "metadata": {},
   "source": [
    "# Import Packages"
   ]
  },
  {
   "cell_type": "code",
   "execution_count": 1,
   "metadata": {},
   "outputs": [],
   "source": [
    "import pandas as pd\n",
    "import matplotlib.pyplot as plt\n",
    "%matplotlib inline\n",
    "\n",
    "import numpy as np\n",
    "import sklearn.cluster\n",
    "import sklearn.metrics.pairwise\n",
    "from scipy.cluster.hierarchy import dendrogram, linkage\n",
    "import scipy"
   ]
  },
  {
   "cell_type": "markdown",
   "metadata": {},
   "source": [
    "# Getting Familiar with the Data"
   ]
  },
  {
   "cell_type": "code",
   "execution_count": 2,
   "metadata": {},
   "outputs": [
    {
     "data": {
      "text/html": [
       "<div>\n",
       "<style scoped>\n",
       "    .dataframe tbody tr th:only-of-type {\n",
       "        vertical-align: middle;\n",
       "    }\n",
       "\n",
       "    .dataframe tbody tr th {\n",
       "        vertical-align: top;\n",
       "    }\n",
       "\n",
       "    .dataframe thead th {\n",
       "        text-align: right;\n",
       "    }\n",
       "</style>\n",
       "<table border=\"1\" class=\"dataframe\">\n",
       "  <thead>\n",
       "    <tr style=\"text-align: right;\">\n",
       "      <th></th>\n",
       "      <th>state.of.res</th>\n",
       "      <th>custid</th>\n",
       "      <th>sex</th>\n",
       "      <th>is.employed</th>\n",
       "      <th>income</th>\n",
       "      <th>marital.stat</th>\n",
       "      <th>health.ins</th>\n",
       "      <th>housing.type</th>\n",
       "      <th>recent.move</th>\n",
       "      <th>num.vehicles</th>\n",
       "      <th>age</th>\n",
       "      <th>is.employed.fix1</th>\n",
       "      <th>Median.Income</th>\n",
       "      <th>income.norm</th>\n",
       "      <th>gp</th>\n",
       "      <th>income.lt.30K</th>\n",
       "      <th>age.range</th>\n",
       "      <th>Income</th>\n",
       "    </tr>\n",
       "  </thead>\n",
       "  <tbody>\n",
       "    <tr>\n",
       "      <th>0</th>\n",
       "      <td>Alabama</td>\n",
       "      <td>1063014</td>\n",
       "      <td>F</td>\n",
       "      <td>True</td>\n",
       "      <td>82000</td>\n",
       "      <td>Married</td>\n",
       "      <td>True</td>\n",
       "      <td>Rented</td>\n",
       "      <td>False</td>\n",
       "      <td>2.0</td>\n",
       "      <td>43.0</td>\n",
       "      <td>employed</td>\n",
       "      <td>52371</td>\n",
       "      <td>1.565752</td>\n",
       "      <td>0.935060</td>\n",
       "      <td>False</td>\n",
       "      <td>(25,65]</td>\n",
       "      <td>NaN</td>\n",
       "    </tr>\n",
       "    <tr>\n",
       "      <th>1</th>\n",
       "      <td>Alabama</td>\n",
       "      <td>1192089</td>\n",
       "      <td>M</td>\n",
       "      <td>NaN</td>\n",
       "      <td>49000</td>\n",
       "      <td>Married</td>\n",
       "      <td>True</td>\n",
       "      <td>Homeowner free and clear</td>\n",
       "      <td>False</td>\n",
       "      <td>2.0</td>\n",
       "      <td>77.0</td>\n",
       "      <td>missing</td>\n",
       "      <td>52371</td>\n",
       "      <td>0.935632</td>\n",
       "      <td>0.116241</td>\n",
       "      <td>False</td>\n",
       "      <td>(65,Inf]</td>\n",
       "      <td>NaN</td>\n",
       "    </tr>\n",
       "    <tr>\n",
       "      <th>2</th>\n",
       "      <td>Alabama</td>\n",
       "      <td>16551</td>\n",
       "      <td>F</td>\n",
       "      <td>NaN</td>\n",
       "      <td>7000</td>\n",
       "      <td>Married</td>\n",
       "      <td>True</td>\n",
       "      <td>Homeowner with mortgage/loan</td>\n",
       "      <td>False</td>\n",
       "      <td>2.0</td>\n",
       "      <td>46.0</td>\n",
       "      <td>missing</td>\n",
       "      <td>52371</td>\n",
       "      <td>0.133662</td>\n",
       "      <td>0.990683</td>\n",
       "      <td>True</td>\n",
       "      <td>(25,65]</td>\n",
       "      <td>4500.0</td>\n",
       "    </tr>\n",
       "    <tr>\n",
       "      <th>3</th>\n",
       "      <td>Alabama</td>\n",
       "      <td>1079878</td>\n",
       "      <td>F</td>\n",
       "      <td>NaN</td>\n",
       "      <td>37200</td>\n",
       "      <td>Divorced/Separated</td>\n",
       "      <td>True</td>\n",
       "      <td>Homeowner with mortgage/loan</td>\n",
       "      <td>False</td>\n",
       "      <td>1.0</td>\n",
       "      <td>62.0</td>\n",
       "      <td>missing</td>\n",
       "      <td>52371</td>\n",
       "      <td>0.710317</td>\n",
       "      <td>0.187356</td>\n",
       "      <td>False</td>\n",
       "      <td>(25,65]</td>\n",
       "      <td>20000.0</td>\n",
       "    </tr>\n",
       "    <tr>\n",
       "      <th>4</th>\n",
       "      <td>Alabama</td>\n",
       "      <td>502705</td>\n",
       "      <td>M</td>\n",
       "      <td>True</td>\n",
       "      <td>70000</td>\n",
       "      <td>Married</td>\n",
       "      <td>False</td>\n",
       "      <td>Rented</td>\n",
       "      <td>False</td>\n",
       "      <td>4.0</td>\n",
       "      <td>37.0</td>\n",
       "      <td>employed</td>\n",
       "      <td>52371</td>\n",
       "      <td>1.336618</td>\n",
       "      <td>0.849024</td>\n",
       "      <td>False</td>\n",
       "      <td>(25,65]</td>\n",
       "      <td>12000.0</td>\n",
       "    </tr>\n",
       "  </tbody>\n",
       "</table>\n",
       "</div>"
      ],
      "text/plain": [
       "  state.of.res   custid sex is.employed  income        marital.stat  \\\n",
       "0      Alabama  1063014   F        True   82000             Married   \n",
       "1      Alabama  1192089   M         NaN   49000             Married   \n",
       "2      Alabama    16551   F         NaN    7000             Married   \n",
       "3      Alabama  1079878   F         NaN   37200  Divorced/Separated   \n",
       "4      Alabama   502705   M        True   70000             Married   \n",
       "\n",
       "   health.ins                  housing.type recent.move  num.vehicles   age  \\\n",
       "0        True                        Rented       False           2.0  43.0   \n",
       "1        True      Homeowner free and clear       False           2.0  77.0   \n",
       "2        True  Homeowner with mortgage/loan       False           2.0  46.0   \n",
       "3        True  Homeowner with mortgage/loan       False           1.0  62.0   \n",
       "4       False                        Rented       False           4.0  37.0   \n",
       "\n",
       "  is.employed.fix1  Median.Income  income.norm        gp  income.lt.30K  \\\n",
       "0         employed          52371     1.565752  0.935060          False   \n",
       "1          missing          52371     0.935632  0.116241          False   \n",
       "2          missing          52371     0.133662  0.990683           True   \n",
       "3          missing          52371     0.710317  0.187356          False   \n",
       "4         employed          52371     1.336618  0.849024          False   \n",
       "\n",
       "  age.range   Income  \n",
       "0   (25,65]      NaN  \n",
       "1  (65,Inf]      NaN  \n",
       "2   (25,65]   4500.0  \n",
       "3   (25,65]  20000.0  \n",
       "4   (25,65]  12000.0  "
      ]
     },
     "execution_count": 2,
     "metadata": {},
     "output_type": "execute_result"
    }
   ],
   "source": [
    "customers = pd.read_csv(\"../data_raw/data_prep_linear_transform_customers.csv\")\n",
    "customers.head()"
   ]
  },
  {
   "cell_type": "code",
   "execution_count": 3,
   "metadata": {},
   "outputs": [
    {
     "data": {
      "text/plain": [
       "state.of.res         Alabama\n",
       "custid               1063014\n",
       "sex                        F\n",
       "is.employed             True\n",
       "income                 82000\n",
       "marital.stat         Married\n",
       "health.ins              True\n",
       "housing.type          Rented\n",
       "recent.move            False\n",
       "num.vehicles               2\n",
       "age                       43\n",
       "is.employed.fix1    employed\n",
       "Median.Income          52371\n",
       "income.norm          1.56575\n",
       "gp                   0.93506\n",
       "income.lt.30K          False\n",
       "age.range            (25,65]\n",
       "Income                   NaN\n",
       "Name: 0, dtype: object"
      ]
     },
     "execution_count": 3,
     "metadata": {},
     "output_type": "execute_result"
    }
   ],
   "source": [
    "customers.iloc[0][:]"
   ]
  },
  {
   "cell_type": "markdown",
   "metadata": {},
   "source": [
    "# Discretization with `cut()`: Converting Continuous Variables to Discrete"
   ]
  },
  {
   "cell_type": "markdown",
   "metadata": {},
   "source": [
    "+ Discretizing continuous variables to discrete is useful when the relationship between input and output isn't linear, but a modeling technique, such as regression, assumes it is. \n",
    "+ Moreover, for some continuous variables, the exact value matters less than whether they fall into a certain range:\n",
    "    * E.g.: customers younger than 25 or older than 65 have high probabilities of insurance coverage \n",
    "    * E.g.: customers with income less thab $25,000 have different health insurance than customers with higher incomes"
   ]
  },
  {
   "cell_type": "code",
   "execution_count": 4,
   "metadata": {},
   "outputs": [
    {
     "data": {
      "text/plain": [
       "False    678\n",
       "True     322\n",
       "Name: low_income, dtype: int64"
      ]
     },
     "execution_count": 4,
     "metadata": {},
     "output_type": "execute_result"
    }
   ],
   "source": [
    "customers['low_income'] = (customers['income'] < 20000)\n",
    "\n",
    "customers['low_income'].value_counts()"
   ]
  },
  {
   "cell_type": "markdown",
   "metadata": {},
   "source": [
    "Let's convert age into ranges using `pd.cut()` function:"
   ]
  },
  {
   "cell_type": "code",
   "execution_count": 5,
   "metadata": {},
   "outputs": [],
   "source": [
    "bins = [0, 25, 65, float(\"inf\")]\n",
    "customers['age_groups'] = pd.cut(customers.age, bins, include_lowest=True)"
   ]
  },
  {
   "cell_type": "code",
   "execution_count": 6,
   "metadata": {},
   "outputs": [
    {
     "data": {
      "text/plain": [
       "(25.0, 65.0]      732\n",
       "(65.0, inf]       212\n",
       "(-0.001, 25.0]     56\n",
       "Name: age_groups, dtype: int64"
      ]
     },
     "execution_count": 6,
     "metadata": {},
     "output_type": "execute_result"
    }
   ],
   "source": [
    "customers['age_groups_names'] = pd.cut(customers.age, bins, \n",
    "                                       labels=[\"Young\", \"Middle Age\", \"Older\"], \n",
    "                                       include_lowest=True)\n",
    "customers['age_groups'].value_counts()"
   ]
  },
  {
   "cell_type": "code",
   "execution_count": 7,
   "metadata": {},
   "outputs": [
    {
     "data": {
      "text/plain": [
       "Middle Age    732\n",
       "Older         212\n",
       "Young          56\n",
       "Name: age_groups_names, dtype: int64"
      ]
     },
     "execution_count": 7,
     "metadata": {},
     "output_type": "execute_result"
    }
   ],
   "source": [
    "customers['age_groups_names'].value_counts()"
   ]
  },
  {
   "cell_type": "markdown",
   "metadata": {},
   "source": [
    "# Normalization"
   ]
  },
  {
   "cell_type": "markdown",
   "metadata": {},
   "source": [
    "+ _Normalization_ is useful when absolute quantities are less meaningful than relative quantities that can be:\n",
    "    * _external_ (come from analyst's domain knowledge) or \n",
    "    * _internal_ (derived from the data)\n",
    "+ Examples:\n",
    "    * normalizing income relative to another meaningful quantity: median income\n",
    "    * rather than considering customer's absolute age, consider how old or young they are relative to a \"typical\" customer, with the mean age of customers being treated as the typical age"
   ]
  },
  {
   "cell_type": "code",
   "execution_count": 8,
   "metadata": {},
   "outputs": [
    {
     "data": {
      "text/plain": [
       "count    1000.000000\n",
       "mean       51.699815\n",
       "std        18.863433\n",
       "min         0.000000\n",
       "25%        38.000000\n",
       "50%        50.000000\n",
       "75%        64.000000\n",
       "max       146.680197\n",
       "Name: age, dtype: float64"
      ]
     },
     "execution_count": 8,
     "metadata": {},
     "output_type": "execute_result"
    }
   ],
   "source": [
    "customers['age'].describe()"
   ]
  },
  {
   "cell_type": "code",
   "execution_count": 9,
   "metadata": {},
   "outputs": [
    {
     "data": {
      "text/plain": [
       "18.863433410681736"
      ]
     },
     "execution_count": 9,
     "metadata": {},
     "output_type": "execute_result"
    }
   ],
   "source": [
    "customers['age'].std()"
   ]
  },
  {
   "cell_type": "code",
   "execution_count": 10,
   "metadata": {},
   "outputs": [
    {
     "data": {
      "image/png": "[encoded data removed]",
      "text/plain": [
       "<matplotlib.figure.Figure at 0x239618aff28>"
      ]
     },
     "metadata": {},
     "output_type": "display_data"
    }
   ],
   "source": [
    "plt.hist(customers['age'])\n",
    "plt.title(\"Histogram of age\")\n",
    "plt.xlabel(\"age\")\n",
    "plt.ylabel(\"Frequency\")\n",
    "plt.show()"
   ]
  },
  {
   "cell_type": "markdown",
   "metadata": {},
   "source": [
    "Note that there are a few values of age above 100, with the maximum age of 146. Those values are probably poor data entry. Let's treat all the values of age above 100 as missing values:"
   ]
  },
  {
   "cell_type": "code",
   "execution_count": 11,
   "metadata": {},
   "outputs": [],
   "source": [
    "np.where?"
   ]
  },
  {
   "cell_type": "code",
   "execution_count": 14,
   "metadata": {},
   "outputs": [
    {
     "data": {
      "text/plain": [
       "count    992.000000\n",
       "mean      51.069556\n",
       "std       17.557178\n",
       "min        0.000000\n",
       "25%       38.000000\n",
       "50%       50.000000\n",
       "75%       63.000000\n",
       "max       93.000000\n",
       "Name: age_cleaned, dtype: float64"
      ]
     },
     "execution_count": 14,
     "metadata": {},
     "output_type": "execute_result"
    }
   ],
   "source": [
    "customers['age_cleaned'] = np.where(customers['age'] > 100, np.nan, customers.age)\n",
    "customers['age_cleaned'].describe()"
   ]
  },
  {
   "cell_type": "code",
   "execution_count": 46,
   "metadata": {},
   "outputs": [],
   "source": [
    "customers.hist?"
   ]
  },
  {
   "cell_type": "code",
   "execution_count": 15,
   "metadata": {},
   "outputs": [
    {
     "data": {
      "text/plain": [
       "Text(0,0.5,'Frequency')"
      ]
     },
     "execution_count": 15,
     "metadata": {},
     "output_type": "execute_result"
    },
    {
     "data": {
      "image/png": "[encoded data removed]",
      "text/plain": [
       "<matplotlib.figure.Figure at 0x2395dc372b0>"
      ]
     },
     "metadata": {},
     "output_type": "display_data"
    }
   ],
   "source": [
    "customers.hist(column = 'age_cleaned', grid = True)\n",
    "plt.title(\"Histogram of age_cleaned\")\n",
    "plt.xlabel(\"age.cleaned\")\n",
    "plt.ylabel(\"Frequency\")\n",
    "#plt.show()"
   ]
  },
  {
   "cell_type": "markdown",
   "metadata": {},
   "source": [
    "Now let's normalize the `age` by its mean value:"
   ]
  },
  {
   "cell_type": "code",
   "execution_count": 16,
   "metadata": {},
   "outputs": [
    {
     "data": {
      "text/plain": [
       "51.069556451612904"
      ]
     },
     "execution_count": 16,
     "metadata": {},
     "output_type": "execute_result"
    }
   ],
   "source": [
    "mean_age = customers['age_cleaned'].mean(skipna=True)\n",
    "mean_age"
   ]
  },
  {
   "cell_type": "code",
   "execution_count": 17,
   "metadata": {},
   "outputs": [
    {
     "data": {
      "text/plain": [
       "count    992.000000\n",
       "mean       1.000000\n",
       "std        0.343790\n",
       "min        0.000000\n",
       "25%        0.744083\n",
       "50%        0.979057\n",
       "75%        1.233612\n",
       "max        1.821046\n",
       "Name: age_mean_normalized, dtype: float64"
      ]
     },
     "execution_count": 17,
     "metadata": {},
     "output_type": "execute_result"
    }
   ],
   "source": [
    "customers['age_mean_normalized'] = customers['age_cleaned']/ mean_age\n",
    "customers.age_mean_normalized.describe()"
   ]
  },
  {
   "cell_type": "code",
   "execution_count": 18,
   "metadata": {},
   "outputs": [
    {
     "data": {
      "text/plain": [
       "17.557177763640016"
      ]
     },
     "execution_count": 18,
     "metadata": {},
     "output_type": "execute_result"
    }
   ],
   "source": [
    "customers['age_cleaned'].std(skipna=True)"
   ]
  },
  {
   "cell_type": "code",
   "execution_count": 19,
   "metadata": {},
   "outputs": [
    {
     "data": {
      "text/plain": [
       "Text(0,0.5,'Frequency')"
      ]
     },
     "execution_count": 19,
     "metadata": {},
     "output_type": "execute_result"
    },
    {
     "data": {
      "image/png": "[encoded data removed]",
      "text/plain": [
       "<matplotlib.figure.Figure at 0x239620254a8>"
      ]
     },
     "metadata": {},
     "output_type": "display_data"
    }
   ],
   "source": [
    "plt.hist(customers.age_mean_normalized.dropna())\n",
    "#customers.hist(column = 'age_mean_normalized', grid = True)\n",
    "\n",
    "plt.title(\"Histogram of age_mean_normalized\")\n",
    "plt.xlabel(\"age_mean_normalized\")\n",
    "plt.ylabel(\"Frequency\")"
   ]
  },
  {
   "cell_type": "markdown",
   "metadata": {},
   "source": [
    "A value of `age.normalized` that is much less than 1 signifies an unusually young customer; much greater than 1 signifies an unusially old customer. What constitutes \"much less\" or \"much greater\" than 1 depends on how wide an age spread the customers tend to be, as summerized by the standard deviation of the age."
   ]
  },
  {
   "cell_type": "markdown",
   "metadata": {},
   "source": [
    "# Standardization: Z-scores"
   ]
  },
  {
   "cell_type": "markdown",
   "metadata": {},
   "source": [
    "To ensure comparability among different variables, it is common to _rescale_ the data by using standard deviation as a unit of distance:\n",
    "\n",
    "+ _Z-score standardization_: subtracts the mean (i.e., centers) and divides by standard deviation\n",
    "    * applied to symmetrically distributed data, such as normal distribution data\n",
    "    * if the distribution is skewed, then transformations for skewed and wide distributions should be applied first _before_ Z-scores are computed \n",
    "+ Z-score values less than -1 signify values smaller than typical\n",
    "+ Z-score values greater than 1 signify values greater than typical\n",
    "+ The mean of Z-scores is zero\n",
    "+ Standard deviation of the Z-scores is 1"
   ]
  },
  {
   "cell_type": "code",
   "execution_count": 20,
   "metadata": {},
   "outputs": [
    {
     "data": {
      "text/plain": [
       "count    9.920000e+02\n",
       "mean    -3.301570e-17\n",
       "std      1.000000e+00\n",
       "min     -2.908757e+00\n",
       "25%     -7.443996e-01\n",
       "50%     -6.091847e-02\n",
       "75%      6.795194e-01\n",
       "max      2.388222e+00\n",
       "Name: age_z_scores, dtype: float64"
      ]
     },
     "execution_count": 20,
     "metadata": {},
     "output_type": "execute_result"
    }
   ],
   "source": [
    "customers['age_z_scores'] = (customers['age_cleaned']-mean_age)/customers['age_cleaned'].std()\n",
    "customers.age_z_scores.describe()"
   ]
  },
  {
   "cell_type": "code",
   "execution_count": 21,
   "metadata": {},
   "outputs": [
    {
     "data": {
      "text/plain": [
       "0   -0.459616\n",
       "1    1.476914\n",
       "2   -0.288746\n",
       "3    0.622563\n",
       "4   -0.801356\n",
       "Name: age_z_scores, dtype: float64"
      ]
     },
     "execution_count": 21,
     "metadata": {},
     "output_type": "execute_result"
    }
   ],
   "source": [
    "customers['age_z_scores'].head()"
   ]
  },
  {
   "cell_type": "code",
   "execution_count": 22,
   "metadata": {},
   "outputs": [
    {
     "data": {
      "text/plain": [
       "Text(0,0.5,'Frequency')"
      ]
     },
     "execution_count": 22,
     "metadata": {},
     "output_type": "execute_result"
    },
    {
     "data": {
      "image/png": "[encoded data removed]",
      "text/plain": [
       "<matplotlib.figure.Figure at 0x23961ef44e0>"
      ]
     },
     "metadata": {},
     "output_type": "display_data"
    }
   ],
   "source": [
    "plt.hist(customers.age_z_scores.dropna(),\n",
    "        range=(min(customers.age_z_scores), \n",
    "               max(customers.age_z_scores)))\n",
    "plt.title(\"Histogram of age_z_scores\")\n",
    "plt.xlabel(\"age_z_scores\")\n",
    "plt.ylabel(\"Frequency\")"
   ]
  },
  {
   "cell_type": "markdown",
   "metadata": {},
   "source": [
    "# Standardization for Comparability"
   ]
  },
  {
   "cell_type": "markdown",
   "metadata": {},
   "source": [
    "Let's extract a few variables of interest that will be used to measure the proximity (i.e., distance) between the customers:"
   ]
  },
  {
   "cell_type": "code",
   "execution_count": 23,
   "metadata": {},
   "outputs": [
    {
     "data": {
      "text/html": [
       "<div>\n",
       "<style scoped>\n",
       "    .dataframe tbody tr th:only-of-type {\n",
       "        vertical-align: middle;\n",
       "    }\n",
       "\n",
       "    .dataframe tbody tr th {\n",
       "        vertical-align: top;\n",
       "    }\n",
       "\n",
       "    .dataframe thead th {\n",
       "        text-align: right;\n",
       "    }\n",
       "</style>\n",
       "<table border=\"1\" class=\"dataframe\">\n",
       "  <thead>\n",
       "    <tr style=\"text-align: right;\">\n",
       "      <th></th>\n",
       "      <th>income</th>\n",
       "      <th>age_cleaned</th>\n",
       "    </tr>\n",
       "  </thead>\n",
       "  <tbody>\n",
       "    <tr>\n",
       "      <th>count</th>\n",
       "      <td>1000.000000</td>\n",
       "      <td>992.000000</td>\n",
       "    </tr>\n",
       "    <tr>\n",
       "      <th>mean</th>\n",
       "      <td>53504.771000</td>\n",
       "      <td>51.069556</td>\n",
       "    </tr>\n",
       "    <tr>\n",
       "      <th>std</th>\n",
       "      <td>65478.065729</td>\n",
       "      <td>17.557178</td>\n",
       "    </tr>\n",
       "    <tr>\n",
       "      <th>min</th>\n",
       "      <td>-8700.000000</td>\n",
       "      <td>0.000000</td>\n",
       "    </tr>\n",
       "    <tr>\n",
       "      <th>25%</th>\n",
       "      <td>14600.000000</td>\n",
       "      <td>38.000000</td>\n",
       "    </tr>\n",
       "    <tr>\n",
       "      <th>50%</th>\n",
       "      <td>35000.000000</td>\n",
       "      <td>50.000000</td>\n",
       "    </tr>\n",
       "    <tr>\n",
       "      <th>75%</th>\n",
       "      <td>67000.000000</td>\n",
       "      <td>63.000000</td>\n",
       "    </tr>\n",
       "    <tr>\n",
       "      <th>max</th>\n",
       "      <td>615000.000000</td>\n",
       "      <td>93.000000</td>\n",
       "    </tr>\n",
       "  </tbody>\n",
       "</table>\n",
       "</div>"
      ],
      "text/plain": [
       "              income  age_cleaned\n",
       "count    1000.000000   992.000000\n",
       "mean    53504.771000    51.069556\n",
       "std     65478.065729    17.557178\n",
       "min     -8700.000000     0.000000\n",
       "25%     14600.000000    38.000000\n",
       "50%     35000.000000    50.000000\n",
       "75%     67000.000000    63.000000\n",
       "max    615000.000000    93.000000"
      ]
     },
     "execution_count": 23,
     "metadata": {},
     "output_type": "execute_result"
    }
   ],
   "source": [
    "var_roi = [\"income\", \"age_cleaned\"]\n",
    "customers_roi = customers[var_roi]\n",
    "customers_roi.describe()"
   ]
  },
  {
   "cell_type": "markdown",
   "metadata": {},
   "source": [
    "Note that there is a negative value for the income (`min = -8700`). Since income can not be negative, let's assume that there was an error in the data entry. Let's replace all the negative values with `NAs`:"
   ]
  },
  {
   "cell_type": "code",
   "execution_count": 24,
   "metadata": {},
   "outputs": [
    {
     "data": {
      "text/plain": [
       "Text(0,0.5,'Frequency')"
      ]
     },
     "execution_count": 24,
     "metadata": {},
     "output_type": "execute_result"
    },
    {
     "data": {
      "image/png": "[encoded data removed]",
      "text/plain": [
       "<matplotlib.figure.Figure at 0x2396186a9e8>"
      ]
     },
     "metadata": {},
     "output_type": "display_data"
    }
   ],
   "source": [
    "customers['income_cleaned'] = np.where(customers.income < 0.0, np.nan, customers.income)\n",
    "plt.hist(customers['income_cleaned'].dropna(), \n",
    "         range=(min(customers['income_cleaned']), \n",
    "                max(customers['income_cleaned'])))\n",
    "plt.title(\"Histogram of income_cleaned\")\n",
    "plt.xlabel(\"income_cleaned\")\n",
    "plt.ylabel(\"Frequency\")"
   ]
  },
  {
   "cell_type": "code",
   "execution_count": 25,
   "metadata": {},
   "outputs": [
    {
     "data": {
      "text/html": [
       "<div>\n",
       "<style scoped>\n",
       "    .dataframe tbody tr th:only-of-type {\n",
       "        vertical-align: middle;\n",
       "    }\n",
       "\n",
       "    .dataframe tbody tr th {\n",
       "        vertical-align: top;\n",
       "    }\n",
       "\n",
       "    .dataframe thead th {\n",
       "        text-align: right;\n",
       "    }\n",
       "</style>\n",
       "<table border=\"1\" class=\"dataframe\">\n",
       "  <thead>\n",
       "    <tr style=\"text-align: right;\">\n",
       "      <th></th>\n",
       "      <th>income_cleaned</th>\n",
       "      <th>age_cleaned</th>\n",
       "    </tr>\n",
       "  </thead>\n",
       "  <tbody>\n",
       "    <tr>\n",
       "      <th>count</th>\n",
       "      <td>999.000000</td>\n",
       "      <td>992.000000</td>\n",
       "    </tr>\n",
       "    <tr>\n",
       "      <th>mean</th>\n",
       "      <td>53567.038038</td>\n",
       "      <td>51.069556</td>\n",
       "    </tr>\n",
       "    <tr>\n",
       "      <th>std</th>\n",
       "      <td>65481.233889</td>\n",
       "      <td>17.557178</td>\n",
       "    </tr>\n",
       "    <tr>\n",
       "      <th>min</th>\n",
       "      <td>0.000000</td>\n",
       "      <td>0.000000</td>\n",
       "    </tr>\n",
       "    <tr>\n",
       "      <th>25%</th>\n",
       "      <td>14700.000000</td>\n",
       "      <td>38.000000</td>\n",
       "    </tr>\n",
       "    <tr>\n",
       "      <th>50%</th>\n",
       "      <td>35000.000000</td>\n",
       "      <td>50.000000</td>\n",
       "    </tr>\n",
       "    <tr>\n",
       "      <th>75%</th>\n",
       "      <td>67000.000000</td>\n",
       "      <td>63.000000</td>\n",
       "    </tr>\n",
       "    <tr>\n",
       "      <th>max</th>\n",
       "      <td>615000.000000</td>\n",
       "      <td>93.000000</td>\n",
       "    </tr>\n",
       "  </tbody>\n",
       "</table>\n",
       "</div>"
      ],
      "text/plain": [
       "       income_cleaned  age_cleaned\n",
       "count      999.000000   992.000000\n",
       "mean     53567.038038    51.069556\n",
       "std      65481.233889    17.557178\n",
       "min          0.000000     0.000000\n",
       "25%      14700.000000    38.000000\n",
       "50%      35000.000000    50.000000\n",
       "75%      67000.000000    63.000000\n",
       "max     615000.000000    93.000000"
      ]
     },
     "execution_count": 25,
     "metadata": {},
     "output_type": "execute_result"
    }
   ],
   "source": [
    "var_roi = [\"income_cleaned\", \"age_cleaned\"]\n",
    "customers_roi = customers[var_roi]\n",
    "customers_roi.describe()"
   ]
  },
  {
   "cell_type": "markdown",
   "metadata": {},
   "source": [
    "Note that the two variables, `income` and `age`, are on different scales with `income` being orders of magnitude larger than `age`.\n",
    "\n",
    "If we have to compute the pair-wise distances between customers, then it is likely that the differences in `income` will dominate the measure of proximity and differences in `age` will have little influence. For the purpose of illustration, let's compute the pair-wise distance matrix for the first few customers:"
   ]
  },
  {
   "cell_type": "code",
   "execution_count": 26,
   "metadata": {},
   "outputs": [
    {
     "data": {
      "text/html": [
       "<div>\n",
       "<style scoped>\n",
       "    .dataframe tbody tr th:only-of-type {\n",
       "        vertical-align: middle;\n",
       "    }\n",
       "\n",
       "    .dataframe tbody tr th {\n",
       "        vertical-align: top;\n",
       "    }\n",
       "\n",
       "    .dataframe thead th {\n",
       "        text-align: right;\n",
       "    }\n",
       "</style>\n",
       "<table border=\"1\" class=\"dataframe\">\n",
       "  <thead>\n",
       "    <tr style=\"text-align: right;\">\n",
       "      <th></th>\n",
       "      <th>income_cleaned</th>\n",
       "      <th>age_cleaned</th>\n",
       "    </tr>\n",
       "  </thead>\n",
       "  <tbody>\n",
       "    <tr>\n",
       "      <th>753</th>\n",
       "      <td>2000.0</td>\n",
       "      <td>28.0</td>\n",
       "    </tr>\n",
       "    <tr>\n",
       "      <th>468</th>\n",
       "      <td>15200.0</td>\n",
       "      <td>65.0</td>\n",
       "    </tr>\n",
       "    <tr>\n",
       "      <th>111</th>\n",
       "      <td>60000.0</td>\n",
       "      <td>85.0</td>\n",
       "    </tr>\n",
       "    <tr>\n",
       "      <th>427</th>\n",
       "      <td>61000.0</td>\n",
       "      <td>35.0</td>\n",
       "    </tr>\n",
       "    <tr>\n",
       "      <th>486</th>\n",
       "      <td>45500.0</td>\n",
       "      <td>40.0</td>\n",
       "    </tr>\n",
       "    <tr>\n",
       "      <th>996</th>\n",
       "      <td>15900.0</td>\n",
       "      <td>88.0</td>\n",
       "    </tr>\n",
       "    <tr>\n",
       "      <th>213</th>\n",
       "      <td>26000.0</td>\n",
       "      <td>54.0</td>\n",
       "    </tr>\n",
       "    <tr>\n",
       "      <th>187</th>\n",
       "      <td>170000.0</td>\n",
       "      <td>34.0</td>\n",
       "    </tr>\n",
       "  </tbody>\n",
       "</table>\n",
       "</div>"
      ],
      "text/plain": [
       "     income_cleaned  age_cleaned\n",
       "753          2000.0         28.0\n",
       "468         15200.0         65.0\n",
       "111         60000.0         85.0\n",
       "427         61000.0         35.0\n",
       "486         45500.0         40.0\n",
       "996         15900.0         88.0\n",
       "213         26000.0         54.0\n",
       "187        170000.0         34.0"
      ]
     },
     "execution_count": 26,
     "metadata": {},
     "output_type": "execute_result"
    }
   ],
   "source": [
    "rows_roi = [753, 468, 111, 427, 486, 996, 213, 187]\n",
    "customers_roi.iloc[rows_roi, :]"
   ]
  },
  {
   "cell_type": "code",
   "execution_count": 122,
   "metadata": {},
   "outputs": [],
   "source": [
    "scipy.spatial.distance.pdist?"
   ]
  },
  {
   "cell_type": "code",
   "execution_count": 27,
   "metadata": {},
   "outputs": [
    {
     "data": {
      "text/plain": [
       "array([ 13200.05185596,  58000.02800861,  59000.00041525,  43500.00165517,\n",
       "        13900.1294958 ,  24000.01408333, 168000.00010714,  44800.00446429,\n",
       "        45800.00982533,  30300.01031353,    700.37775521,  10800.00560185,\n",
       "       154800.00310401,   1001.24921973,  14500.06982742,  44100.00010204,\n",
       "        34000.01413235, 110000.01182273,  15500.00080645,  45100.0311419 ,\n",
       "        35000.00515714, 109000.00000459,  29600.03891889,  19500.00502564,\n",
       "       124500.00014458,  10100.05722756, 154100.00946139, 144000.00138889])"
      ]
     },
     "execution_count": 27,
     "metadata": {},
     "output_type": "execute_result"
    }
   ],
   "source": [
    "matrix = scipy.spatial.distance.pdist(customers_roi.iloc[rows_roi, :],\n",
    "                                     metric='euclidean')\n",
    "matrix"
   ]
  },
  {
   "cell_type": "markdown",
   "metadata": {},
   "source": [
    "Now let's visualize the results of clustering the customers that are the closest into the same group and customers that are the farthest into different groups using this distance matrix:"
   ]
  },
  {
   "cell_type": "code",
   "execution_count": 115,
   "metadata": {},
   "outputs": [],
   "source": [
    "linkage?"
   ]
  },
  {
   "cell_type": "code",
   "execution_count": 28,
   "metadata": {},
   "outputs": [],
   "source": [
    "Z = linkage(matrix, \n",
    "            method='ward', \n",
    "            metric='euclidean')"
   ]
  },
  {
   "cell_type": "code",
   "execution_count": 29,
   "metadata": {},
   "outputs": [
    {
     "data": {
      "text/plain": [
       "{'color_list': ['g', 'g', 'g', 'g', 'g', 'g', 'b'],\n",
       " 'dcoord': [[0.0, 1001.2492197250393, 1001.2492197250393, 0.0],\n",
       "  [0.0, 17320.523471689106, 17320.523471689106, 1001.2492197250393],\n",
       "  [0.0, 700.3777552149983, 700.3777552149983, 0.0],\n",
       "  [0.0, 12066.648595750741, 12066.648595750741, 700.3777552149983],\n",
       "  [0.0, 20861.5480769445, 20861.5480769445, 12066.648595750741],\n",
       "  [17320.523471689106, 75408.0477934803, 75408.0477934803, 20861.5480769445],\n",
       "  [0.0, 182254.4713001381, 182254.4713001381, 75408.0477934803]],\n",
       " 'icoord': [[25.0, 25.0, 35.0, 35.0],\n",
       "  [15.0, 15.0, 30.0, 30.0],\n",
       "  [65.0, 65.0, 75.0, 75.0],\n",
       "  [55.0, 55.0, 70.0, 70.0],\n",
       "  [45.0, 45.0, 62.5, 62.5],\n",
       "  [22.5, 22.5, 53.75, 53.75],\n",
       "  [5.0, 5.0, 38.125, 38.125]],\n",
       " 'ivl': [187, 486, 111, 427, 753, 213, 468, 996],\n",
       " 'leaves': [7, 4, 2, 3, 0, 6, 1, 5]}"
      ]
     },
     "execution_count": 29,
     "metadata": {},
     "output_type": "execute_result"
    },
    {
     "data": {
      "image/png": "[encoded data removed]",
      "text/plain": [
       "<matplotlib.figure.Figure at 0x23961de1fd0>"
      ]
     },
     "metadata": {},
     "output_type": "display_data"
    }
   ],
   "source": [
    "dendrogram(Z, labels=np.array([753, 468, 111, 427, 486, 996, 213, 187]))  "
   ]
  },
  {
   "cell_type": "markdown",
   "metadata": {},
   "source": [
    "Now, let's first standardize these variables of interest to their $Z$-scores and repeat the clustering.\n",
    "\n",
    "The histogram of the `income.cleaned` is right-skewed, which is not symmetric. Before converting this variable to its standardized $Z$-score, let's first transform this variable to a more symmetric distribution. Because it is _right-skewed_, we need to compress its large values by descending the ladder of powers ($p < 1$):"
   ]
  },
  {
   "cell_type": "code",
   "execution_count": 30,
   "metadata": {},
   "outputs": [
    {
     "data": {
      "text/plain": [
       "Text(0,0.5,'Frequency')"
      ]
     },
     "execution_count": 30,
     "metadata": {},
     "output_type": "execute_result"
    },
    {
     "data": {
      "image/png": "[encoded data removed]",
      "text/plain": [
       "<matplotlib.figure.Figure at 0x23961fee1d0>"
      ]
     },
     "metadata": {},
     "output_type": "display_data"
    }
   ],
   "source": [
    "p = 0.25\n",
    "plt.hist(customers['income_cleaned'].dropna() ** p , \n",
    "         range=(min(customers['income_cleaned']**p),\n",
    "                max(customers['income_cleaned']**p)))\n",
    "plt.title(\"Histogram of income_cleaned\")\n",
    "plt.xlabel(\"income_cleaned\")\n",
    "plt.ylabel(\"Frequency\")"
   ]
  },
  {
   "cell_type": "code",
   "execution_count": 31,
   "metadata": {},
   "outputs": [
    {
     "data": {
      "text/plain": [
       "0    16.922069\n",
       "1    14.878153\n",
       "2     9.146912\n",
       "3    13.887873\n",
       "4    16.265766\n",
       "Name: income_transformed, dtype: float64"
      ]
     },
     "execution_count": 31,
     "metadata": {},
     "output_type": "execute_result"
    }
   ],
   "source": [
    "customers['income_transformed'] = customers.income_cleaned ** p\n",
    "customers['income_transformed'].head()"
   ]
  },
  {
   "cell_type": "code",
   "execution_count": 32,
   "metadata": {},
   "outputs": [
    {
     "data": {
      "text/plain": [
       "0    0.744679\n",
       "1    0.353750\n",
       "2   -0.742433\n",
       "3    0.164345\n",
       "4    0.619151\n",
       "Name: income_z_scores, dtype: float64"
      ]
     },
     "execution_count": 32,
     "metadata": {},
     "output_type": "execute_result"
    }
   ],
   "source": [
    "customers['income_z_scores'] = (customers.income_transformed - customers.income_transformed.mean(skipna=True)) / customers.income_transformed.std(skipna=True)\n",
    "customers['income_z_scores'].head()"
   ]
  },
  {
   "cell_type": "code",
   "execution_count": 33,
   "metadata": {},
   "outputs": [
    {
     "data": {
      "text/html": [
       "<div>\n",
       "<style scoped>\n",
       "    .dataframe tbody tr th:only-of-type {\n",
       "        vertical-align: middle;\n",
       "    }\n",
       "\n",
       "    .dataframe tbody tr th {\n",
       "        vertical-align: top;\n",
       "    }\n",
       "\n",
       "    .dataframe thead th {\n",
       "        text-align: right;\n",
       "    }\n",
       "</style>\n",
       "<table border=\"1\" class=\"dataframe\">\n",
       "  <thead>\n",
       "    <tr style=\"text-align: right;\">\n",
       "      <th></th>\n",
       "      <th>income_z_scores</th>\n",
       "      <th>age_z_scores</th>\n",
       "    </tr>\n",
       "  </thead>\n",
       "  <tbody>\n",
       "    <tr>\n",
       "      <th>count</th>\n",
       "      <td>9.990000e+02</td>\n",
       "      <td>9.920000e+02</td>\n",
       "    </tr>\n",
       "    <tr>\n",
       "      <th>mean</th>\n",
       "      <td>4.986279e-16</td>\n",
       "      <td>-3.301570e-17</td>\n",
       "    </tr>\n",
       "    <tr>\n",
       "      <th>std</th>\n",
       "      <td>1.000000e+00</td>\n",
       "      <td>1.000000e+00</td>\n",
       "    </tr>\n",
       "    <tr>\n",
       "      <th>min</th>\n",
       "      <td>-2.491914e+00</td>\n",
       "      <td>-2.908757e+00</td>\n",
       "    </tr>\n",
       "    <tr>\n",
       "      <th>25%</th>\n",
       "      <td>-3.858959e-01</td>\n",
       "      <td>-7.443996e-01</td>\n",
       "    </tr>\n",
       "    <tr>\n",
       "      <th>50%</th>\n",
       "      <td>1.241697e-01</td>\n",
       "      <td>-6.091847e-02</td>\n",
       "    </tr>\n",
       "    <tr>\n",
       "      <th>75%</th>\n",
       "      <td>5.852689e-01</td>\n",
       "      <td>6.795194e-01</td>\n",
       "    </tr>\n",
       "    <tr>\n",
       "      <th>max</th>\n",
       "      <td>2.864244e+00</td>\n",
       "      <td>2.388222e+00</td>\n",
       "    </tr>\n",
       "  </tbody>\n",
       "</table>\n",
       "</div>"
      ],
      "text/plain": [
       "       income_z_scores  age_z_scores\n",
       "count     9.990000e+02  9.920000e+02\n",
       "mean      4.986279e-16 -3.301570e-17\n",
       "std       1.000000e+00  1.000000e+00\n",
       "min      -2.491914e+00 -2.908757e+00\n",
       "25%      -3.858959e-01 -7.443996e-01\n",
       "50%       1.241697e-01 -6.091847e-02\n",
       "75%       5.852689e-01  6.795194e-01\n",
       "max       2.864244e+00  2.388222e+00"
      ]
     },
     "execution_count": 33,
     "metadata": {},
     "output_type": "execute_result"
    }
   ],
   "source": [
    "var_zscores_roi = [\"income_z_scores\", \"age_z_scores\"]\n",
    "customers_zscores_roi = customers[var_zscores_roi]\n",
    "customers_zscores_roi.describe()"
   ]
  },
  {
   "cell_type": "code",
   "execution_count": 34,
   "metadata": {},
   "outputs": [
    {
     "data": {
      "text/html": [
       "<div>\n",
       "<style scoped>\n",
       "    .dataframe tbody tr th:only-of-type {\n",
       "        vertical-align: middle;\n",
       "    }\n",
       "\n",
       "    .dataframe tbody tr th {\n",
       "        vertical-align: top;\n",
       "    }\n",
       "\n",
       "    .dataframe thead th {\n",
       "        text-align: right;\n",
       "    }\n",
       "</style>\n",
       "<table border=\"1\" class=\"dataframe\">\n",
       "  <thead>\n",
       "    <tr style=\"text-align: right;\">\n",
       "      <th></th>\n",
       "      <th>income_z_scores</th>\n",
       "      <th>age_z_scores</th>\n",
       "    </tr>\n",
       "  </thead>\n",
       "  <tbody>\n",
       "    <tr>\n",
       "      <th>753</th>\n",
       "      <td>-1.212850</td>\n",
       "      <td>-1.313967</td>\n",
       "    </tr>\n",
       "    <tr>\n",
       "      <th>468</th>\n",
       "      <td>-0.368202</td>\n",
       "      <td>0.793433</td>\n",
       "    </tr>\n",
       "    <tr>\n",
       "      <th>111</th>\n",
       "      <td>0.501539</td>\n",
       "      <td>1.932568</td>\n",
       "    </tr>\n",
       "    <tr>\n",
       "      <th>427</th>\n",
       "      <td>0.513934</td>\n",
       "      <td>-0.915270</td>\n",
       "    </tr>\n",
       "    <tr>\n",
       "      <th>486</th>\n",
       "      <td>0.301514</td>\n",
       "      <td>-0.630486</td>\n",
       "    </tr>\n",
       "    <tr>\n",
       "      <th>996</th>\n",
       "      <td>-0.344163</td>\n",
       "      <td>2.103438</td>\n",
       "    </tr>\n",
       "    <tr>\n",
       "      <th>213</th>\n",
       "      <td>-0.063191</td>\n",
       "      <td>0.166909</td>\n",
       "    </tr>\n",
       "    <tr>\n",
       "      <th>187</th>\n",
       "      <td>1.391796</td>\n",
       "      <td>-0.972227</td>\n",
       "    </tr>\n",
       "  </tbody>\n",
       "</table>\n",
       "</div>"
      ],
      "text/plain": [
       "     income_z_scores  age_z_scores\n",
       "753        -1.212850     -1.313967\n",
       "468        -0.368202      0.793433\n",
       "111         0.501539      1.932568\n",
       "427         0.513934     -0.915270\n",
       "486         0.301514     -0.630486\n",
       "996        -0.344163      2.103438\n",
       "213        -0.063191      0.166909\n",
       "187         1.391796     -0.972227"
      ]
     },
     "execution_count": 34,
     "metadata": {},
     "output_type": "execute_result"
    }
   ],
   "source": [
    "customers_zscores_roi.iloc[rows_roi, :]"
   ]
  },
  {
   "cell_type": "code",
   "execution_count": 35,
   "metadata": {},
   "outputs": [
    {
     "data": {
      "text/plain": [
       "array([ 13200.05185596,  58000.02800861,  59000.00041525,  43500.00165517,\n",
       "        13900.1294958 ,  24000.01408333, 168000.00010714,  44800.00446429,\n",
       "        45800.00982533,  30300.01031353,    700.37775521,  10800.00560185,\n",
       "       154800.00310401,   1001.24921973,  14500.06982742,  44100.00010204,\n",
       "        34000.01413235, 110000.01182273,  15500.00080645,  45100.0311419 ,\n",
       "        35000.00515714, 109000.00000459,  29600.03891889,  19500.00502564,\n",
       "       124500.00014458,  10100.05722756, 154100.00946139, 144000.00138889])"
      ]
     },
     "execution_count": 35,
     "metadata": {},
     "output_type": "execute_result"
    }
   ],
   "source": [
    "d_zscores = scipy.spatial.distance.pdist(customers_roi.iloc[rows_roi, :],\n",
    "                                     metric='euclidean')\n",
    "d_zscores"
   ]
  },
  {
   "cell_type": "code",
   "execution_count": 109,
   "metadata": {},
   "outputs": [],
   "source": [
    "linkage?"
   ]
  },
  {
   "cell_type": "code",
   "execution_count": 128,
   "metadata": {},
   "outputs": [],
   "source": [
    "# from scipy.cluster.hierarchy import dendrogram, linkage\n",
    "Z = linkage(matrix, \n",
    "            method='ward', \n",
    "            metric='euclidean')"
   ]
  },
  {
   "cell_type": "code",
   "execution_count": 131,
   "metadata": {
    "scrolled": true
   },
   "outputs": [
    {
     "data": {
      "text/plain": [
       "{'color_list': ['g', 'g', 'g', 'g', 'g', 'g', 'b'],\n",
       " 'dcoord': [[0.0, 1001.2492197250393, 1001.2492197250393, 0.0],\n",
       "  [0.0, 17320.523471689106, 17320.523471689106, 1001.2492197250393],\n",
       "  [0.0, 700.37775521499827, 700.37775521499827, 0.0],\n",
       "  [0.0, 12066.648595750741, 12066.648595750741, 700.37775521499827],\n",
       "  [0.0, 20861.548076944498, 20861.548076944498, 12066.648595750741],\n",
       "  [17320.523471689106,\n",
       "   75408.047793480306,\n",
       "   75408.047793480306,\n",
       "   20861.548076944498],\n",
       "  [0.0, 182254.4713001381, 182254.4713001381, 75408.047793480306]],\n",
       " 'icoord': [[25.0, 25.0, 35.0, 35.0],\n",
       "  [15.0, 15.0, 30.0, 30.0],\n",
       "  [65.0, 65.0, 75.0, 75.0],\n",
       "  [55.0, 55.0, 70.0, 70.0],\n",
       "  [45.0, 45.0, 62.5, 62.5],\n",
       "  [22.5, 22.5, 53.75, 53.75],\n",
       "  [5.0, 5.0, 38.125, 38.125]],\n",
       " 'ivl': [187, 486, 111, 427, 753, 213, 468, 996],\n",
       " 'leaves': [7, 4, 2, 3, 0, 6, 1, 5]}"
      ]
     },
     "execution_count": 131,
     "metadata": {},
     "output_type": "execute_result"
    },
    {
     "data": {
      "image/png": "[encoded data removed]",
      "text/plain": [
       "<matplotlib.figure.Figure at 0xef61940>"
      ]
     },
     "metadata": {},
     "output_type": "display_data"
    }
   ],
   "source": [
    "dendrogram(Z, labels=np.array([753, 468, 111, 427, 486, 996, 213, 187]))  "
   ]
  },
  {
   "cell_type": "markdown",
   "metadata": {},
   "source": [
    "### Saving Cleaned Data"
   ]
  },
  {
   "cell_type": "code",
   "execution_count": 36,
   "metadata": {},
   "outputs": [],
   "source": [
    "customers.to_csv('../data_output/customers.cleaned.csv')"
   ]
  }
 ],
 "metadata": {
  "kernelspec": {
   "display_name": "Python 3",
   "language": "python",
   "name": "python3"
  },
  "language_info": {
   "codemirror_mode": {
    "name": "ipython",
    "version": 3
   },
   "file_extension": ".py",
   "mimetype": "text/x-python",
   "name": "python",
   "nbconvert_exporter": "python",
   "pygments_lexer": "ipython3",
   "version": "3.6.4"
  }
 },
 "nbformat": 4,
 "nbformat_minor": 2
}
