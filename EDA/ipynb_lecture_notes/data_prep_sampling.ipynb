{
 "cells": [
  {
   "cell_type": "markdown",
   "metadata": {},
   "source": [
    "# Data Preprocessing: Sampling"
   ]
  },
  {
   "cell_type": "markdown",
   "metadata": {},
   "source": [
    "* __Author: Prof. Nagiza F. Samatova__\n",
    "* __Email: samatova@csc.ncsu.edu__\n",
    "* __Date: September 25, 2018__"
   ]
  },
  {
   "cell_type": "markdown",
   "metadata": {},
   "source": [
    "## Install Packages"
   ]
  },
  {
   "cell_type": "markdown",
   "metadata": {},
   "source": [
    "Install the following packages if required. They most likely came with your Anaconda and/or Python distribution.\n",
    "\n",
    "```python\n",
    "    pip3 install numpy\n",
    "    pip3 install scipy\n",
    "    pip3 install pylab\n",
    "    pip3 install matplotlib\n",
    "```\n",
    "\n",
    "This code runs using Python3."
   ]
  },
  {
   "cell_type": "markdown",
   "metadata": {},
   "source": [
    "## Load Packages"
   ]
  },
  {
   "cell_type": "code",
   "execution_count": 3,
   "metadata": {},
   "outputs": [],
   "source": [
    "import numpy as np\n",
    "import pandas as pd\n",
    "\n",
    "import scipy\n",
    "from scipy.stats import norm, gaussian_kde\n",
    "import scipy.stats as stats\n",
    "import scipy.sparse as _sparse\n",
    "\n",
    "import matplotlib.pyplot as plt\n",
    "%matplotlib inline\n",
    "%precision 4\n",
    "\n",
    "import pylab as pl\n",
    "\n",
    "import seaborn as sns\n",
    "\n",
    "from sklearn import svm"
   ]
  },
  {
   "cell_type": "code",
   "execution_count": 4,
   "metadata": {},
   "outputs": [],
   "source": [
    "try:\n",
    "    from sklearn.model_selection import StratifiedShuffleSplit\n",
    "except:\n",
    "    print('Need scikit-learn for Stratified shuffle split functionality')"
   ]
  },
  {
   "cell_type": "code",
   "execution_count": 5,
   "metadata": {},
   "outputs": [],
   "source": [
    "try:\n",
    "    from sklearn.model_selection import StratifiedKFold\n",
    "except:\n",
    "    print('Need scikit-learn for Stratified k-fold functionality')"
   ]
  },
  {
   "cell_type": "code",
   "execution_count": 6,
   "metadata": {},
   "outputs": [],
   "source": [
    "np.set_printoptions(formatter={'float': lambda x: '%.3f' % x})"
   ]
  },
  {
   "cell_type": "markdown",
   "metadata": {},
   "source": [
    "## Sample Statistic vs. Population Parameters for the Normal (Gaussian) Distribution"
   ]
  },
  {
   "cell_type": "markdown",
   "metadata": {},
   "source": [
    "* _Mean_:\n",
    "    + Population Parameter: mu\n",
    "    + Sample Statistic: X_bar\n",
    "* _Variance_:\n",
    "    + Population Parameter: $sigma^2$\n",
    "    + Sample Statistic: $S^2$    \n",
    "* _Standard Deviation_ (sd):\n",
    "    + Population Parameter: sigma\n",
    "    + Sample Statistic: S\n",
    "    + $sd = sqrt(variance)$ \n"
   ]
  },
  {
   "cell_type": "markdown",
   "metadata": {},
   "source": [
    "+ Let's first generate a sample of `size=100` that consists of random numbers drawn from the normal distribution with the following _population parameters_: \n",
    "    * mean: `loc=50` and \n",
    "    * standard deviation: `scale=10`\n",
    "+ Next, compute and compare the sample statistic for the sample so generated. \n",
    "+ Are the values of the sample statistic equal to the population parameters? \n",
    "+ Run this code snippet below several times and observe how the reported sample statistic varies from the population parameters of the underlying distribution used for drawing this sample"
   ]
  },
  {
   "cell_type": "code",
   "execution_count": 7,
   "metadata": {},
   "outputs": [
    {
     "name": "stdout",
     "output_type": "stream",
     "text": [
      "('Sample Statistic: Mean: ', 50.913602413573315)\n",
      "('Sample Statistic: Standard Deviation: ', 10.774099621967856)\n"
     ]
    },
    {
     "data": {
      "text/plain": [
       "numpy.ndarray"
      ]
     },
     "execution_count": 7,
     "metadata": {},
     "output_type": "execute_result"
    }
   ],
   "source": [
    "rand_normal = stats.norm.rvs(loc=50, scale=10, size=100)\n",
    "\n",
    "# Sample mean and standard deviation\n",
    "print (\"Sample Statistic: Mean: \", rand_normal.mean())\n",
    "print (\"Sample Statistic: Standard Deviation: \", rand_normal.std())\n",
    "type (rand_normal)"
   ]
  },
  {
   "cell_type": "markdown",
   "metadata": {},
   "source": [
    "+ Let's generate `n_samples = 1000` samples of `size=100`, each consisting of random numbers drawn from the normal distribution with the same population parameters: \n",
    "    * mean of `loc=50` and \n",
    "    * standard deviation of `scale=10`\n",
    "+ Compute the means of these samples and store them in a list, `m_estimates`\n",
    "+ Visualize the histogram of these means\n",
    "+ Report the _standard error_, or the variance of the sample means"
   ]
  },
  {
   "cell_type": "code",
   "execution_count": 6,
   "metadata": {},
   "outputs": [
    {
     "data": {
      "image/png": "[encoded data removed]",
      "text/plain": [
       "<matplotlib.figure.Figure at 0x15cc63edc50>"
      ]
     },
     "metadata": {},
     "output_type": "display_data"
    },
    {
     "data": {
      "text/plain": [
       "list"
      ]
     },
     "execution_count": 6,
     "metadata": {},
     "output_type": "execute_result"
    }
   ],
   "source": [
    "# population mean estimates\n",
    "n_samples = 1000\n",
    "mean = 50\n",
    "sd = 10\n",
    "sample_size = 100\n",
    "\n",
    "m_estimates = [stats.norm.rvs(loc=mean, \n",
    "                              scale=sd, \n",
    "                              size=sample_size).mean() \n",
    "               for _ in range(n_samples)]\n",
    "\n",
    "plt.hist(m_estimates)\n",
    "plt.title(\"Histogram of m_estimates\")\n",
    "plt.xlabel(\"Value\")\n",
    "plt.ylabel(\"Frequency\")\n",
    "#plt.gcf()\n",
    "plt.show()\n",
    "\n",
    "type (m_estimates)"
   ]
  },
  {
   "cell_type": "code",
   "execution_count": 7,
   "metadata": {},
   "outputs": [
    {
     "name": "stdout",
     "output_type": "stream",
     "text": [
      "Mean of sample means:  50.001128195756635\n",
      "Standard Error:  0.9918739199663034\n"
     ]
    }
   ],
   "source": [
    "print (\"Mean of sample means: \", np.array(m_estimates).mean())\n",
    "print (\"Standard Error: \", np.array(m_estimates).var())"
   ]
  },
  {
   "cell_type": "code",
   "execution_count": 15,
   "metadata": {},
   "outputs": [],
   "source": [
    "plt.gcf?"
   ]
  },
  {
   "cell_type": "markdown",
   "metadata": {},
   "source": [
    "***\n",
    "## Explore Unit Normal Distribution"
   ]
  },
  {
   "cell_type": "markdown",
   "metadata": {},
   "source": [
    "The parameters of the _unit normal_:\n",
    "+ mean = 0\n",
    "+ standard deviation = 1"
   ]
  },
  {
   "cell_type": "code",
   "execution_count": 8,
   "metadata": {},
   "outputs": [
    {
     "data": {
      "text/plain": [
       "array([0.070, 0.110, -0.025])"
      ]
     },
     "execution_count": 8,
     "metadata": {},
     "output_type": "execute_result"
    }
   ],
   "source": [
    "# Generate 1000 points drawn \n",
    "# from the unit normal distribution: N( 1.0, 0.0)\n",
    "mean = 0.0\n",
    "sd = 1.0\n",
    "randUnitNormal = scipy.stats.norm.rvs(loc=mean, \n",
    "                                      scale=sd, \n",
    "                                      size=100)\n",
    "randUnitNormal[0:3]"
   ]
  },
  {
   "cell_type": "code",
   "execution_count": 9,
   "metadata": {},
   "outputs": [
    {
     "data": {
      "image/png": "[encoded data removed]",
      "text/plain": [
       "<matplotlib.figure.Figure at 0x15cc63eda20>"
      ]
     },
     "metadata": {},
     "output_type": "display_data"
    }
   ],
   "source": [
    "# Calculate and plot their probability density functions\n",
    "densityRandUnitNormal = stats.norm.pdf(randUnitNormal)\n",
    "\n",
    "x = np.linspace(norm.ppf(0.01), stats.norm.ppf(0.99), 100)\n",
    "plt.scatter(randUnitNormal, densityRandUnitNormal)\n",
    "plt.title(\"Probability Density Function\")\n",
    "plt.xlabel(\"Random Unit Normal Variable\")\n",
    "plt.ylabel(\"Density\")\n",
    "plt.show()"
   ]
  },
  {
   "cell_type": "code",
   "execution_count": 66,
   "metadata": {},
   "outputs": [],
   "source": [
    "stats.norm.ppf?"
   ]
  },
  {
   "cell_type": "code",
   "execution_count": 10,
   "metadata": {},
   "outputs": [
    {
     "data": {
      "text/plain": [
       "0.9495"
      ]
     },
     "execution_count": 10,
     "metadata": {},
     "output_type": "execute_result"
    }
   ],
   "source": [
    "# Compute the probability that x is less than 1.64\n",
    "stats.norm.cdf(1.64)"
   ]
  },
  {
   "cell_type": "code",
   "execution_count": 11,
   "metadata": {},
   "outputs": [
    {
     "data": {
      "text/plain": [
       "0.9500"
      ]
     },
     "execution_count": 11,
     "metadata": {},
     "output_type": "execute_result"
    }
   ],
   "source": [
    "# Compute the probability that x lies between -1.96 and 1.96\n",
    "stats.norm.cdf(1.96) - stats.norm.cdf(-1.96)"
   ]
  },
  {
   "cell_type": "code",
   "execution_count": 12,
   "metadata": {},
   "outputs": [
    {
     "data": {
      "image/png": "[encoded data removed]",
      "text/plain": [
       "<matplotlib.figure.Figure at 0x15cc6598588>"
      ]
     },
     "metadata": {},
     "output_type": "display_data"
    }
   ],
   "source": [
    "# Compute and plot cumulative probability distribution\n",
    "probabilityRandUnitNormal = stats.norm.cdf(randUnitNormal)\n",
    "\n",
    "# Plot the distribution\n",
    "x = np.linspace(norm.ppf(0.01), stats.norm.ppf(0.99), 1000)    \n",
    "plt.scatter(randUnitNormal, probabilityRandUnitNormal)\n",
    "plt.title(\"Cumulative Probability Density Function\")\n",
    "plt.xlabel(\"Random Unit Normal Variable\")\n",
    "plt.ylabel(\"Probability\")\n",
    "plt.show()"
   ]
  },
  {
   "cell_type": "code",
   "execution_count": 13,
   "metadata": {},
   "outputs": [
    {
     "name": "stdout",
     "output_type": "stream",
     "text": [
      "0.024997895148220484\n"
     ]
    }
   ],
   "source": [
    "print (1 - stats.norm.cdf(1.96))"
   ]
  },
  {
   "cell_type": "markdown",
   "metadata": {},
   "source": [
    "***\n",
    "## Explore `t`-Distribution"
   ]
  },
  {
   "cell_type": "code",
   "execution_count": 14,
   "metadata": {},
   "outputs": [],
   "source": [
    "# Generate n random numbers from the t-distribution\n",
    "# with n degrees of freedom\n",
    "n = 1000\n",
    "degf = n\n",
    "tRandom = stats.t.rvs(df=degf, size=n)"
   ]
  },
  {
   "cell_type": "code",
   "execution_count": 15,
   "metadata": {},
   "outputs": [
    {
     "name": "stdout",
     "output_type": "stream",
     "text": [
      "-0.008930205425008697\n",
      "0.9720523775332708\n"
     ]
    }
   ],
   "source": [
    "# Confirm that the empirical mean is zero and \n",
    "# the variance is n / (n-2)\n",
    "print (tRandom.mean())\n",
    "print (tRandom.var())"
   ]
  },
  {
   "cell_type": "code",
   "execution_count": 16,
   "metadata": {},
   "outputs": [
    {
     "data": {
      "image/png": "[encoded data removed]",
      "text/plain": [
       "<matplotlib.figure.Figure at 0x15cc63ed710>"
      ]
     },
     "metadata": {},
     "output_type": "display_data"
    }
   ],
   "source": [
    "# Compute and Plot the t-distribution\n",
    "densityTRandom = stats.t.pdf(tRandom, df=degf)\n",
    "x = np.linspace(norm.ppf(0.01), norm.ppf(0.99), 1000)    \n",
    "plt.scatter(tRandom, densityTRandom)\n",
    "plt.title(\"Probability Density Function\")\n",
    "plt.xlabel(\"Random t-Distribution Variable\")\n",
    "plt.ylabel(\"Density\")\n",
    "plt.show()"
   ]
  },
  {
   "cell_type": "markdown",
   "metadata": {},
   "source": [
    "Use a Shapiro-Wilk test to check whether `tRandom` is from the normal distribution when the $p$-value is lower than 0.05; if not, then conclude that the sample deviates from normality."
   ]
  },
  {
   "cell_type": "code",
   "execution_count": 17,
   "metadata": {},
   "outputs": [
    {
     "data": {
      "image/png": "[encoded data removed]",
      "text/plain": [
       "<matplotlib.figure.Figure at 0x15cc6874da0>"
      ]
     },
     "metadata": {},
     "output_type": "display_data"
    },
    {
     "name": "stdout",
     "output_type": "stream",
     "text": [
      "(0.9976522326469421, 0.16550886631011963)\n"
     ]
    }
   ],
   "source": [
    "density = gaussian_kde(tRandom)\n",
    "xs = np.linspace(-5,5,1000)\n",
    "density.covariance_factor = lambda : .5\n",
    "density._compute_covariance()\n",
    "plt.plot(xs,density(xs))\n",
    "plt.show()\n",
    "\n",
    "print (stats.shapiro(tRandom))"
   ]
  },
  {
   "cell_type": "code",
   "execution_count": 18,
   "metadata": {},
   "outputs": [
    {
     "data": {
      "image/png": "[encoded data removed]",
      "text/plain": [
       "<matplotlib.figure.Figure at 0x15cc65a2c50>"
      ]
     },
     "metadata": {},
     "output_type": "display_data"
    }
   ],
   "source": [
    "# Plot using the qqnorm()\n",
    "stats.probplot(tRandom, dist=\"norm\", plot=pl)\n",
    "pl.show()"
   ]
  },
  {
   "cell_type": "markdown",
   "metadata": {},
   "source": [
    "***\n",
    "## Explore $\\chi^2$-Distribution"
   ]
  },
  {
   "cell_type": "code",
   "execution_count": 19,
   "metadata": {},
   "outputs": [],
   "source": [
    "# Generate n random numbers from the Chi-squared-distribution with n degrees of freedom.\n",
    "n = 1000\n",
    "df = 7\n",
    "chiSquaredRandom = stats.chi2.rvs(df=df, size=n)"
   ]
  },
  {
   "cell_type": "code",
   "execution_count": 20,
   "metadata": {},
   "outputs": [
    {
     "name": "stdout",
     "output_type": "stream",
     "text": [
      "7.008627181730305\n",
      "13.646479115477813\n"
     ]
    }
   ],
   "source": [
    "# Confirm that the empirical mean is n  and the variance is 2n \n",
    "print (chiSquaredRandom.mean())\n",
    "print (chiSquaredRandom.var())"
   ]
  },
  {
   "cell_type": "code",
   "execution_count": 21,
   "metadata": {},
   "outputs": [
    {
     "data": {
      "image/png": "[encoded data removed]",
      "text/plain": [
       "<matplotlib.figure.Figure at 0x15cc6579be0>"
      ]
     },
     "metadata": {},
     "output_type": "display_data"
    }
   ],
   "source": [
    "# Compute and Plot the chi-squared-distribution\n",
    "densityChiSquared = stats.chi2.pdf(chiSquaredRandom, df=df)\n",
    "x = np.linspace(norm.ppf(0.01), norm.ppf(0.99), 1000)    \n",
    "plt.scatter(chiSquaredRandom, densityChiSquared)\n",
    "plt.show()"
   ]
  },
  {
   "cell_type": "code",
   "execution_count": 61,
   "metadata": {},
   "outputs": [],
   "source": [
    "stats.chi2.rvs?"
   ]
  },
  {
   "cell_type": "code",
   "execution_count": null,
   "metadata": {},
   "outputs": [],
   "source": [
    "stats.chi2.pdf?"
   ]
  },
  {
   "cell_type": "code",
   "execution_count": null,
   "metadata": {},
   "outputs": [],
   "source": [
    "stats.chi2.cdf?"
   ]
  },
  {
   "cell_type": "markdown",
   "metadata": {},
   "source": [
    "***\n",
    "## Bootstrap Sampling"
   ]
  },
  {
   "cell_type": "markdown",
   "metadata": {},
   "source": [
    "The functions below are extracted from the `bootstrap-tools` package: \n",
    "+ Download and unzip the module from the following link: http://gcalmettes.github.io/bootstrap-tools/."
   ]
  },
  {
   "cell_type": "code",
   "execution_count": 22,
   "metadata": {},
   "outputs": [],
   "source": [
    "def bootstrap(data, nboot=10000, replacement=True):\n",
    "    \"\"\"\n",
    "        Generate n=nboot bootstrap samples of the data with/without replacement,\n",
    "        and return a 2D numpy array of them.\n",
    "\n",
    "        Input:    data (anything numpy can handle as a numpy array)\n",
    "        Output:   2D numpy array of size (nboot x length of data)\n",
    "    \"\"\"\n",
    "\n",
    "    # Ensure that our data is a 1D array.\n",
    "    data = np.ravel(data)\n",
    "\n",
    "    # Create a 2D array of bootstrap samples indexes\n",
    "    if replacement==True: # with replacement (note: 50x-ish faster than without)\n",
    "        idx = np.random.randint(data.size, size=(nboot, data.size))\n",
    "    elif replacement==False: # without replacement\n",
    "        idx = np.vstack([np.random.permutation(data.size) for x in np.arange(nboot)])\n",
    "\n",
    "    return data[idx]\n"
   ]
  },
  {
   "cell_type": "code",
   "execution_count": 23,
   "metadata": {},
   "outputs": [],
   "source": [
    "def bootci(data, stat=np.median, nboot=1000, replacement=True, alpha=0.05, method='pi',\n",
    "           keepboot=False):\n",
    "    \"\"\"\n",
    "        Compute the (1-alpha) confidence interval of a statistic (i.e.: mean, median, etc)\n",
    "        of the data using bootstrap resampling.\n",
    "        \n",
    "        Arguments:\n",
    "            stat:        statistics we want the confidence interval for (must be a function)\n",
    "            nboot:       number of bootstrap samples to generate\n",
    "            replacement: resampling done with (True) or without (False) replacement\n",
    "            alpha:       level of confidence interval\n",
    "            method:      type of bootstrap we want to perform\n",
    "            keepboot:    if True, return the nboot bootstrap statistics from which\n",
    "                         the confidence intervals are extracted\n",
    "        \n",
    "        Methods available:\n",
    "            - 'pi' = Percentile Interval\n",
    "            - 'bca' = Bias-Corrected Accelerated Interval (available soon)\n",
    "    \"\"\"\n",
    "\n",
    "    # apply bootstrap to data\n",
    "    boot = bootstrap(data, nboot=nboot, replacement=replacement)\n",
    "\n",
    "    # calculate the statistics for each bootstrap sample and sort them\n",
    "    sorted_stat = np.sort(stat(boot, axis=1))\n",
    "\n",
    "    # Percentile Interval method (for the moment the only one available) \n",
    "    if method == 'pi':\n",
    "        ci = (sorted_stat[np.round(nboot*alpha/2).astype(int)], \n",
    "              sorted_stat[np.round(nboot*(1-alpha/2)).astype(int)])\n",
    "\n",
    "    if keepboot == True:\n",
    "        return ci, sorted_stat\n",
    "    else:\n",
    "        return ci"
   ]
  },
  {
   "cell_type": "code",
   "execution_count": 86,
   "metadata": {},
   "outputs": [],
   "source": [
    "bootci?"
   ]
  },
  {
   "cell_type": "markdown",
   "metadata": {},
   "source": [
    "**Estimate confidence interval on the obtained statistic (e.g., median)**"
   ]
  },
  {
   "cell_type": "code",
   "execution_count": 24,
   "metadata": {},
   "outputs": [
    {
     "data": {
      "text/html": [
       "<div>\n",
       "<style scoped>\n",
       "    .dataframe tbody tr th:only-of-type {\n",
       "        vertical-align: middle;\n",
       "    }\n",
       "\n",
       "    .dataframe tbody tr th {\n",
       "        vertical-align: top;\n",
       "    }\n",
       "\n",
       "    .dataframe thead th {\n",
       "        text-align: right;\n",
       "    }\n",
       "</style>\n",
       "<table border=\"1\" class=\"dataframe\">\n",
       "  <thead>\n",
       "    <tr style=\"text-align: right;\">\n",
       "      <th></th>\n",
       "      <th>x</th>\n",
       "    </tr>\n",
       "  </thead>\n",
       "  <tbody>\n",
       "    <tr>\n",
       "      <th>0</th>\n",
       "      <td>67000</td>\n",
       "    </tr>\n",
       "    <tr>\n",
       "      <th>1</th>\n",
       "      <td>52000</td>\n",
       "    </tr>\n",
       "    <tr>\n",
       "      <th>2</th>\n",
       "      <td>100000</td>\n",
       "    </tr>\n",
       "    <tr>\n",
       "      <th>3</th>\n",
       "      <td>78762</td>\n",
       "    </tr>\n",
       "    <tr>\n",
       "      <th>4</th>\n",
       "      <td>37041</td>\n",
       "    </tr>\n",
       "  </tbody>\n",
       "</table>\n",
       "</div>"
      ],
      "text/plain": [
       "        x\n",
       "0   67000\n",
       "1   52000\n",
       "2  100000\n",
       "3   78762\n",
       "4   37041"
      ]
     },
     "execution_count": 24,
     "metadata": {},
     "output_type": "execute_result"
    }
   ],
   "source": [
    "loans_income = pd.read_csv(\"../data_raw/data_prep_sampling_loans_income.csv\")\n",
    "loans_income.head()"
   ]
  },
  {
   "cell_type": "code",
   "execution_count": 25,
   "metadata": {},
   "outputs": [
    {
     "data": {
      "text/html": [
       "<div>\n",
       "<style scoped>\n",
       "    .dataframe tbody tr th:only-of-type {\n",
       "        vertical-align: middle;\n",
       "    }\n",
       "\n",
       "    .dataframe tbody tr th {\n",
       "        vertical-align: top;\n",
       "    }\n",
       "\n",
       "    .dataframe thead th {\n",
       "        text-align: right;\n",
       "    }\n",
       "</style>\n",
       "<table border=\"1\" class=\"dataframe\">\n",
       "  <thead>\n",
       "    <tr style=\"text-align: right;\">\n",
       "      <th></th>\n",
       "      <th>x</th>\n",
       "    </tr>\n",
       "  </thead>\n",
       "  <tbody>\n",
       "    <tr>\n",
       "      <th>count</th>\n",
       "      <td>50000.00000</td>\n",
       "    </tr>\n",
       "    <tr>\n",
       "      <th>mean</th>\n",
       "      <td>68760.51844</td>\n",
       "    </tr>\n",
       "    <tr>\n",
       "      <th>std</th>\n",
       "      <td>32872.03537</td>\n",
       "    </tr>\n",
       "    <tr>\n",
       "      <th>min</th>\n",
       "      <td>4000.00000</td>\n",
       "    </tr>\n",
       "    <tr>\n",
       "      <th>25%</th>\n",
       "      <td>45000.00000</td>\n",
       "    </tr>\n",
       "    <tr>\n",
       "      <th>50%</th>\n",
       "      <td>62000.00000</td>\n",
       "    </tr>\n",
       "    <tr>\n",
       "      <th>75%</th>\n",
       "      <td>85000.00000</td>\n",
       "    </tr>\n",
       "    <tr>\n",
       "      <th>max</th>\n",
       "      <td>199000.00000</td>\n",
       "    </tr>\n",
       "  </tbody>\n",
       "</table>\n",
       "</div>"
      ],
      "text/plain": [
       "                  x\n",
       "count   50000.00000\n",
       "mean    68760.51844\n",
       "std     32872.03537\n",
       "min      4000.00000\n",
       "25%     45000.00000\n",
       "50%     62000.00000\n",
       "75%     85000.00000\n",
       "max    199000.00000"
      ]
     },
     "execution_count": 25,
     "metadata": {},
     "output_type": "execute_result"
    }
   ],
   "source": [
    "loans_income.describe()"
   ]
  },
  {
   "cell_type": "code",
   "execution_count": 26,
   "metadata": {},
   "outputs": [
    {
     "name": "stdout",
     "output_type": "stream",
     "text": [
      "Estimate of the Median Income:  x    62000.0\n",
      "dtype: float64\n",
      "The 95% confidence interval for the estimated median:  (61044.0, 62000.0)\n"
     ]
    }
   ],
   "source": [
    "loans_income = pd.read_csv(\"../data_raw/data_prep_sampling_loans_income.csv\")\n",
    "ci = bootci(data = loans_income, \n",
    "            stat = np.median, \n",
    "            alpha = 0.05)\n",
    "\n",
    "print (\"Estimate of the Median Income: \", loans_income.median())\n",
    "print (\"The 95% confidence interval for the estimated median: \", ci)"
   ]
  },
  {
   "cell_type": "markdown",
   "metadata": {},
   "source": [
    "***\n",
    "## Sampling Strategies"
   ]
  },
  {
   "cell_type": "markdown",
   "metadata": {},
   "source": [
    "+ _Simple Random Sample_:\n",
    "    * Assumptions: population is homogeneous\n",
    "    * Pros: Simple in theory; Unbiased; Makes statistical inference possible\n",
    "    * Cons: Complex or inefficient in practice; Does not guarantee a completely random sample\n",
    "+ _Stratified Random Sample_:\n",
    "    * Assumptions: population is divided into subgroups called strata, with important differences across strata\n",
    "    * Pros: usually increases precision; allows separate estimates per stratum; convenient/easier/cheaper \n",
    "    * Cons: requires knowledge of auxiliary variable; complicates analysis\n",
    "+ _Cluster Sample_:\n",
    "    * Assumptions: observational units are not directly accessible; clusters are representative of populations\n",
    "    * Pros: cheaper, easier, more convenient than SRS; only need a list of clusters (not all observations)\n",
    "    * Cons: strong dependence within clusters may lead to inefficiency more complex analysis than SRS \n",
    "+ _Systematic Sample_:\n",
    "    * Assumptions: population is homogenous or strata/clusters are systematically arranged\n",
    "    * Pros: easy to implement; useful for data over time; convenient/cheap\n",
    "    * Cons: can be biased if not carefully selected (seasonality, periodicity); accuracy depends on the order of sampling units; never an SRS"
   ]
  },
  {
   "cell_type": "markdown",
   "metadata": {},
   "source": [
    "Let's load the original data set from the customer satisfaction survey:"
   ]
  },
  {
   "cell_type": "code",
   "execution_count": 27,
   "metadata": {},
   "outputs": [
    {
     "data": {
      "text/html": [
       "<div>\n",
       "<style scoped>\n",
       "    .dataframe tbody tr th:only-of-type {\n",
       "        vertical-align: middle;\n",
       "    }\n",
       "\n",
       "    .dataframe tbody tr th {\n",
       "        vertical-align: top;\n",
       "    }\n",
       "\n",
       "    .dataframe thead th {\n",
       "        text-align: right;\n",
       "    }\n",
       "</style>\n",
       "<table border=\"1\" class=\"dataframe\">\n",
       "  <thead>\n",
       "    <tr style=\"text-align: right;\">\n",
       "      <th></th>\n",
       "      <th>ID</th>\n",
       "      <th>size</th>\n",
       "      <th>sizecount</th>\n",
       "      <th>score</th>\n",
       "    </tr>\n",
       "  </thead>\n",
       "  <tbody>\n",
       "    <tr>\n",
       "      <th>0</th>\n",
       "      <td>1027</td>\n",
       "      <td>Medium</td>\n",
       "      <td>500</td>\n",
       "      <td>60.457983</td>\n",
       "    </tr>\n",
       "    <tr>\n",
       "      <th>1</th>\n",
       "      <td>257</td>\n",
       "      <td>Large</td>\n",
       "      <td>500</td>\n",
       "      <td>60.394796</td>\n",
       "    </tr>\n",
       "  </tbody>\n",
       "</table>\n",
       "</div>"
      ],
      "text/plain": [
       "     ID    size  sizecount      score\n",
       "0  1027  Medium        500  60.457983\n",
       "1   257   Large        500  60.394796"
      ]
     },
     "execution_count": 27,
     "metadata": {},
     "output_type": "execute_result"
    }
   ],
   "source": [
    "file = \"../data_raw/data_prep_sampling_customer_satisfaction.csv\"\n",
    "cust_sat = pd.read_csv(file)\n",
    "cust_sat.head(2)"
   ]
  },
  {
   "cell_type": "code",
   "execution_count": 28,
   "metadata": {},
   "outputs": [
    {
     "data": {
      "text/plain": [
       "(2500, 4)"
      ]
     },
     "execution_count": 28,
     "metadata": {},
     "output_type": "execute_result"
    }
   ],
   "source": [
    "cust_sat.shape"
   ]
  },
  {
   "cell_type": "code",
   "execution_count": 29,
   "metadata": {},
   "outputs": [
    {
     "data": {
      "image/png": "[encoded data removed]",
      "text/plain": [
       "<matplotlib.figure.Figure at 0x15cc6e2d940>"
      ]
     },
     "metadata": {},
     "output_type": "display_data"
    }
   ],
   "source": [
    "sns.boxplot( x=\"size\", \n",
    "             y=\"score\",\n",
    "             data = cust_sat )\n",
    "plt.show()"
   ]
  },
  {
   "cell_type": "markdown",
   "metadata": {},
   "source": [
    "### SRS: Simple Random Sampling with `pandas.DataFrame.sample()`"
   ]
  },
  {
   "cell_type": "code",
   "execution_count": 112,
   "metadata": {},
   "outputs": [],
   "source": [
    "pd.DataFrame.sample?"
   ]
  },
  {
   "cell_type": "markdown",
   "metadata": {},
   "source": [
    "+ Draw a simple random sample of size n=200 without replacement\n",
    "+ Check whether the boxplot of the sample loooks similar to the boxplot of the original sata set"
   ]
  },
  {
   "cell_type": "code",
   "execution_count": 30,
   "metadata": {},
   "outputs": [
    {
     "data": {
      "text/plain": [
       "(200, 4)"
      ]
     },
     "execution_count": 30,
     "metadata": {},
     "output_type": "execute_result"
    }
   ],
   "source": [
    "# Draw a simple random sample of size n=200 without replacement\n",
    "# cust_sat_srs = cust_sat.sample(frac=0.1, replace=False)\n",
    "cust_sat_srs = cust_sat.sample(\n",
    "    n=200, replace=False)\n",
    "cust_sat_srs.shape"
   ]
  },
  {
   "cell_type": "code",
   "execution_count": 47,
   "metadata": {},
   "outputs": [],
   "source": [
    "sns.boxplot?"
   ]
  },
  {
   "cell_type": "code",
   "execution_count": 31,
   "metadata": {},
   "outputs": [
    {
     "data": {
      "image/png": "[encoded data removed]",
      "text/plain": [
       "<matplotlib.figure.Figure at 0x15cc6d367f0>"
      ]
     },
     "metadata": {},
     "output_type": "display_data"
    }
   ],
   "source": [
    "sns.boxplot( x=\"size\", \n",
    "             y=\"score\",\n",
    "             data = cust_sat_srs )\n",
    "plt.title(\"Simple Random Sample\")\n",
    "plt.show()"
   ]
  },
  {
   "cell_type": "markdown",
   "metadata": {},
   "source": [
    "### Stratified Random Sampling "
   ]
  },
  {
   "cell_type": "markdown",
   "metadata": {},
   "source": [
    "Let's look at an example of how stratified sampling can be used with k-fold cross-validation for building and validating a predictive model."
   ]
  },
  {
   "cell_type": "code",
   "execution_count": 32,
   "metadata": {},
   "outputs": [
    {
     "data": {
      "text/plain": [
       "(4601, 58)"
      ]
     },
     "execution_count": 32,
     "metadata": {},
     "output_type": "execute_result"
    }
   ],
   "source": [
    "spam_df = pd.read_csv(\"../data_raw/data_prep_sampling_spam.csv\")\n",
    "spam_df.shape"
   ]
  },
  {
   "cell_type": "code",
   "execution_count": 33,
   "metadata": {},
   "outputs": [
    {
     "data": {
      "text/html": [
       "<div>\n",
       "<style scoped>\n",
       "    .dataframe tbody tr th:only-of-type {\n",
       "        vertical-align: middle;\n",
       "    }\n",
       "\n",
       "    .dataframe tbody tr th {\n",
       "        vertical-align: top;\n",
       "    }\n",
       "\n",
       "    .dataframe thead th {\n",
       "        text-align: right;\n",
       "    }\n",
       "</style>\n",
       "<table border=\"1\" class=\"dataframe\">\n",
       "  <thead>\n",
       "    <tr style=\"text-align: right;\">\n",
       "      <th></th>\n",
       "      <th>make</th>\n",
       "      <th>address</th>\n",
       "      <th>all</th>\n",
       "      <th>num3d</th>\n",
       "      <th>our</th>\n",
       "      <th>over</th>\n",
       "      <th>remove</th>\n",
       "      <th>internet</th>\n",
       "      <th>order</th>\n",
       "      <th>mail</th>\n",
       "      <th>...</th>\n",
       "      <th>charSemicolon</th>\n",
       "      <th>charRoundbracket</th>\n",
       "      <th>charSquarebracket</th>\n",
       "      <th>charExclamation</th>\n",
       "      <th>charDollar</th>\n",
       "      <th>charHash</th>\n",
       "      <th>capitalAve</th>\n",
       "      <th>capitalLong</th>\n",
       "      <th>capitalTotal</th>\n",
       "      <th>type</th>\n",
       "    </tr>\n",
       "  </thead>\n",
       "  <tbody>\n",
       "    <tr>\n",
       "      <th>0</th>\n",
       "      <td>0.00</td>\n",
       "      <td>0.64</td>\n",
       "      <td>0.64</td>\n",
       "      <td>0.0</td>\n",
       "      <td>0.32</td>\n",
       "      <td>0.00</td>\n",
       "      <td>0.00</td>\n",
       "      <td>0.00</td>\n",
       "      <td>0.00</td>\n",
       "      <td>0.00</td>\n",
       "      <td>...</td>\n",
       "      <td>0.00</td>\n",
       "      <td>0.000</td>\n",
       "      <td>0.0</td>\n",
       "      <td>0.778</td>\n",
       "      <td>0.000</td>\n",
       "      <td>0.000</td>\n",
       "      <td>3.756</td>\n",
       "      <td>61</td>\n",
       "      <td>278</td>\n",
       "      <td>spam</td>\n",
       "    </tr>\n",
       "    <tr>\n",
       "      <th>1</th>\n",
       "      <td>0.21</td>\n",
       "      <td>0.28</td>\n",
       "      <td>0.50</td>\n",
       "      <td>0.0</td>\n",
       "      <td>0.14</td>\n",
       "      <td>0.28</td>\n",
       "      <td>0.21</td>\n",
       "      <td>0.07</td>\n",
       "      <td>0.00</td>\n",
       "      <td>0.94</td>\n",
       "      <td>...</td>\n",
       "      <td>0.00</td>\n",
       "      <td>0.132</td>\n",
       "      <td>0.0</td>\n",
       "      <td>0.372</td>\n",
       "      <td>0.180</td>\n",
       "      <td>0.048</td>\n",
       "      <td>5.114</td>\n",
       "      <td>101</td>\n",
       "      <td>1028</td>\n",
       "      <td>spam</td>\n",
       "    </tr>\n",
       "    <tr>\n",
       "      <th>2</th>\n",
       "      <td>0.06</td>\n",
       "      <td>0.00</td>\n",
       "      <td>0.71</td>\n",
       "      <td>0.0</td>\n",
       "      <td>1.23</td>\n",
       "      <td>0.19</td>\n",
       "      <td>0.19</td>\n",
       "      <td>0.12</td>\n",
       "      <td>0.64</td>\n",
       "      <td>0.25</td>\n",
       "      <td>...</td>\n",
       "      <td>0.01</td>\n",
       "      <td>0.143</td>\n",
       "      <td>0.0</td>\n",
       "      <td>0.276</td>\n",
       "      <td>0.184</td>\n",
       "      <td>0.010</td>\n",
       "      <td>9.821</td>\n",
       "      <td>485</td>\n",
       "      <td>2259</td>\n",
       "      <td>spam</td>\n",
       "    </tr>\n",
       "  </tbody>\n",
       "</table>\n",
       "<p>3 rows × 58 columns</p>\n",
       "</div>"
      ],
      "text/plain": [
       "   make  address   all  num3d   our  over  remove  internet  order  mail  \\\n",
       "0  0.00     0.64  0.64    0.0  0.32  0.00    0.00      0.00   0.00  0.00   \n",
       "1  0.21     0.28  0.50    0.0  0.14  0.28    0.21      0.07   0.00  0.94   \n",
       "2  0.06     0.00  0.71    0.0  1.23  0.19    0.19      0.12   0.64  0.25   \n",
       "\n",
       "   ...   charSemicolon  charRoundbracket  charSquarebracket  charExclamation  \\\n",
       "0  ...            0.00             0.000                0.0            0.778   \n",
       "1  ...            0.00             0.132                0.0            0.372   \n",
       "2  ...            0.01             0.143                0.0            0.276   \n",
       "\n",
       "   charDollar  charHash  capitalAve  capitalLong  capitalTotal  type  \n",
       "0       0.000     0.000       3.756           61           278  spam  \n",
       "1       0.180     0.048       5.114          101          1028  spam  \n",
       "2       0.184     0.010       9.821          485          2259  spam  \n",
       "\n",
       "[3 rows x 58 columns]"
      ]
     },
     "execution_count": 33,
     "metadata": {},
     "output_type": "execute_result"
    }
   ],
   "source": [
    "spam_df.head(3)"
   ]
  },
  {
   "cell_type": "code",
   "execution_count": 34,
   "metadata": {},
   "outputs": [
    {
     "data": {
      "text/plain": [
       "Index(['make', 'address', 'all', 'num3d', 'our', 'over', 'remove', 'internet',\n",
       "       'order', 'mail', 'receive', 'will', 'people', 'report', 'addresses',\n",
       "       'free', 'business', 'email', 'you', 'credit', 'your', 'font', 'num000',\n",
       "       'money', 'hp', 'hpl', 'george', 'num650', 'lab', 'labs', 'telnet',\n",
       "       'num857', 'data', 'num415', 'num85', 'technology', 'num1999', 'parts',\n",
       "       'pm', 'direct', 'cs', 'meeting', 'original', 'project', 're', 'edu',\n",
       "       'table', 'conference', 'charSemicolon', 'charRoundbracket',\n",
       "       'charSquarebracket', 'charExclamation', 'charDollar', 'charHash',\n",
       "       'capitalAve', 'capitalLong', 'capitalTotal', 'type'],\n",
       "      dtype='object')"
      ]
     },
     "execution_count": 34,
     "metadata": {},
     "output_type": "execute_result"
    }
   ],
   "source": [
    "spam_df.columns"
   ]
  },
  {
   "cell_type": "code",
   "execution_count": 35,
   "metadata": {},
   "outputs": [
    {
     "data": {
      "text/plain": [
       "count        4601\n",
       "unique          2\n",
       "top       nonspam\n",
       "freq         2788\n",
       "Name: type, dtype: object"
      ]
     },
     "execution_count": 35,
     "metadata": {},
     "output_type": "execute_result"
    }
   ],
   "source": [
    "spam_df.type.describe()"
   ]
  },
  {
   "cell_type": "code",
   "execution_count": 36,
   "metadata": {},
   "outputs": [
    {
     "data": {
      "text/html": [
       "<div>\n",
       "<style scoped>\n",
       "    .dataframe tbody tr th:only-of-type {\n",
       "        vertical-align: middle;\n",
       "    }\n",
       "\n",
       "    .dataframe tbody tr th {\n",
       "        vertical-align: top;\n",
       "    }\n",
       "\n",
       "    .dataframe thead th {\n",
       "        text-align: right;\n",
       "    }\n",
       "</style>\n",
       "<table border=\"1\" class=\"dataframe\">\n",
       "  <thead>\n",
       "    <tr style=\"text-align: right;\">\n",
       "      <th></th>\n",
       "      <th>type</th>\n",
       "    </tr>\n",
       "  </thead>\n",
       "  <tbody>\n",
       "    <tr>\n",
       "      <th>count</th>\n",
       "      <td>4601</td>\n",
       "    </tr>\n",
       "    <tr>\n",
       "      <th>unique</th>\n",
       "      <td>2</td>\n",
       "    </tr>\n",
       "    <tr>\n",
       "      <th>top</th>\n",
       "      <td>nonspam</td>\n",
       "    </tr>\n",
       "    <tr>\n",
       "      <th>freq</th>\n",
       "      <td>2788</td>\n",
       "    </tr>\n",
       "  </tbody>\n",
       "</table>\n",
       "</div>"
      ],
      "text/plain": [
       "           type\n",
       "count      4601\n",
       "unique        2\n",
       "top     nonspam\n",
       "freq       2788"
      ]
     },
     "execution_count": 36,
     "metadata": {},
     "output_type": "execute_result"
    }
   ],
   "source": [
    "vars_2_keep = [\"type\"]\n",
    "class_labels = spam_df.filter(items=vars_2_keep)\n",
    "class_labels.describe()"
   ]
  },
  {
   "cell_type": "code",
   "execution_count": 37,
   "metadata": {},
   "outputs": [
    {
     "data": {
      "text/plain": [
       "(4601, 57)"
      ]
     },
     "execution_count": 37,
     "metadata": {},
     "output_type": "execute_result"
    }
   ],
   "source": [
    "vars_2_drop =[\"type\"]\n",
    "\n",
    "data_df = spam_df.drop(vars_2_drop, axis=1)\n",
    "data_df.shape"
   ]
  },
  {
   "cell_type": "code",
   "execution_count": 38,
   "metadata": {},
   "outputs": [
    {
     "data": {
      "text/plain": [
       "StratifiedKFold(n_splits=3, random_state=None, shuffle=False)"
      ]
     },
     "execution_count": 38,
     "metadata": {},
     "output_type": "execute_result"
    }
   ],
   "source": [
    "skf = StratifiedKFold(n_splits=3)\n",
    "skf"
   ]
  },
  {
   "cell_type": "code",
   "execution_count": 39,
   "metadata": {},
   "outputs": [
    {
     "name": "stdout",
     "output_type": "stream",
     "text": [
      "TRAIN:  3066 TEST:  1535\n",
      "\n",
      "TRAIN:             type\n",
      "count      3066\n",
      "unique        2\n",
      "top     nonspam\n",
      "freq       1858\n",
      "\n",
      "TEST:             type\n",
      "count      1535\n",
      "unique        2\n",
      "top     nonspam\n",
      "freq        930\n",
      "--------------\n",
      "\n",
      "TRAIN:  3068 TEST:  1533\n",
      "\n",
      "TRAIN:             type\n",
      "count      3068\n",
      "unique        2\n",
      "top     nonspam\n",
      "freq       1859\n",
      "\n",
      "TEST:             type\n",
      "count      1533\n",
      "unique        2\n",
      "top     nonspam\n",
      "freq        929\n",
      "--------------\n",
      "\n",
      "TRAIN:  3068 TEST:  1533\n",
      "\n",
      "TRAIN:             type\n",
      "count      3068\n",
      "unique        2\n",
      "top     nonspam\n",
      "freq       1859\n",
      "\n",
      "TEST:             type\n",
      "count      1533\n",
      "unique        2\n",
      "top     nonspam\n",
      "freq        929\n",
      "--------------\n",
      "\n"
     ]
    }
   ],
   "source": [
    "for train_index, test_index in skf.split(X = data_df, y = class_labels):\n",
    "    print(\"TRAIN: \", len(train_index), \"TEST: \", len(test_index))\n",
    "    X_train, X_test = data_df.iloc[train_index], data_df.iloc[test_index]\n",
    "    y_train, y_test = class_labels.iloc[train_index], class_labels.iloc[test_index]\n",
    "    print (\"\\nTRAIN: \", y_train.describe())\n",
    "    print (\"\\nTEST: \", y_test.describe())\n",
    "    print (\"--------------\\n\")"
   ]
  },
  {
   "cell_type": "code",
   "execution_count": 132,
   "metadata": {},
   "outputs": [],
   "source": [
    "StratifiedKFold?"
   ]
  },
  {
   "cell_type": "code",
   "execution_count": 107,
   "metadata": {},
   "outputs": [],
   "source": [
    "StratifiedShuffleSplit?\n",
    "# http://scikit-learn.org/stable/modules/generated/sklearn.metrics.precision_score.html\n",
    "# http://scikit-learn.org/stable/modules/generated/sklearn.metrics.recall_score.html\n",
    "# http://scikit-learn.org/stable/modules/generated/sklearn.metrics.accuracy_score.html\n",
    "# http://scikit-learn.org/stable/modules/generated/sklearn.metrics.f1_score.html"
   ]
  },
  {
   "cell_type": "code",
   "execution_count": 40,
   "metadata": {},
   "outputs": [],
   "source": [
    "try:\n",
    "    from sklearn.model_selection import StratifiedShuffleSplit\n",
    "except:\n",
    "    print('Need scikit-learn for Stratified shuffle split functionality')\n",
    "\n",
    "from sklearn.metrics import accuracy_score\n",
    "from sklearn.metrics import precision_score\n",
    "from sklearn.metrics import recall_score\n",
    "from sklearn.metrics import f1_score\n",
    "\n",
    "from sklearn import preprocessing\n",
    "\n",
    "def model_build_validate(data_df, labels, model, pos_label, k_fold = 5):\n",
    "    '''\n",
    "    k-fold cross-validation with stratified sampling.\n",
    "    '''\n",
    "    accuracy_scores = []\n",
    "    precision_scores = []\n",
    "    recall_scores = []\n",
    "    f1_scores = []\n",
    "\n",
    "    sss = StratifiedShuffleSplit(n_splits=k_fold)\n",
    "    \n",
    "    for train_index, test_index in sss.split(data_df, labels):\n",
    "        x_train, x_test = data_df.iloc[train_index], data_df.iloc[test_index]\n",
    "        y_train, y_test = labels[train_index], labels[test_index]\n",
    "        \n",
    "        # build a model\n",
    "        model.fit(x_train, y_train.ravel())\n",
    "        \n",
    "        # test the model\n",
    "        y_pred = model.predict(x_test)\n",
    "        \n",
    "        # measure performance metrics for the model\n",
    "        accuracy_scores.append(accuracy_score(y_test, y_pred))\n",
    "        precision_scores.append(precision_score(y_test, y_pred, pos_label=pos_label))\n",
    "        recall_scores.append(recall_score(y_test, y_pred, pos_label=pos_label))\n",
    "        f1_scores.append(f1_score(y_test, y_pred, pos_label=pos_label))\n",
    "\n",
    "    print('Accuracy', np.mean(accuracy_scores))\n",
    "    print('Precision', np.mean(precision_scores))\n",
    "    print('Recall', np.mean(recall_scores))\n",
    "    print('F1-measure', np.mean(f1_scores)) "
   ]
  },
  {
   "cell_type": "code",
   "execution_count": 41,
   "metadata": {},
   "outputs": [
    {
     "name": "stdout",
     "output_type": "stream",
     "text": [
      "Accuracy 0.8405639913232104\n",
      "Precision 0.7772936620086879\n",
      "Recall 0.8351648351648352\n",
      "F1-measure 0.8051578947368422\n"
     ]
    }
   ],
   "source": [
    "# Build an SVM model over stratified samples\n",
    "try:\n",
    "    from sklearn.svm import SVC\n",
    "except:\n",
    "    print('Need sklearn.svm for C-Support Vector Classification.')\n",
    "    \n",
    "np.random.seed(2018)\n",
    "model_svm = SVC()\n",
    "\n",
    "model_build_validate (data_df, np.array(class_labels), \n",
    "                      model_svm, pos_label='spam', k_fold = 2)"
   ]
  },
  {
   "cell_type": "code",
   "execution_count": 42,
   "metadata": {},
   "outputs": [
    {
     "name": "stdout",
     "output_type": "stream",
     "text": [
      "Accuracy 0.9251626898047722\n",
      "Precision 0.9109382762046696\n",
      "Recall 0.8983516483516483\n",
      "F1-measure 0.9045151909390067\n"
     ]
    }
   ],
   "source": [
    "# Build a logistic regression model over stratified samples\n",
    "try:\n",
    "    from sklearn.linear_model import LogisticRegression\n",
    "except:\n",
    "    print('Need sklearn.linear_model for LogisticRegression model')\n",
    "np.random.seed(2018)    \n",
    "model_logit = LogisticRegression()\n",
    "model_build_validate (data_df, np.array(class_labels), \n",
    "                      model_logit, pos_label='spam', k_fold = 2)"
   ]
  },
  {
   "cell_type": "code",
   "execution_count": null,
   "metadata": {},
   "outputs": [],
   "source": []
  }
 ],
 "metadata": {
  "kernelspec": {
   "display_name": "Python 2",
   "language": "python",
   "name": "python2"
  },
  "language_info": {
   "codemirror_mode": {
    "name": "ipython",
    "version": 2
   },
   "file_extension": ".py",
   "mimetype": "text/x-python",
   "name": "python",
   "nbconvert_exporter": "python",
   "pygments_lexer": "ipython2",
   "version": "2.7.14"
  }
 },
 "nbformat": 4,
 "nbformat_minor": 2
}
