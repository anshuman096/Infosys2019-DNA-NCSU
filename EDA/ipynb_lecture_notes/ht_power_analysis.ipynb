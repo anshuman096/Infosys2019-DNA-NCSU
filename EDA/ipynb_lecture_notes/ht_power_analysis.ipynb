{
 "cells": [
  {
   "cell_type": "markdown",
   "metadata": {},
   "source": [
    "# Power Analysis"
   ]
  },
  {
   "cell_type": "code",
   "execution_count": 11,
   "metadata": {},
   "outputs": [],
   "source": [
    "from statsmodels.stats import power"
   ]
  },
  {
   "cell_type": "markdown",
   "metadata": {},
   "source": [
    "+ Cell phone usage and driving reaction time:\n",
    "    - d = 0.8 or larger: standarded mean difference"
   ]
  },
  {
   "cell_type": "code",
   "execution_count": 17,
   "metadata": {},
   "outputs": [],
   "source": [
    "from statsmodels.stats import power"
   ]
  },
  {
   "cell_type": "code",
   "execution_count": 14,
   "metadata": {},
   "outputs": [
    {
     "data": {
      "text/plain": [
       "33.825543836843956"
      ]
     },
     "execution_count": 14,
     "metadata": {},
     "output_type": "execute_result"
    }
   ],
   "source": [
    "power.TTestIndPower().solve_power(0.8, power=0.9, ratio=1, \n",
    "                                  alpha=0.05, \n",
    "                                  alternative='two-sided')"
   ]
  },
  {
   "cell_type": "code",
   "execution_count": 18,
   "metadata": {},
   "outputs": [],
   "source": [
    "power.TTestIndPower.solve_power?"
   ]
  },
  {
   "cell_type": "markdown",
   "metadata": {},
   "source": [
    "Cell phone usage and driving reaction time\n",
    "\n",
    "__Constraints__:\n",
    " - Assume that you want to detect 0.5 standard deviation difference in population means\n",
    " - You limit the chances of falsey declaring population means to be different to 1 out of 100\n",
    " - You can only afford to include 40 participants in the study\n",
    "\n",
    "__Question__: \n",
    " - What is the probability to detect a difference between the population means that is that large, given the above constraints?"
   ]
  },
  {
   "cell_type": "code",
   "execution_count": 16,
   "metadata": {},
   "outputs": [
    {
     "data": {
      "text/plain": [
       "0.1439550828602357"
      ]
     },
     "execution_count": 16,
     "metadata": {},
     "output_type": "execute_result"
    }
   ],
   "source": [
    "power.TTestIndPower().solve_power(0.5, nobs1=20, ratio=1, \n",
    "                                  alpha=0.01, \n",
    "                                  alternative='two-sided')"
   ]
  },
  {
   "cell_type": "markdown",
   "metadata": {},
   "source": [
    "effect_size = effect size \n",
    "nobs1 = sample size\n",
    "alpha = alpha (Type 1 error probability)\n",
    "power = probability of detecting the effect size h"
   ]
  },
  {
   "cell_type": "code",
   "execution_count": 5,
   "metadata": {},
   "outputs": [
    {
     "data": {
      "text/plain": [
       "0.11796242689976899"
      ]
     },
     "execution_count": 5,
     "metadata": {},
     "output_type": "execute_result"
    }
   ],
   "source": [
    "power.NormalIndPower().solve_power(effect_size =0.13, nobs1=25, alpha=0.05, alternative='larger')"
   ]
  },
  {
   "cell_type": "code",
   "execution_count": 6,
   "metadata": {},
   "outputs": [
    {
     "data": {
      "text/plain": [
       "636.6099054591526"
      ]
     },
     "execution_count": 6,
     "metadata": {},
     "output_type": "execute_result"
    }
   ],
   "source": [
    "power.NormalIndPower().solve_power(0.13, power=0.75, alpha=0.05, alternative='larger')"
   ]
  },
  {
   "cell_type": "code",
   "execution_count": 7,
   "metadata": {},
   "outputs": [
    {
     "data": {
      "text/plain": [
       "0.41828910270577535"
      ]
     },
     "execution_count": 7,
     "metadata": {},
     "output_type": "execute_result"
    }
   ],
   "source": [
    "power.NormalIndPower().solve_power(0.13, nobs1=25, power=0.60, alternative='larger')"
   ]
  },
  {
   "cell_type": "code",
   "execution_count": null,
   "metadata": {},
   "outputs": [],
   "source": []
  }
 ],
 "metadata": {
  "kernelspec": {
   "display_name": "Python 3",
   "language": "python",
   "name": "python3"
  },
  "language_info": {
   "codemirror_mode": {
    "name": "ipython",
    "version": 3
   },
   "file_extension": ".py",
   "mimetype": "text/x-python",
   "name": "python",
   "nbconvert_exporter": "python",
   "pygments_lexer": "ipython3",
   "version": "3.6.4"
  }
 },
 "nbformat": 4,
 "nbformat_minor": 2
}
